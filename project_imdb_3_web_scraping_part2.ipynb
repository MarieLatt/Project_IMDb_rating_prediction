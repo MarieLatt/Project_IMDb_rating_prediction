{
 "cells": [
  {
   "cell_type": "code",
   "execution_count": 1,
   "metadata": {},
   "outputs": [],
   "source": [
    "import requests\n",
    "from bs4 import BeautifulSoup\n",
    "import pandas as pd\n",
    "import time\n",
    "import numpy as np\n",
    "import re"
   ]
  },
  {
   "cell_type": "code",
   "execution_count": 2,
   "metadata": {},
   "outputs": [],
   "source": [
    "def status_check(url):\n",
    "    import requests\n",
    "    r=requests.get(url)\n",
    "    if r.status_code<300:\n",
    "        print(\"request was successful\")\n",
    "    elif r.status_code>=400 and r.status_code<500:\n",
    "        print('request failed because it is non-existant or forbidden')\n",
    "    else: print('blablabla')\n",
    "    return r"
   ]
  },
  {
   "cell_type": "code",
   "execution_count": 3,
   "metadata": {},
   "outputs": [],
   "source": [
    "def get_soup(url):\n",
    "    r=status_check(url)\n",
    "    soup = BeautifulSoup(r.content)\n",
    "    return soup"
   ]
  },
  {
   "cell_type": "code",
   "execution_count": 4,
   "metadata": {},
   "outputs": [],
   "source": [
    "def get_stars(soup):\n",
    "    if len(soup.select('h4:contains(\"Stars\")~a'))>1:\n",
    "        stars= [i.text for i in soup.select('h4:contains(\"Stars\")~a')[:-1]]\n",
    "    else:\n",
    "        stars = np.nan\n",
    "    return stars"
   ]
  },
  {
   "cell_type": "code",
   "execution_count": 5,
   "metadata": {},
   "outputs": [],
   "source": [
    "def get_writer(soup):\n",
    "    if len(soup.select('h4:contains(\"Writer\")+a'))>0:\n",
    "        writer = soup.select('h4:contains(\"Writer\")+a')[0].text\n",
    "    else:\n",
    "        writer = np.nan\n",
    "    return writer"
   ]
  },
  {
   "cell_type": "code",
   "execution_count": 6,
   "metadata": {},
   "outputs": [],
   "source": [
    "def get_popularity(soup):\n",
    "    if len(soup.select('div:contains(\"Popularity\")+div>span'))>0:\n",
    "        popularity = soup.select('div:contains(\"Popularity\")+div>span')[0].text.strip()\n",
    "    else:\n",
    "        popularity = np.nan\n",
    "    return popularity"
   ]
  },
  {
   "cell_type": "code",
   "execution_count": 7,
   "metadata": {},
   "outputs": [],
   "source": [
    "def get_keywords(soup):\n",
    "    if len(soup.select('h4:contains(\"Keywords\")~a'))>0:\n",
    "        plot_keywords = [i.text for i in soup.select('h4:contains(\"Keywords\")~a')]\n",
    "    else:\n",
    "        plot_keywords = np.nan\n",
    "    return plot_keywords"
   ]
  },
  {
   "cell_type": "code",
   "execution_count": 8,
   "metadata": {},
   "outputs": [],
   "source": [
    "def get_languages(soup):\n",
    "    if len(soup.select('h4:contains(\"Language\")~a'))>0:\n",
    "        languages = [i.text for i in soup.select('h4:contains(\"Language\")~a')]\n",
    "    else:\n",
    "        languages = np.nan\n",
    "    return languages"
   ]
  },
  {
   "cell_type": "code",
   "execution_count": 9,
   "metadata": {},
   "outputs": [],
   "source": [
    "def get_country(soup):\n",
    "    if len(soup.select('h4:contains(\"Country\")+a'))>0:\n",
    "        country = soup.select('h4:contains(\"Country\")+a')[0].text\n",
    "    else:\n",
    "        country = np.nan\n",
    "    return country"
   ]
  },
  {
   "cell_type": "code",
   "execution_count": 10,
   "metadata": {},
   "outputs": [],
   "source": [
    "def get_budget(soup):\n",
    "    if len(soup.select('div.txt-block:contains(\"Budget\")'))>0:\n",
    "        test=soup.select('div.txt-block:contains(\"Budget\")')[0].text\n",
    "        budget=re.findall('Budget:\\$([\\d\\,]*)',test)\n",
    "    else:\n",
    "        budget = np.nan\n",
    "    return budget"
   ]
  },
  {
   "cell_type": "code",
   "execution_count": 11,
   "metadata": {},
   "outputs": [],
   "source": [
    "def get_cum_gross(soup):\n",
    "    if len(soup.select('div.txt-block:contains(\"Worldwide\")'))>0:\n",
    "        test2=soup.select('div.txt-block:contains(\"Worldwide\")')[0].text\n",
    "        gross=re.findall('Gross: \\$([\\d\\,]*)',test2)\n",
    "    else:\n",
    "        gross = np.nan\n",
    "    return gross"
   ]
  },
  {
   "cell_type": "code",
   "execution_count": 12,
   "metadata": {},
   "outputs": [],
   "source": [
    "df1=pd.read_csv('movies_imdb.csv')"
   ]
  },
  {
   "cell_type": "code",
   "execution_count": 13,
   "metadata": {},
   "outputs": [
    {
     "data": {
      "text/html": [
       "<div>\n",
       "<style scoped>\n",
       "    .dataframe tbody tr th:only-of-type {\n",
       "        vertical-align: middle;\n",
       "    }\n",
       "\n",
       "    .dataframe tbody tr th {\n",
       "        vertical-align: top;\n",
       "    }\n",
       "\n",
       "    .dataframe thead th {\n",
       "        text-align: right;\n",
       "    }\n",
       "</style>\n",
       "<table border=\"1\" class=\"dataframe\">\n",
       "  <thead>\n",
       "    <tr style=\"text-align: right;\">\n",
       "      <th></th>\n",
       "      <th>movie</th>\n",
       "      <th>year</th>\n",
       "      <th>imdbID</th>\n",
       "      <th>genre</th>\n",
       "      <th>runtime</th>\n",
       "      <th>rating</th>\n",
       "      <th>metascore</th>\n",
       "      <th>director</th>\n",
       "      <th>votes</th>\n",
       "      <th>gross</th>\n",
       "    </tr>\n",
       "  </thead>\n",
       "  <tbody>\n",
       "    <tr>\n",
       "      <th>0</th>\n",
       "      <td>The Dark Knight: Le chevalier noir</td>\n",
       "      <td>(2008)</td>\n",
       "      <td>/title/tt0468569/</td>\n",
       "      <td>\\nAction, Crime, Drama</td>\n",
       "      <td>152 min</td>\n",
       "      <td>9.0</td>\n",
       "      <td>84.0</td>\n",
       "      <td>Christopher Nolan</td>\n",
       "      <td>2,161,024</td>\n",
       "      <td>$534.86M</td>\n",
       "    </tr>\n",
       "    <tr>\n",
       "      <th>1</th>\n",
       "      <td>Inception</td>\n",
       "      <td>(2010)</td>\n",
       "      <td>/title/tt1375666/</td>\n",
       "      <td>\\nAction, Adventure, Sci-Fi</td>\n",
       "      <td>148 min</td>\n",
       "      <td>8.8</td>\n",
       "      <td>74.0</td>\n",
       "      <td>Christopher Nolan</td>\n",
       "      <td>1,909,234</td>\n",
       "      <td>$292.58M</td>\n",
       "    </tr>\n",
       "    <tr>\n",
       "      <th>2</th>\n",
       "      <td>Le seigneur des anneaux: La communauté de l'an...</td>\n",
       "      <td>(2001)</td>\n",
       "      <td>/title/tt0120737/</td>\n",
       "      <td>\\nAdventure, Drama, Fantasy</td>\n",
       "      <td>178 min</td>\n",
       "      <td>8.8</td>\n",
       "      <td>92.0</td>\n",
       "      <td>Peter Jackson</td>\n",
       "      <td>1,561,138</td>\n",
       "      <td>$315.54M</td>\n",
       "    </tr>\n",
       "    <tr>\n",
       "      <th>3</th>\n",
       "      <td>Le seigneur des anneaux: Le retour du roi</td>\n",
       "      <td>(2003)</td>\n",
       "      <td>/title/tt0167260/</td>\n",
       "      <td>\\nAdventure, Drama, Fantasy</td>\n",
       "      <td>201 min</td>\n",
       "      <td>8.9</td>\n",
       "      <td>94.0</td>\n",
       "      <td>Peter Jackson</td>\n",
       "      <td>1,549,252</td>\n",
       "      <td>$377.85M</td>\n",
       "    </tr>\n",
       "    <tr>\n",
       "      <th>4</th>\n",
       "      <td>The Dark Knight Rises</td>\n",
       "      <td>(2012)</td>\n",
       "      <td>/title/tt1345836/</td>\n",
       "      <td>\\nAction, Thriller</td>\n",
       "      <td>164 min</td>\n",
       "      <td>8.4</td>\n",
       "      <td>78.0</td>\n",
       "      <td>Christopher Nolan</td>\n",
       "      <td>1,431,808</td>\n",
       "      <td>$448.14M</td>\n",
       "    </tr>\n",
       "  </tbody>\n",
       "</table>\n",
       "</div>"
      ],
      "text/plain": [
       "                                               movie    year  \\\n",
       "0                 The Dark Knight: Le chevalier noir  (2008)   \n",
       "1                                          Inception  (2010)   \n",
       "2  Le seigneur des anneaux: La communauté de l'an...  (2001)   \n",
       "3          Le seigneur des anneaux: Le retour du roi  (2003)   \n",
       "4                              The Dark Knight Rises  (2012)   \n",
       "\n",
       "              imdbID                                    genre  runtime  \\\n",
       "0  /title/tt0468569/       \\nAction, Crime, Drama              152 min   \n",
       "1  /title/tt1375666/  \\nAction, Adventure, Sci-Fi              148 min   \n",
       "2  /title/tt0120737/  \\nAdventure, Drama, Fantasy              178 min   \n",
       "3  /title/tt0167260/  \\nAdventure, Drama, Fantasy              201 min   \n",
       "4  /title/tt1345836/           \\nAction, Thriller              164 min   \n",
       "\n",
       "   rating  metascore           director      votes     gross  \n",
       "0     9.0       84.0  Christopher Nolan  2,161,024  $534.86M  \n",
       "1     8.8       74.0  Christopher Nolan  1,909,234  $292.58M  \n",
       "2     8.8       92.0      Peter Jackson  1,561,138  $315.54M  \n",
       "3     8.9       94.0      Peter Jackson  1,549,252  $377.85M  \n",
       "4     8.4       78.0  Christopher Nolan  1,431,808  $448.14M  "
      ]
     },
     "execution_count": 13,
     "metadata": {},
     "output_type": "execute_result"
    }
   ],
   "source": [
    "df1.head()"
   ]
  },
  {
   "cell_type": "code",
   "execution_count": 14,
   "metadata": {},
   "outputs": [
    {
     "data": {
      "text/plain": [
       "(6735, 10)"
      ]
     },
     "execution_count": 14,
     "metadata": {},
     "output_type": "execute_result"
    }
   ],
   "source": [
    "df1.shape"
   ]
  },
  {
   "cell_type": "code",
   "execution_count": 15,
   "metadata": {},
   "outputs": [],
   "source": [
    "ID_list = df1.imdbID.to_list()"
   ]
  },
  {
   "cell_type": "code",
   "execution_count": 16,
   "metadata": {},
   "outputs": [],
   "source": [
    "ll=[]\n",
    "n=1"
   ]
  },
  {
   "cell_type": "code",
   "execution_count": null,
   "metadata": {},
   "outputs": [],
   "source": [
    "for ID in ID_list:\n",
    "    row = [ID]\n",
    "    url='https://www.imdb.com'+ID\n",
    "    print(n)\n",
    "    soup = get_soup(url)\n",
    "    row.append(get_stars(soup))\n",
    "    row.append(get_writer(soup))\n",
    "    row.append(get_popularity(soup))\n",
    "    row.append(get_keywords(soup))\n",
    "    row.append(get_languages(soup))\n",
    "    row.append(get_country(soup))\n",
    "    row.append(get_budget(soup))\n",
    "    row.append(get_cum_gross(soup))\n",
    "    ll.append(row)\n",
    "    n+=1\n",
    "    time.sleep(0.5)"
   ]
  },
  {
   "cell_type": "code",
   "execution_count": 140,
   "metadata": {},
   "outputs": [],
   "source": [
    "df2=pd.DataFrame(ll)"
   ]
  },
  {
   "cell_type": "code",
   "execution_count": 141,
   "metadata": {},
   "outputs": [],
   "source": [
    "df2.columns=['imdbID','stars','writer','popularity','plot_keywords','languages','country','budget','cum_worldwide_gross']"
   ]
  },
  {
   "cell_type": "code",
   "execution_count": 142,
   "metadata": {},
   "outputs": [],
   "source": [
    "df2.to_csv('movies_imdb_more_info.csv', index=False)"
   ]
  },
  {
   "cell_type": "code",
   "execution_count": 146,
   "metadata": {},
   "outputs": [
    {
     "data": {
      "text/html": [
       "<div>\n",
       "<style scoped>\n",
       "    .dataframe tbody tr th:only-of-type {\n",
       "        vertical-align: middle;\n",
       "    }\n",
       "\n",
       "    .dataframe tbody tr th {\n",
       "        vertical-align: top;\n",
       "    }\n",
       "\n",
       "    .dataframe thead th {\n",
       "        text-align: right;\n",
       "    }\n",
       "</style>\n",
       "<table border=\"1\" class=\"dataframe\">\n",
       "  <thead>\n",
       "    <tr style=\"text-align: right;\">\n",
       "      <th></th>\n",
       "      <th>imdbID</th>\n",
       "      <th>stars</th>\n",
       "      <th>writer</th>\n",
       "      <th>popularity</th>\n",
       "      <th>plot_keywords</th>\n",
       "      <th>languages</th>\n",
       "      <th>country</th>\n",
       "      <th>budget</th>\n",
       "      <th>cum_worldwide_gross</th>\n",
       "    </tr>\n",
       "  </thead>\n",
       "  <tbody>\n",
       "    <tr>\n",
       "      <th>0</th>\n",
       "      <td>/title/tt0468569/</td>\n",
       "      <td>[Christian Bale, Heath Ledger, Aaron Eckhart]</td>\n",
       "      <td>Jonathan Nolan</td>\n",
       "      <td>125\\n      ( 36)</td>\n",
       "      <td>[ dc comics,  joker,  psychopath,  clown,  cri...</td>\n",
       "      <td>[English, Mandarin]</td>\n",
       "      <td>USA</td>\n",
       "      <td>[185,000,000]</td>\n",
       "      <td>[1,004,934,033]</td>\n",
       "    </tr>\n",
       "    <tr>\n",
       "      <th>1</th>\n",
       "      <td>/title/tt1375666/</td>\n",
       "      <td>[Leonardo DiCaprio, Joseph Gordon-Levitt, Elle...</td>\n",
       "      <td>Christopher Nolan</td>\n",
       "      <td>89\\n      ( 68)</td>\n",
       "      <td>[ dream,  subconscious,  ambiguous ending,  th...</td>\n",
       "      <td>[English, Japanese, French]</td>\n",
       "      <td>USA</td>\n",
       "      <td>[160,000,000]</td>\n",
       "      <td>[829,895,144]</td>\n",
       "    </tr>\n",
       "    <tr>\n",
       "      <th>2</th>\n",
       "      <td>/title/tt0120737/</td>\n",
       "      <td>[Elijah Wood, Ian McKellen, Orlando Bloom]</td>\n",
       "      <td>J.R.R. Tolkien</td>\n",
       "      <td>113\\n      ( 14)</td>\n",
       "      <td>[ ring,  quest,  hobbit,  elf,  orc]</td>\n",
       "      <td>[English, Sindarin]</td>\n",
       "      <td>New Zealand</td>\n",
       "      <td>[93,000,000]</td>\n",
       "      <td>[872,491,916]</td>\n",
       "    </tr>\n",
       "    <tr>\n",
       "      <th>3</th>\n",
       "      <td>/title/tt0167260/</td>\n",
       "      <td>[Elijah Wood, Viggo Mortensen, Ian McKellen]</td>\n",
       "      <td>J.R.R. Tolkien</td>\n",
       "      <td>173\\n      ( 63)</td>\n",
       "      <td>[ orc,  epic,  battle,  journey,  hobbit]</td>\n",
       "      <td>[English, Quenya, Old English, Sindarin]</td>\n",
       "      <td>New Zealand</td>\n",
       "      <td>[94,000,000]</td>\n",
       "      <td>[1,120,424,614]</td>\n",
       "    </tr>\n",
       "    <tr>\n",
       "      <th>4</th>\n",
       "      <td>/title/tt1345836/</td>\n",
       "      <td>[Christian Bale, Tom Hardy, Anne Hathaway]</td>\n",
       "      <td>Jonathan Nolan</td>\n",
       "      <td>175\\n      ( 171)</td>\n",
       "      <td>[ dc comics,  batman character,  terrorist plo...</td>\n",
       "      <td>[English, Arabic]</td>\n",
       "      <td>UK</td>\n",
       "      <td>[250,000,000]</td>\n",
       "      <td>[1,081,041,287]</td>\n",
       "    </tr>\n",
       "  </tbody>\n",
       "</table>\n",
       "</div>"
      ],
      "text/plain": [
       "              imdbID                                              stars  \\\n",
       "0  /title/tt0468569/      [Christian Bale, Heath Ledger, Aaron Eckhart]   \n",
       "1  /title/tt1375666/  [Leonardo DiCaprio, Joseph Gordon-Levitt, Elle...   \n",
       "2  /title/tt0120737/         [Elijah Wood, Ian McKellen, Orlando Bloom]   \n",
       "3  /title/tt0167260/       [Elijah Wood, Viggo Mortensen, Ian McKellen]   \n",
       "4  /title/tt1345836/         [Christian Bale, Tom Hardy, Anne Hathaway]   \n",
       "\n",
       "              writer         popularity  \\\n",
       "0     Jonathan Nolan   125\\n      ( 36)   \n",
       "1  Christopher Nolan    89\\n      ( 68)   \n",
       "2     J.R.R. Tolkien   113\\n      ( 14)   \n",
       "3     J.R.R. Tolkien   173\\n      ( 63)   \n",
       "4     Jonathan Nolan  175\\n      ( 171)   \n",
       "\n",
       "                                       plot_keywords  \\\n",
       "0  [ dc comics,  joker,  psychopath,  clown,  cri...   \n",
       "1  [ dream,  subconscious,  ambiguous ending,  th...   \n",
       "2               [ ring,  quest,  hobbit,  elf,  orc]   \n",
       "3          [ orc,  epic,  battle,  journey,  hobbit]   \n",
       "4  [ dc comics,  batman character,  terrorist plo...   \n",
       "\n",
       "                                  languages      country         budget  \\\n",
       "0                       [English, Mandarin]          USA  [185,000,000]   \n",
       "1               [English, Japanese, French]          USA  [160,000,000]   \n",
       "2                       [English, Sindarin]  New Zealand   [93,000,000]   \n",
       "3  [English, Quenya, Old English, Sindarin]  New Zealand   [94,000,000]   \n",
       "4                         [English, Arabic]           UK  [250,000,000]   \n",
       "\n",
       "  cum_worldwide_gross  \n",
       "0     [1,004,934,033]  \n",
       "1       [829,895,144]  \n",
       "2       [872,491,916]  \n",
       "3     [1,120,424,614]  \n",
       "4     [1,081,041,287]  "
      ]
     },
     "execution_count": 146,
     "metadata": {},
     "output_type": "execute_result"
    }
   ],
   "source": [
    "df2.head()"
   ]
  },
  {
   "cell_type": "code",
   "execution_count": null,
   "metadata": {},
   "outputs": [],
   "source": []
  }
 ],
 "metadata": {
  "kernelspec": {
   "display_name": "Python 3",
   "language": "python",
   "name": "python3"
  },
  "language_info": {
   "codemirror_mode": {
    "name": "ipython",
    "version": 3
   },
   "file_extension": ".py",
   "mimetype": "text/x-python",
   "name": "python",
   "nbconvert_exporter": "python",
   "pygments_lexer": "ipython3",
   "version": "3.7.3"
  }
 },
 "nbformat": 4,
 "nbformat_minor": 2
}
