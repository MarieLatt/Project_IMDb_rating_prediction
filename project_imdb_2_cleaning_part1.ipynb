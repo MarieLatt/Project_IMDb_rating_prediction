{
 "cells": [
  {
   "cell_type": "code",
   "execution_count": 1,
   "metadata": {},
   "outputs": [],
   "source": [
    "import pandas as pd\n",
    "import numpy as np"
   ]
  },
  {
   "cell_type": "code",
   "execution_count": 2,
   "metadata": {},
   "outputs": [],
   "source": [
    "df = pd.read_csv('movies_imdb_messy.csv')"
   ]
  },
  {
   "cell_type": "code",
   "execution_count": 3,
   "metadata": {},
   "outputs": [
    {
     "data": {
      "text/html": [
       "<div>\n",
       "<style scoped>\n",
       "    .dataframe tbody tr th:only-of-type {\n",
       "        vertical-align: middle;\n",
       "    }\n",
       "\n",
       "    .dataframe tbody tr th {\n",
       "        vertical-align: top;\n",
       "    }\n",
       "\n",
       "    .dataframe thead th {\n",
       "        text-align: right;\n",
       "    }\n",
       "</style>\n",
       "<table border=\"1\" class=\"dataframe\">\n",
       "  <thead>\n",
       "    <tr style=\"text-align: right;\">\n",
       "      <th></th>\n",
       "      <th>movie</th>\n",
       "      <th>year</th>\n",
       "      <th>imdbID</th>\n",
       "      <th>certificate</th>\n",
       "      <th>genre</th>\n",
       "      <th>runtime</th>\n",
       "      <th>rating</th>\n",
       "      <th>metascore</th>\n",
       "      <th>director</th>\n",
       "      <th>votes</th>\n",
       "      <th>gross</th>\n",
       "    </tr>\n",
       "  </thead>\n",
       "  <tbody>\n",
       "    <tr>\n",
       "      <th>0</th>\n",
       "      <td>The Dark Knight: Le chevalier noir</td>\n",
       "      <td>(2008)</td>\n",
       "      <td>/title/tt0468569/</td>\n",
       "      <td>Tous publics</td>\n",
       "      <td>\\nAction, Crime, Drama</td>\n",
       "      <td>152 min</td>\n",
       "      <td>9.0</td>\n",
       "      <td>84.0</td>\n",
       "      <td>Christopher Nolan</td>\n",
       "      <td>2,161,024</td>\n",
       "      <td>$534.86M</td>\n",
       "    </tr>\n",
       "    <tr>\n",
       "      <th>1</th>\n",
       "      <td>Inception</td>\n",
       "      <td>(2010)</td>\n",
       "      <td>/title/tt1375666/</td>\n",
       "      <td>Tous publics</td>\n",
       "      <td>\\nAction, Adventure, Sci-Fi</td>\n",
       "      <td>148 min</td>\n",
       "      <td>8.8</td>\n",
       "      <td>74.0</td>\n",
       "      <td>Christopher Nolan</td>\n",
       "      <td>1,909,234</td>\n",
       "      <td>$292.58M</td>\n",
       "    </tr>\n",
       "    <tr>\n",
       "      <th>2</th>\n",
       "      <td>Le seigneur des anneaux: La communauté de l'an...</td>\n",
       "      <td>(2001)</td>\n",
       "      <td>/title/tt0120737/</td>\n",
       "      <td>Tous publics</td>\n",
       "      <td>\\nAdventure, Drama, Fantasy</td>\n",
       "      <td>178 min</td>\n",
       "      <td>8.8</td>\n",
       "      <td>92.0</td>\n",
       "      <td>Peter Jackson</td>\n",
       "      <td>1,561,138</td>\n",
       "      <td>$315.54M</td>\n",
       "    </tr>\n",
       "    <tr>\n",
       "      <th>3</th>\n",
       "      <td>Le seigneur des anneaux: Le retour du roi</td>\n",
       "      <td>(2003)</td>\n",
       "      <td>/title/tt0167260/</td>\n",
       "      <td>Tous publics</td>\n",
       "      <td>\\nAdventure, Drama, Fantasy</td>\n",
       "      <td>201 min</td>\n",
       "      <td>8.9</td>\n",
       "      <td>94.0</td>\n",
       "      <td>Peter Jackson</td>\n",
       "      <td>1,549,252</td>\n",
       "      <td>$377.85M</td>\n",
       "    </tr>\n",
       "    <tr>\n",
       "      <th>4</th>\n",
       "      <td>The Dark Knight Rises</td>\n",
       "      <td>(2012)</td>\n",
       "      <td>/title/tt1345836/</td>\n",
       "      <td>Tous publics</td>\n",
       "      <td>\\nAction, Thriller</td>\n",
       "      <td>164 min</td>\n",
       "      <td>8.4</td>\n",
       "      <td>78.0</td>\n",
       "      <td>Christopher Nolan</td>\n",
       "      <td>1,431,808</td>\n",
       "      <td>$448.14M</td>\n",
       "    </tr>\n",
       "  </tbody>\n",
       "</table>\n",
       "</div>"
      ],
      "text/plain": [
       "                                               movie    year  \\\n",
       "0                 The Dark Knight: Le chevalier noir  (2008)   \n",
       "1                                          Inception  (2010)   \n",
       "2  Le seigneur des anneaux: La communauté de l'an...  (2001)   \n",
       "3          Le seigneur des anneaux: Le retour du roi  (2003)   \n",
       "4                              The Dark Knight Rises  (2012)   \n",
       "\n",
       "              imdbID   certificate                                    genre  \\\n",
       "0  /title/tt0468569/  Tous publics       \\nAction, Crime, Drama               \n",
       "1  /title/tt1375666/  Tous publics  \\nAction, Adventure, Sci-Fi               \n",
       "2  /title/tt0120737/  Tous publics  \\nAdventure, Drama, Fantasy               \n",
       "3  /title/tt0167260/  Tous publics  \\nAdventure, Drama, Fantasy               \n",
       "4  /title/tt1345836/  Tous publics           \\nAction, Thriller               \n",
       "\n",
       "   runtime  rating  metascore           director      votes     gross  \n",
       "0  152 min     9.0       84.0  Christopher Nolan  2,161,024  $534.86M  \n",
       "1  148 min     8.8       74.0  Christopher Nolan  1,909,234  $292.58M  \n",
       "2  178 min     8.8       92.0      Peter Jackson  1,561,138  $315.54M  \n",
       "3  201 min     8.9       94.0      Peter Jackson  1,549,252  $377.85M  \n",
       "4  164 min     8.4       78.0  Christopher Nolan  1,431,808  $448.14M  "
      ]
     },
     "execution_count": 3,
     "metadata": {},
     "output_type": "execute_result"
    }
   ],
   "source": [
    "df.head()"
   ]
  },
  {
   "cell_type": "code",
   "execution_count": 4,
   "metadata": {},
   "outputs": [
    {
     "data": {
      "text/plain": [
       "movie             0\n",
       "year              0\n",
       "imdbID            0\n",
       "certificate    2721\n",
       "genre             0\n",
       "runtime           1\n",
       "rating            0\n",
       "metascore      3339\n",
       "director          0\n",
       "votes             0\n",
       "gross          4044\n",
       "dtype: int64"
      ]
     },
     "execution_count": 4,
     "metadata": {},
     "output_type": "execute_result"
    }
   ],
   "source": [
    "df.isna().sum()"
   ]
  },
  {
   "cell_type": "markdown",
   "metadata": {},
   "source": [
    "### certificate"
   ]
  },
  {
   "cell_type": "code",
   "execution_count": 5,
   "metadata": {},
   "outputs": [
    {
     "data": {
      "text/plain": [
       "Tous publics                       62815\n",
       "12                                 10739\n",
       "PG-13                               2452\n",
       "R                                   2332\n",
       "16                                  1773\n",
       "Tous publics avec avertissement     1587\n",
       "PG                                   610\n",
       "12 avec avertissement                307\n",
       "Unrated                               38\n",
       "13                                    33\n",
       "18                                    21\n",
       "7                                     20\n",
       "G                                     19\n",
       "10                                    16\n",
       "Not Rated                             15\n",
       "NC-17                                  1\n",
       "Tous Publics                           1\n",
       "Name: certificate, dtype: int64"
      ]
     },
     "execution_count": 5,
     "metadata": {},
     "output_type": "execute_result"
    }
   ],
   "source": [
    "df.certificate.value_counts()"
   ]
  },
  {
   "cell_type": "markdown",
   "metadata": {},
   "source": [
    "- for the certificate, there are a lot of Nan values (~25%) \n",
    "- the value scraped corresponds to the french certificate but are not unique (for example: https://www.imdb.com/title/tt0328828/parentalguide?ref_=tt_stry_pg#certification : the value scraped is 'unrated' but there is also a value 'Tous publics' for france)\n",
    "\n",
    "- movies with no certification (Nan) have a certification in other countries (for example:\n",
    "https://www.imdb.com/title/tt0200465/parentalguide?ref_=tt_stry_pg#certification: the movie is R-rated in most countries whereas\n",
    "https://www.imdb.com/title/tt0780521/parentalguide?ref_=tt_stry_pg#certification is rated G (='tous publics') in most countries\n",
    "\n"
   ]
  },
  {
   "cell_type": "markdown",
   "metadata": {},
   "source": [
    "**the certificate column will not be representative of a movie: we can drop it**"
   ]
  },
  {
   "cell_type": "code",
   "execution_count": 6,
   "metadata": {},
   "outputs": [],
   "source": [
    "df.drop('certificate',axis = 1, inplace = True)"
   ]
  },
  {
   "cell_type": "markdown",
   "metadata": {},
   "source": [
    "### metascore"
   ]
  },
  {
   "cell_type": "code",
   "execution_count": 7,
   "metadata": {},
   "outputs": [
    {
     "data": {
      "text/plain": [
       "count    82161.000000\n",
       "mean        69.863402\n",
       "std         14.120393\n",
       "min          1.000000\n",
       "25%         61.000000\n",
       "50%         71.000000\n",
       "75%         80.000000\n",
       "max        100.000000\n",
       "Name: metascore, dtype: float64"
      ]
     },
     "execution_count": 7,
     "metadata": {},
     "output_type": "execute_result"
    }
   ],
   "source": [
    "df.metascore.describe()"
   ]
  },
  {
   "cell_type": "code",
   "execution_count": 8,
   "metadata": {},
   "outputs": [
    {
     "data": {
      "text/html": [
       "<div>\n",
       "<style scoped>\n",
       "    .dataframe tbody tr th:only-of-type {\n",
       "        vertical-align: middle;\n",
       "    }\n",
       "\n",
       "    .dataframe tbody tr th {\n",
       "        vertical-align: top;\n",
       "    }\n",
       "\n",
       "    .dataframe thead th {\n",
       "        text-align: right;\n",
       "    }\n",
       "</style>\n",
       "<table border=\"1\" class=\"dataframe\">\n",
       "  <thead>\n",
       "    <tr style=\"text-align: right;\">\n",
       "      <th></th>\n",
       "      <th>movie</th>\n",
       "      <th>year</th>\n",
       "      <th>imdbID</th>\n",
       "      <th>genre</th>\n",
       "      <th>runtime</th>\n",
       "      <th>rating</th>\n",
       "      <th>metascore</th>\n",
       "      <th>director</th>\n",
       "      <th>votes</th>\n",
       "      <th>gross</th>\n",
       "    </tr>\n",
       "  </thead>\n",
       "  <tbody>\n",
       "    <tr>\n",
       "      <th>440</th>\n",
       "      <td>Boulevard de la mort</td>\n",
       "      <td>(2007)</td>\n",
       "      <td>/title/tt1028528/</td>\n",
       "      <td>\\nThriller</td>\n",
       "      <td>113 min</td>\n",
       "      <td>7.0</td>\n",
       "      <td>NaN</td>\n",
       "      <td>Quentin Tarantino</td>\n",
       "      <td>254,616</td>\n",
       "      <td>NaN</td>\n",
       "    </tr>\n",
       "    <tr>\n",
       "      <th>507</th>\n",
       "      <td>Hatchi</td>\n",
       "      <td>(2009)</td>\n",
       "      <td>/title/tt1028532/</td>\n",
       "      <td>\\nDrama, Family</td>\n",
       "      <td>93 min</td>\n",
       "      <td>8.1</td>\n",
       "      <td>NaN</td>\n",
       "      <td>Lasse Hallström</td>\n",
       "      <td>233,052</td>\n",
       "      <td>NaN</td>\n",
       "    </tr>\n",
       "    <tr>\n",
       "      <th>658</th>\n",
       "      <td>Planète terreur</td>\n",
       "      <td>(2007)</td>\n",
       "      <td>/title/tt1077258/</td>\n",
       "      <td>\\nAction, Comedy, Horror</td>\n",
       "      <td>105 min</td>\n",
       "      <td>7.1</td>\n",
       "      <td>NaN</td>\n",
       "      <td>Robert Rodriguez</td>\n",
       "      <td>193,129</td>\n",
       "      <td>NaN</td>\n",
       "    </tr>\n",
       "    <tr>\n",
       "      <th>687</th>\n",
       "      <td>Le nombre 23</td>\n",
       "      <td>(2007)</td>\n",
       "      <td>/title/tt0481369/</td>\n",
       "      <td>\\nCrime, Mystery, Thriller</td>\n",
       "      <td>98 min</td>\n",
       "      <td>6.4</td>\n",
       "      <td>NaN</td>\n",
       "      <td>Joel Schumacher</td>\n",
       "      <td>187,256</td>\n",
       "      <td>$35.19M</td>\n",
       "    </tr>\n",
       "    <tr>\n",
       "      <th>802</th>\n",
       "      <td>The Man from Earth</td>\n",
       "      <td>(2007)</td>\n",
       "      <td>/title/tt0756683/</td>\n",
       "      <td>\\nDrama, Fantasy, Sci-Fi</td>\n",
       "      <td>87 min</td>\n",
       "      <td>7.9</td>\n",
       "      <td>NaN</td>\n",
       "      <td>Richard Schenkman</td>\n",
       "      <td>164,388</td>\n",
       "      <td>NaN</td>\n",
       "    </tr>\n",
       "  </tbody>\n",
       "</table>\n",
       "</div>"
      ],
      "text/plain": [
       "                    movie    year             imdbID  \\\n",
       "440  Boulevard de la mort  (2007)  /title/tt1028528/   \n",
       "507                Hatchi  (2009)  /title/tt1028532/   \n",
       "658       Planète terreur  (2007)  /title/tt1077258/   \n",
       "687          Le nombre 23  (2007)  /title/tt0481369/   \n",
       "802    The Man from Earth  (2007)  /title/tt0756683/   \n",
       "\n",
       "                                      genre  runtime  rating  metascore  \\\n",
       "440                  \\nThriller              113 min     7.0        NaN   \n",
       "507             \\nDrama, Family               93 min     8.1        NaN   \n",
       "658    \\nAction, Comedy, Horror              105 min     7.1        NaN   \n",
       "687  \\nCrime, Mystery, Thriller               98 min     6.4        NaN   \n",
       "802    \\nDrama, Fantasy, Sci-Fi               87 min     7.9        NaN   \n",
       "\n",
       "              director    votes    gross  \n",
       "440  Quentin Tarantino  254,616      NaN  \n",
       "507    Lasse Hallström  233,052      NaN  \n",
       "658   Robert Rodriguez  193,129      NaN  \n",
       "687    Joel Schumacher  187,256  $35.19M  \n",
       "802  Richard Schenkman  164,388      NaN  "
      ]
     },
     "execution_count": 8,
     "metadata": {},
     "output_type": "execute_result"
    }
   ],
   "source": [
    "df[df.metascore.isna()].head()"
   ]
  },
  {
   "cell_type": "markdown",
   "metadata": {},
   "source": [
    "- movies with Nan value for metascore don't have a metascore yet on metacritic because there are not enough reviews for the movie (needs to have 4 reviews)"
   ]
  },
  {
   "cell_type": "markdown",
   "metadata": {},
   "source": [
    "**we drop the movies that don't have metascore**"
   ]
  },
  {
   "cell_type": "code",
   "execution_count": 9,
   "metadata": {},
   "outputs": [],
   "source": [
    "df.dropna(subset=['metascore'], inplace=True)"
   ]
  },
  {
   "cell_type": "code",
   "execution_count": null,
   "metadata": {},
   "outputs": [],
   "source": []
  },
  {
   "cell_type": "code",
   "execution_count": 10,
   "metadata": {},
   "outputs": [
    {
     "data": {
      "text/plain": [
       "movie           0\n",
       "year            0\n",
       "imdbID          0\n",
       "genre           0\n",
       "runtime         0\n",
       "rating          0\n",
       "metascore       0\n",
       "director        0\n",
       "votes           0\n",
       "gross        1160\n",
       "dtype: int64"
      ]
     },
     "execution_count": 10,
     "metadata": {},
     "output_type": "execute_result"
    }
   ],
   "source": [
    "df.isna().sum()"
   ]
  },
  {
   "cell_type": "markdown",
   "metadata": {},
   "source": [
    "### gross"
   ]
  },
  {
   "cell_type": "markdown",
   "metadata": {},
   "source": [
    "- \"Cumulative Worldwide Gross\" is being scraped from each movie page: should have less missing values ?\n",
    "- we leave 'gross' as is for now"
   ]
  },
  {
   "cell_type": "code",
   "execution_count": 11,
   "metadata": {},
   "outputs": [],
   "source": [
    "df.to_csv('movies_imdb.csv', index=False)"
   ]
  },
  {
   "cell_type": "code",
   "execution_count": null,
   "metadata": {},
   "outputs": [],
   "source": []
  }
 ],
 "metadata": {
  "kernelspec": {
   "display_name": "Python 3",
   "language": "python",
   "name": "python3"
  },
  "language_info": {
   "codemirror_mode": {
    "name": "ipython",
    "version": 3
   },
   "file_extension": ".py",
   "mimetype": "text/x-python",
   "name": "python",
   "nbconvert_exporter": "python",
   "pygments_lexer": "ipython3",
   "version": "3.7.3"
  }
 },
 "nbformat": 4,
 "nbformat_minor": 2
}
