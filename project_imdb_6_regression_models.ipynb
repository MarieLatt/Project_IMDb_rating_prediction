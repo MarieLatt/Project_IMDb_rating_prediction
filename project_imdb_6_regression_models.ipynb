{
 "cells": [
  {
   "cell_type": "code",
   "execution_count": 1,
   "metadata": {},
   "outputs": [],
   "source": [
    "import pandas as pd\n",
    "import numpy as np\n",
    "import matplotlib.pyplot as plt\n",
    "\n",
    "%matplotlib inline"
   ]
  },
  {
   "cell_type": "code",
   "execution_count": 2,
   "metadata": {},
   "outputs": [],
   "source": [
    "df=pd.read_csv('imdb_cols_for_model.csv')"
   ]
  },
  {
   "cell_type": "markdown",
   "metadata": {},
   "source": [
    "## Scaling the data"
   ]
  },
  {
   "cell_type": "code",
   "execution_count": 3,
   "metadata": {},
   "outputs": [],
   "source": [
    "df2=df.copy()"
   ]
  },
  {
   "cell_type": "markdown",
   "metadata": {},
   "source": [
    "### runtime"
   ]
  },
  {
   "cell_type": "code",
   "execution_count": 4,
   "metadata": {},
   "outputs": [
    {
     "data": {
      "text/plain": [
       "count    6335.000000\n",
       "mean      106.546646\n",
       "std        17.870354\n",
       "min        63.000000\n",
       "25%        94.000000\n",
       "50%       104.000000\n",
       "75%       115.000000\n",
       "max       366.000000\n",
       "Name: runtime, dtype: float64"
      ]
     },
     "execution_count": 4,
     "metadata": {},
     "output_type": "execute_result"
    }
   ],
   "source": [
    "df2.runtime.describe()"
   ]
  },
  {
   "cell_type": "code",
   "execution_count": 5,
   "metadata": {
    "scrolled": true
   },
   "outputs": [
    {
     "data": {
      "text/plain": [
       "<matplotlib.axes._subplots.AxesSubplot at 0x9088be0>"
      ]
     },
     "execution_count": 5,
     "metadata": {},
     "output_type": "execute_result"
    },
    {
     "data": {
      "image/png": "[encoded data removed]",
      "text/plain": [
       "<Figure size 432x288 with 1 Axes>"
      ]
     },
     "metadata": {
      "needs_background": "light"
     },
     "output_type": "display_data"
    }
   ],
   "source": [
    "df2.runtime.hist(bins=20)"
   ]
  },
  {
   "cell_type": "code",
   "execution_count": 6,
   "metadata": {},
   "outputs": [],
   "source": [
    "# there are outliers: longest movie is 366 min (6h!!!)\n",
    "# we take the log"
   ]
  },
  {
   "cell_type": "code",
   "execution_count": 7,
   "metadata": {},
   "outputs": [],
   "source": [
    "df2.runtime=df2.runtime.apply(np.log)"
   ]
  },
  {
   "cell_type": "code",
   "execution_count": 8,
   "metadata": {},
   "outputs": [
    {
     "data": {
      "text/plain": [
       "count    6335.000000\n",
       "mean        4.656100\n",
       "std         0.154551\n",
       "min         4.143135\n",
       "25%         4.543295\n",
       "50%         4.644391\n",
       "75%         4.744932\n",
       "max         5.902633\n",
       "Name: runtime, dtype: float64"
      ]
     },
     "execution_count": 8,
     "metadata": {},
     "output_type": "execute_result"
    }
   ],
   "source": [
    "df2.runtime.describe()"
   ]
  },
  {
   "cell_type": "code",
   "execution_count": 9,
   "metadata": {
    "scrolled": true
   },
   "outputs": [
    {
     "data": {
      "text/plain": [
       "<matplotlib.axes._subplots.AxesSubplot at 0x9999400>"
      ]
     },
     "execution_count": 9,
     "metadata": {},
     "output_type": "execute_result"
    },
    {
     "data": {
      "image/png": "[encoded data removed]",
      "text/plain": [
       "<Figure size 432x288 with 1 Axes>"
      ]
     },
     "metadata": {
      "needs_background": "light"
     },
     "output_type": "display_data"
    }
   ],
   "source": [
    "df2.runtime.hist(bins=20)"
   ]
  },
  {
   "cell_type": "code",
   "execution_count": 10,
   "metadata": {},
   "outputs": [],
   "source": [
    "# we will use minmaxscaler\n",
    "minmax_cols = ['runtime']"
   ]
  },
  {
   "cell_type": "markdown",
   "metadata": {},
   "source": [
    "### rating"
   ]
  },
  {
   "cell_type": "code",
   "execution_count": 11,
   "metadata": {},
   "outputs": [
    {
     "data": {
      "text/plain": [
       "count    6335.000000\n",
       "mean        6.406219\n",
       "std         0.940703\n",
       "min         1.400000\n",
       "25%         5.800000\n",
       "50%         6.500000\n",
       "75%         7.100000\n",
       "max         9.000000\n",
       "Name: rating, dtype: float64"
      ]
     },
     "execution_count": 11,
     "metadata": {},
     "output_type": "execute_result"
    }
   ],
   "source": [
    "df2.rating.describe()"
   ]
  },
  {
   "cell_type": "code",
   "execution_count": 12,
   "metadata": {},
   "outputs": [
    {
     "data": {
      "text/plain": [
       "<matplotlib.axes._subplots.AxesSubplot at 0x9149908>"
      ]
     },
     "execution_count": 12,
     "metadata": {},
     "output_type": "execute_result"
    },
    {
     "data": {
      "image/png": "[encoded data removed]",
      "text/plain": [
       "<Figure size 432x288 with 1 Axes>"
      ]
     },
     "metadata": {
      "needs_background": "light"
     },
     "output_type": "display_data"
    }
   ],
   "source": [
    "df2.rating.hist(bins=20)"
   ]
  },
  {
   "cell_type": "code",
   "execution_count": 13,
   "metadata": {},
   "outputs": [],
   "source": [
    "# we divide by 10 to have values between 0 and 1 for the target like for the features"
   ]
  },
  {
   "cell_type": "code",
   "execution_count": 14,
   "metadata": {},
   "outputs": [],
   "source": [
    "df2.rating=df2.rating/10"
   ]
  },
  {
   "cell_type": "markdown",
   "metadata": {},
   "source": [
    "### metascore"
   ]
  },
  {
   "cell_type": "code",
   "execution_count": 15,
   "metadata": {},
   "outputs": [
    {
     "data": {
      "text/plain": [
       "count    6335.000000\n",
       "mean        0.552513\n",
       "std         0.175581\n",
       "min         0.010000\n",
       "25%         0.430000\n",
       "50%         0.560000\n",
       "75%         0.680000\n",
       "max         1.000000\n",
       "Name: metascore, dtype: float64"
      ]
     },
     "execution_count": 15,
     "metadata": {},
     "output_type": "execute_result"
    }
   ],
   "source": [
    "df2.metascore.describe()"
   ]
  },
  {
   "cell_type": "code",
   "execution_count": 16,
   "metadata": {},
   "outputs": [
    {
     "data": {
      "text/plain": [
       "<matplotlib.axes._subplots.AxesSubplot at 0x922fe10>"
      ]
     },
     "execution_count": 16,
     "metadata": {},
     "output_type": "execute_result"
    },
    {
     "data": {
      "image/png": "[encoded data removed]",
      "text/plain": [
       "<Figure size 432x288 with 1 Axes>"
      ]
     },
     "metadata": {
      "needs_background": "light"
     },
     "output_type": "display_data"
    }
   ],
   "source": [
    "df2.metascore.hist(bins=20)"
   ]
  },
  {
   "cell_type": "markdown",
   "metadata": {},
   "source": [
    "### votes"
   ]
  },
  {
   "cell_type": "code",
   "execution_count": 17,
   "metadata": {
    "scrolled": true
   },
   "outputs": [
    {
     "data": {
      "text/plain": [
       "count    6.335000e+03\n",
       "mean     7.424711e+04\n",
       "std      1.371200e+05\n",
       "min      2.711000e+03\n",
       "25%      7.706500e+03\n",
       "50%      2.324700e+04\n",
       "75%      7.790450e+04\n",
       "max      2.161024e+06\n",
       "Name: votes, dtype: float64"
      ]
     },
     "execution_count": 17,
     "metadata": {},
     "output_type": "execute_result"
    }
   ],
   "source": [
    "df2.votes.describe()"
   ]
  },
  {
   "cell_type": "code",
   "execution_count": 18,
   "metadata": {},
   "outputs": [
    {
     "data": {
      "text/plain": [
       "<matplotlib.axes._subplots.AxesSubplot at 0x92e2e10>"
      ]
     },
     "execution_count": 18,
     "metadata": {},
     "output_type": "execute_result"
    },
    {
     "data": {
      "image/png": "[encoded data removed]",
      "text/plain": [
       "<Figure size 432x288 with 1 Axes>"
      ]
     },
     "metadata": {
      "needs_background": "light"
     },
     "output_type": "display_data"
    }
   ],
   "source": [
    "df2.votes.hist(bins=20)"
   ]
  },
  {
   "cell_type": "code",
   "execution_count": 19,
   "metadata": {},
   "outputs": [],
   "source": [
    "# we need to take the log"
   ]
  },
  {
   "cell_type": "code",
   "execution_count": 20,
   "metadata": {},
   "outputs": [],
   "source": [
    "df2.votes=df2.votes.apply(np.log)"
   ]
  },
  {
   "cell_type": "code",
   "execution_count": 21,
   "metadata": {
    "scrolled": true
   },
   "outputs": [
    {
     "data": {
      "text/plain": [
       "count    6335.000000\n",
       "mean       10.176219\n",
       "std         1.436236\n",
       "min         7.905073\n",
       "25%         8.949819\n",
       "50%        10.053931\n",
       "75%        11.263239\n",
       "max        14.586093\n",
       "Name: votes, dtype: float64"
      ]
     },
     "execution_count": 21,
     "metadata": {},
     "output_type": "execute_result"
    }
   ],
   "source": [
    "df2.votes.describe()"
   ]
  },
  {
   "cell_type": "code",
   "execution_count": 22,
   "metadata": {},
   "outputs": [
    {
     "data": {
      "text/plain": [
       "<matplotlib.axes._subplots.AxesSubplot at 0x99991d0>"
      ]
     },
     "execution_count": 22,
     "metadata": {},
     "output_type": "execute_result"
    },
    {
     "data": {
      "image/png": "[encoded data removed]",
      "text/plain": [
       "<Figure size 432x288 with 1 Axes>"
      ]
     },
     "metadata": {
      "needs_background": "light"
     },
     "output_type": "display_data"
    }
   ],
   "source": [
    "df2.votes.hist(bins=20)"
   ]
  },
  {
   "cell_type": "code",
   "execution_count": 23,
   "metadata": {},
   "outputs": [],
   "source": [
    "# we will use minmaxscaler\n",
    "minmax_cols.append('votes')"
   ]
  },
  {
   "cell_type": "markdown",
   "metadata": {},
   "source": [
    "###  age"
   ]
  },
  {
   "cell_type": "code",
   "execution_count": 24,
   "metadata": {},
   "outputs": [
    {
     "data": {
      "text/plain": [
       "count    6335.000000\n",
       "mean       10.114601\n",
       "std         5.493757\n",
       "min         0.000000\n",
       "25%         5.000000\n",
       "50%        10.000000\n",
       "75%        15.000000\n",
       "max        20.000000\n",
       "Name: age, dtype: float64"
      ]
     },
     "execution_count": 24,
     "metadata": {},
     "output_type": "execute_result"
    }
   ],
   "source": [
    "df2.age.describe()"
   ]
  },
  {
   "cell_type": "code",
   "execution_count": 25,
   "metadata": {},
   "outputs": [
    {
     "data": {
      "text/plain": [
       "<matplotlib.axes._subplots.AxesSubplot at 0x9293550>"
      ]
     },
     "execution_count": 25,
     "metadata": {},
     "output_type": "execute_result"
    },
    {
     "data": {
      "image/png": "[encoded data removed]",
      "text/plain": [
       "<Figure size 432x288 with 1 Axes>"
      ]
     },
     "metadata": {
      "needs_background": "light"
     },
     "output_type": "display_data"
    }
   ],
   "source": [
    "df2.age.hist(bins=20)"
   ]
  },
  {
   "cell_type": "code",
   "execution_count": 26,
   "metadata": {},
   "outputs": [],
   "source": [
    "# distribution close to uniform \n",
    "# we divide by 20 to have values between 0 and 1"
   ]
  },
  {
   "cell_type": "code",
   "execution_count": 27,
   "metadata": {},
   "outputs": [],
   "source": [
    "df2.age=df2.age/20"
   ]
  },
  {
   "cell_type": "markdown",
   "metadata": {},
   "source": [
    "### log_cum_worldwide_gross"
   ]
  },
  {
   "cell_type": "code",
   "execution_count": 28,
   "metadata": {},
   "outputs": [
    {
     "data": {
      "text/plain": [
       "count    6335.000000\n",
       "mean       15.882624\n",
       "std         2.739749\n",
       "min         4.553877\n",
       "25%        14.021656\n",
       "50%        16.282271\n",
       "75%        18.022586\n",
       "max        21.752099\n",
       "Name: log_cum_worldwide_gross, dtype: float64"
      ]
     },
     "execution_count": 28,
     "metadata": {},
     "output_type": "execute_result"
    }
   ],
   "source": [
    "df2.log_cum_worldwide_gross.describe()"
   ]
  },
  {
   "cell_type": "code",
   "execution_count": 29,
   "metadata": {},
   "outputs": [
    {
     "data": {
      "text/plain": [
       "<matplotlib.axes._subplots.AxesSubplot at 0x9f22550>"
      ]
     },
     "execution_count": 29,
     "metadata": {},
     "output_type": "execute_result"
    },
    {
     "data": {
      "image/png": "[encoded data removed]",
      "text/plain": [
       "<Figure size 432x288 with 1 Axes>"
      ]
     },
     "metadata": {
      "needs_background": "light"
     },
     "output_type": "display_data"
    }
   ],
   "source": [
    "df2.log_cum_worldwide_gross.hist(bins=20)"
   ]
  },
  {
   "cell_type": "code",
   "execution_count": 30,
   "metadata": {},
   "outputs": [],
   "source": [
    "minmax_cols.append('log_cum_worldwide_gross')"
   ]
  },
  {
   "cell_type": "code",
   "execution_count": null,
   "metadata": {},
   "outputs": [],
   "source": []
  },
  {
   "cell_type": "code",
   "execution_count": 31,
   "metadata": {},
   "outputs": [],
   "source": [
    "from sklearn.preprocessing import MinMaxScaler"
   ]
  },
  {
   "cell_type": "code",
   "execution_count": 32,
   "metadata": {},
   "outputs": [],
   "source": [
    "scaler = MinMaxScaler()"
   ]
  },
  {
   "cell_type": "code",
   "execution_count": 33,
   "metadata": {},
   "outputs": [],
   "source": [
    "df2[minmax_cols]=scaler.fit_transform(df2[minmax_cols])"
   ]
  },
  {
   "cell_type": "code",
   "execution_count": null,
   "metadata": {},
   "outputs": [],
   "source": []
  },
  {
   "cell_type": "markdown",
   "metadata": {},
   "source": [
    "## One Hot Encoding"
   ]
  },
  {
   "cell_type": "markdown",
   "metadata": {},
   "source": [
    "-  we need to transform the categorical columns into dummies"
   ]
  },
  {
   "cell_type": "code",
   "execution_count": 34,
   "metadata": {},
   "outputs": [],
   "source": [
    "cols_to_dummies=['writer_category', 'director_category', 'country_category']"
   ]
  },
  {
   "cell_type": "code",
   "execution_count": 35,
   "metadata": {},
   "outputs": [],
   "source": [
    "df2_ohe=pd.get_dummies(data=df2,prefix=['writer', 'director', 'country'],columns=cols_to_dummies, drop_first=True)"
   ]
  },
  {
   "cell_type": "code",
   "execution_count": 36,
   "metadata": {},
   "outputs": [],
   "source": [
    "y=df2_ohe.rating"
   ]
  },
  {
   "cell_type": "code",
   "execution_count": 37,
   "metadata": {},
   "outputs": [],
   "source": [
    "X=df2_ohe.drop('rating', axis=1)"
   ]
  },
  {
   "cell_type": "markdown",
   "metadata": {},
   "source": [
    "## split data into trainig (80%) and testing (20%) sets"
   ]
  },
  {
   "cell_type": "code",
   "execution_count": 38,
   "metadata": {},
   "outputs": [],
   "source": [
    "from sklearn.model_selection import train_test_split\n",
    "X_train, X_test, y_train, y_test=train_test_split(X,y, random_state=42)"
   ]
  },
  {
   "cell_type": "markdown",
   "metadata": {},
   "source": [
    "## Functions to calculate the metrics "
   ]
  },
  {
   "cell_type": "code",
   "execution_count": 39,
   "metadata": {},
   "outputs": [],
   "source": [
    "def r_square(y,y_pred):\n",
    "    from sklearn.metrics import r2_score\n",
    "    score=r2_score(y,y_pred)\n",
    "    return score"
   ]
  },
  {
   "cell_type": "code",
   "execution_count": 40,
   "metadata": {},
   "outputs": [],
   "source": [
    "def mse(y,y_pred):\n",
    "    from sklearn.metrics import mean_squared_error\n",
    "    score=mean_squared_error(y,y_pred)\n",
    "    return score"
   ]
  },
  {
   "cell_type": "code",
   "execution_count": 41,
   "metadata": {},
   "outputs": [],
   "source": [
    "def mae(y,y_pred):\n",
    "    from sklearn.metrics import mean_absolute_error\n",
    "    score=mean_absolute_error(y,y_pred)\n",
    "    return score"
   ]
  },
  {
   "cell_type": "code",
   "execution_count": 42,
   "metadata": {},
   "outputs": [],
   "source": [
    "def get_metrics(y_test, y_pred):\n",
    "    r2_score=r_square(y_test, y_pred)\n",
    "    mse_score=mse(y_test, y_pred)\n",
    "    mae_score=mae(y_test, y_pred)\n",
    "    print(\"R2:\",r2_score)\n",
    "    print(\"MSE:\",mse_score)\n",
    "    print(\"MAE:\",mae_score)\n",
    "    return (r2_score,mse_score,mae_score)"
   ]
  },
  {
   "cell_type": "code",
   "execution_count": 231,
   "metadata": {},
   "outputs": [],
   "source": [
    "metrics_dict={}\n",
    "# to record the best metrics for each model tested"
   ]
  },
  {
   "cell_type": "markdown",
   "metadata": {},
   "source": [
    "# Models:"
   ]
  },
  {
   "cell_type": "markdown",
   "metadata": {},
   "source": [
    "### Linear Regression Model"
   ]
  },
  {
   "cell_type": "code",
   "execution_count": 44,
   "metadata": {},
   "outputs": [],
   "source": [
    "from sklearn.linear_model import LinearRegression"
   ]
  },
  {
   "cell_type": "markdown",
   "metadata": {},
   "source": [
    "#### First test on all the features"
   ]
  },
  {
   "cell_type": "code",
   "execution_count": 45,
   "metadata": {},
   "outputs": [],
   "source": [
    "linear_model=LinearRegression().fit(X_train,y_train)"
   ]
  },
  {
   "cell_type": "code",
   "execution_count": 46,
   "metadata": {},
   "outputs": [],
   "source": [
    "y_lin_pred=linear_model.predict(X_test)"
   ]
  },
  {
   "cell_type": "code",
   "execution_count": 47,
   "metadata": {
    "scrolled": false
   },
   "outputs": [
    {
     "name": "stdout",
     "output_type": "stream",
     "text": [
      "R2: 0.6408786468461327\n",
      "MSE: 0.0032834499372363596\n",
      "MAE: 0.04257350315988419\n"
     ]
    },
    {
     "data": {
      "text/plain": [
       "(0.6408786468461327, 0.0032834499372363596, 0.04257350315988419)"
      ]
     },
     "execution_count": 47,
     "metadata": {},
     "output_type": "execute_result"
    }
   ],
   "source": [
    "get_metrics(y_test,y_lin_pred)"
   ]
  },
  {
   "cell_type": "code",
   "execution_count": 48,
   "metadata": {},
   "outputs": [
    {
     "data": {
      "image/png": "[encoded data removed]",
      "text/plain": [
       "<Figure size 432x288 with 1 Axes>"
      ]
     },
     "metadata": {
      "needs_background": "light"
     },
     "output_type": "display_data"
    }
   ],
   "source": [
    "plt.scatter(y_test,y_lin_pred)\n",
    "plt.xlabel('actual')\n",
    "plt.ylabel('prediction')\n",
    "plt.plot([0, 1], [0, 1], ls=\"--\", c=\".3\")\n",
    "plt.ylim([0, 1])\n",
    "plt.show()"
   ]
  },
  {
   "cell_type": "markdown",
   "metadata": {},
   "source": [
    "- the model is not good: we have too many features\n",
    "- we reduce the number of features with SFS"
   ]
  },
  {
   "cell_type": "markdown",
   "metadata": {},
   "source": [
    "#### Feature selection with SFS"
   ]
  },
  {
   "cell_type": "code",
   "execution_count": 49,
   "metadata": {},
   "outputs": [],
   "source": [
    "from mlxtend.feature_selection import SequentialFeatureSelector as sfs"
   ]
  },
  {
   "cell_type": "code",
   "execution_count": 50,
   "metadata": {},
   "outputs": [],
   "source": [
    "linear=LinearRegression()\n",
    "sfs_lin_20=sfs(linear, k_features = 20, forward=True, floating = False, scoring='neg_mean_squared_error')"
   ]
  },
  {
   "cell_type": "code",
   "execution_count": 51,
   "metadata": {},
   "outputs": [
    {
     "data": {
      "text/plain": [
       "(0, 1, 2, 3, 18, 27, 28, 30, 35, 39, 41, 42, 46, 48, 49, 50, 89, 101, 102, 105)"
      ]
     },
     "execution_count": 51,
     "metadata": {},
     "output_type": "execute_result"
    }
   ],
   "source": [
    "sfs_lin_20_fit=sfs_lin_20.fit(X_train,y_train)\n",
    "sfs_lin_20_fit.k_feature_idx_"
   ]
  },
  {
   "cell_type": "code",
   "execution_count": 52,
   "metadata": {
    "scrolled": true
   },
   "outputs": [
    {
     "data": {
      "text/html": [
       "<div>\n",
       "<style scoped>\n",
       "    .dataframe tbody tr th:only-of-type {\n",
       "        vertical-align: middle;\n",
       "    }\n",
       "\n",
       "    .dataframe tbody tr th {\n",
       "        vertical-align: top;\n",
       "    }\n",
       "\n",
       "    .dataframe thead th {\n",
       "        text-align: right;\n",
       "    }\n",
       "</style>\n",
       "<table border=\"1\" class=\"dataframe\">\n",
       "  <thead>\n",
       "    <tr style=\"text-align: right;\">\n",
       "      <th></th>\n",
       "      <th>runtime</th>\n",
       "      <th>metascore</th>\n",
       "      <th>votes</th>\n",
       "      <th>star_Nicolas Cage</th>\n",
       "      <th>language_English</th>\n",
       "      <th>age</th>\n",
       "      <th>genre_Drama</th>\n",
       "      <th>genre_War</th>\n",
       "      <th>genre_Horror</th>\n",
       "      <th>genre_Sci-Fi</th>\n",
       "      <th>genre_Adventure</th>\n",
       "      <th>genre_Animation</th>\n",
       "      <th>genre_Biography</th>\n",
       "      <th>genre_Fantasy</th>\n",
       "      <th>log_cum_worldwide_gross</th>\n",
       "      <th>k_nudity</th>\n",
       "      <th>director_Tyler Perry</th>\n",
       "      <th>country_Japan</th>\n",
       "      <th>country_South Korea</th>\n",
       "      <th>country_USA</th>\n",
       "    </tr>\n",
       "  </thead>\n",
       "  <tbody>\n",
       "    <tr>\n",
       "      <th>944</th>\n",
       "      <td>0.301048</td>\n",
       "      <td>0.47</td>\n",
       "      <td>0.585245</td>\n",
       "      <td>0</td>\n",
       "      <td>1</td>\n",
       "      <td>0.55</td>\n",
       "      <td>1</td>\n",
       "      <td>0</td>\n",
       "      <td>0</td>\n",
       "      <td>0</td>\n",
       "      <td>0</td>\n",
       "      <td>0</td>\n",
       "      <td>0</td>\n",
       "      <td>1</td>\n",
       "      <td>0.807069</td>\n",
       "      <td>0</td>\n",
       "      <td>0</td>\n",
       "      <td>0</td>\n",
       "      <td>0</td>\n",
       "      <td>1</td>\n",
       "    </tr>\n",
       "    <tr>\n",
       "      <th>5184</th>\n",
       "      <td>0.227428</td>\n",
       "      <td>0.64</td>\n",
       "      <td>0.114248</td>\n",
       "      <td>0</td>\n",
       "      <td>0</td>\n",
       "      <td>0.50</td>\n",
       "      <td>1</td>\n",
       "      <td>0</td>\n",
       "      <td>0</td>\n",
       "      <td>0</td>\n",
       "      <td>0</td>\n",
       "      <td>0</td>\n",
       "      <td>0</td>\n",
       "      <td>0</td>\n",
       "      <td>0.453491</td>\n",
       "      <td>0</td>\n",
       "      <td>0</td>\n",
       "      <td>0</td>\n",
       "      <td>0</td>\n",
       "      <td>0</td>\n",
       "    </tr>\n",
       "    <tr>\n",
       "      <th>5044</th>\n",
       "      <td>0.295712</td>\n",
       "      <td>0.59</td>\n",
       "      <td>0.126995</td>\n",
       "      <td>0</td>\n",
       "      <td>1</td>\n",
       "      <td>0.65</td>\n",
       "      <td>1</td>\n",
       "      <td>0</td>\n",
       "      <td>0</td>\n",
       "      <td>0</td>\n",
       "      <td>1</td>\n",
       "      <td>0</td>\n",
       "      <td>0</td>\n",
       "      <td>0</td>\n",
       "      <td>0.721620</td>\n",
       "      <td>0</td>\n",
       "      <td>0</td>\n",
       "      <td>0</td>\n",
       "      <td>0</td>\n",
       "      <td>0</td>\n",
       "    </tr>\n",
       "    <tr>\n",
       "      <th>12</th>\n",
       "      <td>0.496815</td>\n",
       "      <td>0.85</td>\n",
       "      <td>0.900741</td>\n",
       "      <td>0</td>\n",
       "      <td>1</td>\n",
       "      <td>0.70</td>\n",
       "      <td>1</td>\n",
       "      <td>0</td>\n",
       "      <td>0</td>\n",
       "      <td>0</td>\n",
       "      <td>0</td>\n",
       "      <td>0</td>\n",
       "      <td>0</td>\n",
       "      <td>0</td>\n",
       "      <td>0.868494</td>\n",
       "      <td>0</td>\n",
       "      <td>0</td>\n",
       "      <td>0</td>\n",
       "      <td>0</td>\n",
       "      <td>1</td>\n",
       "    </tr>\n",
       "    <tr>\n",
       "      <th>1117</th>\n",
       "      <td>0.268250</td>\n",
       "      <td>0.46</td>\n",
       "      <td>0.559748</td>\n",
       "      <td>0</td>\n",
       "      <td>1</td>\n",
       "      <td>0.45</td>\n",
       "      <td>0</td>\n",
       "      <td>0</td>\n",
       "      <td>0</td>\n",
       "      <td>0</td>\n",
       "      <td>1</td>\n",
       "      <td>0</td>\n",
       "      <td>0</td>\n",
       "      <td>0</td>\n",
       "      <td>0.833650</td>\n",
       "      <td>0</td>\n",
       "      <td>0</td>\n",
       "      <td>0</td>\n",
       "      <td>0</td>\n",
       "      <td>1</td>\n",
       "    </tr>\n",
       "    <tr>\n",
       "      <th>4601</th>\n",
       "      <td>0.202714</td>\n",
       "      <td>0.27</td>\n",
       "      <td>0.172864</td>\n",
       "      <td>0</td>\n",
       "      <td>1</td>\n",
       "      <td>0.25</td>\n",
       "      <td>1</td>\n",
       "      <td>0</td>\n",
       "      <td>0</td>\n",
       "      <td>0</td>\n",
       "      <td>0</td>\n",
       "      <td>0</td>\n",
       "      <td>0</td>\n",
       "      <td>0</td>\n",
       "      <td>0.434486</td>\n",
       "      <td>0</td>\n",
       "      <td>0</td>\n",
       "      <td>0</td>\n",
       "      <td>0</td>\n",
       "      <td>1</td>\n",
       "    </tr>\n",
       "    <tr>\n",
       "      <th>2899</th>\n",
       "      <td>0.149807</td>\n",
       "      <td>0.65</td>\n",
       "      <td>0.354475</td>\n",
       "      <td>0</td>\n",
       "      <td>1</td>\n",
       "      <td>0.95</td>\n",
       "      <td>0</td>\n",
       "      <td>0</td>\n",
       "      <td>0</td>\n",
       "      <td>0</td>\n",
       "      <td>1</td>\n",
       "      <td>1</td>\n",
       "      <td>0</td>\n",
       "      <td>0</td>\n",
       "      <td>0.808007</td>\n",
       "      <td>0</td>\n",
       "      <td>0</td>\n",
       "      <td>0</td>\n",
       "      <td>0</td>\n",
       "      <td>1</td>\n",
       "    </tr>\n",
       "    <tr>\n",
       "      <th>5121</th>\n",
       "      <td>0.221350</td>\n",
       "      <td>0.62</td>\n",
       "      <td>0.120967</td>\n",
       "      <td>0</td>\n",
       "      <td>0</td>\n",
       "      <td>0.35</td>\n",
       "      <td>1</td>\n",
       "      <td>0</td>\n",
       "      <td>0</td>\n",
       "      <td>0</td>\n",
       "      <td>0</td>\n",
       "      <td>0</td>\n",
       "      <td>0</td>\n",
       "      <td>0</td>\n",
       "      <td>0.602758</td>\n",
       "      <td>0</td>\n",
       "      <td>0</td>\n",
       "      <td>0</td>\n",
       "      <td>0</td>\n",
       "      <td>0</td>\n",
       "    </tr>\n",
       "    <tr>\n",
       "      <th>642</th>\n",
       "      <td>0.227428</td>\n",
       "      <td>0.94</td>\n",
       "      <td>0.640374</td>\n",
       "      <td>0</td>\n",
       "      <td>1</td>\n",
       "      <td>0.15</td>\n",
       "      <td>1</td>\n",
       "      <td>0</td>\n",
       "      <td>0</td>\n",
       "      <td>0</td>\n",
       "      <td>0</td>\n",
       "      <td>0</td>\n",
       "      <td>0</td>\n",
       "      <td>0</td>\n",
       "      <td>0.792561</td>\n",
       "      <td>0</td>\n",
       "      <td>0</td>\n",
       "      <td>0</td>\n",
       "      <td>0</td>\n",
       "      <td>1</td>\n",
       "    </tr>\n",
       "    <tr>\n",
       "      <th>5940</th>\n",
       "      <td>0.316764</td>\n",
       "      <td>0.53</td>\n",
       "      <td>0.039512</td>\n",
       "      <td>0</td>\n",
       "      <td>1</td>\n",
       "      <td>0.45</td>\n",
       "      <td>1</td>\n",
       "      <td>0</td>\n",
       "      <td>0</td>\n",
       "      <td>0</td>\n",
       "      <td>0</td>\n",
       "      <td>0</td>\n",
       "      <td>0</td>\n",
       "      <td>0</td>\n",
       "      <td>0.427099</td>\n",
       "      <td>0</td>\n",
       "      <td>0</td>\n",
       "      <td>0</td>\n",
       "      <td>0</td>\n",
       "      <td>0</td>\n",
       "    </tr>\n",
       "    <tr>\n",
       "      <th>3103</th>\n",
       "      <td>0.256883</td>\n",
       "      <td>0.39</td>\n",
       "      <td>0.329537</td>\n",
       "      <td>0</td>\n",
       "      <td>1</td>\n",
       "      <td>0.10</td>\n",
       "      <td>0</td>\n",
       "      <td>0</td>\n",
       "      <td>0</td>\n",
       "      <td>0</td>\n",
       "      <td>1</td>\n",
       "      <td>0</td>\n",
       "      <td>0</td>\n",
       "      <td>1</td>\n",
       "      <td>0.838486</td>\n",
       "      <td>0</td>\n",
       "      <td>0</td>\n",
       "      <td>0</td>\n",
       "      <td>0</td>\n",
       "      <td>1</td>\n",
       "    </tr>\n",
       "    <tr>\n",
       "      <th>1893</th>\n",
       "      <td>0.256883</td>\n",
       "      <td>0.55</td>\n",
       "      <td>0.465607</td>\n",
       "      <td>0</td>\n",
       "      <td>1</td>\n",
       "      <td>0.05</td>\n",
       "      <td>0</td>\n",
       "      <td>0</td>\n",
       "      <td>1</td>\n",
       "      <td>0</td>\n",
       "      <td>0</td>\n",
       "      <td>0</td>\n",
       "      <td>0</td>\n",
       "      <td>0</td>\n",
       "      <td>0.817649</td>\n",
       "      <td>0</td>\n",
       "      <td>0</td>\n",
       "      <td>0</td>\n",
       "      <td>0</td>\n",
       "      <td>1</td>\n",
       "    </tr>\n",
       "    <tr>\n",
       "      <th>3954</th>\n",
       "      <td>0.273850</td>\n",
       "      <td>0.05</td>\n",
       "      <td>0.238661</td>\n",
       "      <td>0</td>\n",
       "      <td>1</td>\n",
       "      <td>0.25</td>\n",
       "      <td>0</td>\n",
       "      <td>0</td>\n",
       "      <td>1</td>\n",
       "      <td>0</td>\n",
       "      <td>0</td>\n",
       "      <td>0</td>\n",
       "      <td>0</td>\n",
       "      <td>0</td>\n",
       "      <td>0.298746</td>\n",
       "      <td>0</td>\n",
       "      <td>0</td>\n",
       "      <td>0</td>\n",
       "      <td>0</td>\n",
       "      <td>1</td>\n",
       "    </tr>\n",
       "    <tr>\n",
       "      <th>1319</th>\n",
       "      <td>0.233443</td>\n",
       "      <td>0.79</td>\n",
       "      <td>0.534754</td>\n",
       "      <td>0</td>\n",
       "      <td>1</td>\n",
       "      <td>0.25</td>\n",
       "      <td>0</td>\n",
       "      <td>0</td>\n",
       "      <td>1</td>\n",
       "      <td>0</td>\n",
       "      <td>0</td>\n",
       "      <td>0</td>\n",
       "      <td>0</td>\n",
       "      <td>0</td>\n",
       "      <td>0.615674</td>\n",
       "      <td>0</td>\n",
       "      <td>0</td>\n",
       "      <td>0</td>\n",
       "      <td>0</td>\n",
       "      <td>1</td>\n",
       "    </tr>\n",
       "    <tr>\n",
       "      <th>3571</th>\n",
       "      <td>0.346949</td>\n",
       "      <td>0.48</td>\n",
       "      <td>0.279277</td>\n",
       "      <td>0</td>\n",
       "      <td>1</td>\n",
       "      <td>0.90</td>\n",
       "      <td>1</td>\n",
       "      <td>0</td>\n",
       "      <td>0</td>\n",
       "      <td>0</td>\n",
       "      <td>0</td>\n",
       "      <td>0</td>\n",
       "      <td>0</td>\n",
       "      <td>0</td>\n",
       "      <td>0.788658</td>\n",
       "      <td>0</td>\n",
       "      <td>0</td>\n",
       "      <td>0</td>\n",
       "      <td>0</td>\n",
       "      <td>1</td>\n",
       "    </tr>\n",
       "    <tr>\n",
       "      <th>3076</th>\n",
       "      <td>0.284886</td>\n",
       "      <td>0.39</td>\n",
       "      <td>0.331978</td>\n",
       "      <td>0</td>\n",
       "      <td>1</td>\n",
       "      <td>0.10</td>\n",
       "      <td>1</td>\n",
       "      <td>0</td>\n",
       "      <td>0</td>\n",
       "      <td>0</td>\n",
       "      <td>1</td>\n",
       "      <td>0</td>\n",
       "      <td>0</td>\n",
       "      <td>0</td>\n",
       "      <td>0.754652</td>\n",
       "      <td>0</td>\n",
       "      <td>0</td>\n",
       "      <td>0</td>\n",
       "      <td>0</td>\n",
       "      <td>1</td>\n",
       "    </tr>\n",
       "    <tr>\n",
       "      <th>5792</th>\n",
       "      <td>0.316764</td>\n",
       "      <td>0.31</td>\n",
       "      <td>0.053816</td>\n",
       "      <td>0</td>\n",
       "      <td>1</td>\n",
       "      <td>0.90</td>\n",
       "      <td>1</td>\n",
       "      <td>0</td>\n",
       "      <td>0</td>\n",
       "      <td>0</td>\n",
       "      <td>0</td>\n",
       "      <td>0</td>\n",
       "      <td>0</td>\n",
       "      <td>0</td>\n",
       "      <td>0.420878</td>\n",
       "      <td>0</td>\n",
       "      <td>0</td>\n",
       "      <td>0</td>\n",
       "      <td>0</td>\n",
       "      <td>1</td>\n",
       "    </tr>\n",
       "    <tr>\n",
       "      <th>1805</th>\n",
       "      <td>0.268250</td>\n",
       "      <td>0.37</td>\n",
       "      <td>0.475686</td>\n",
       "      <td>0</td>\n",
       "      <td>1</td>\n",
       "      <td>0.75</td>\n",
       "      <td>0</td>\n",
       "      <td>0</td>\n",
       "      <td>0</td>\n",
       "      <td>0</td>\n",
       "      <td>1</td>\n",
       "      <td>0</td>\n",
       "      <td>0</td>\n",
       "      <td>0</td>\n",
       "      <td>0.786397</td>\n",
       "      <td>0</td>\n",
       "      <td>0</td>\n",
       "      <td>0</td>\n",
       "      <td>0</td>\n",
       "      <td>1</td>\n",
       "    </tr>\n",
       "    <tr>\n",
       "      <th>2275</th>\n",
       "      <td>0.245284</td>\n",
       "      <td>0.19</td>\n",
       "      <td>0.421177</td>\n",
       "      <td>0</td>\n",
       "      <td>1</td>\n",
       "      <td>0.70</td>\n",
       "      <td>0</td>\n",
       "      <td>0</td>\n",
       "      <td>0</td>\n",
       "      <td>0</td>\n",
       "      <td>1</td>\n",
       "      <td>0</td>\n",
       "      <td>0</td>\n",
       "      <td>1</td>\n",
       "      <td>0.749413</td>\n",
       "      <td>0</td>\n",
       "      <td>0</td>\n",
       "      <td>0</td>\n",
       "      <td>0</td>\n",
       "      <td>1</td>\n",
       "    </tr>\n",
       "    <tr>\n",
       "      <th>5743</th>\n",
       "      <td>0.370933</td>\n",
       "      <td>0.58</td>\n",
       "      <td>0.057734</td>\n",
       "      <td>0</td>\n",
       "      <td>1</td>\n",
       "      <td>0.95</td>\n",
       "      <td>1</td>\n",
       "      <td>0</td>\n",
       "      <td>0</td>\n",
       "      <td>0</td>\n",
       "      <td>0</td>\n",
       "      <td>0</td>\n",
       "      <td>0</td>\n",
       "      <td>0</td>\n",
       "      <td>0.492517</td>\n",
       "      <td>0</td>\n",
       "      <td>0</td>\n",
       "      <td>0</td>\n",
       "      <td>0</td>\n",
       "      <td>0</td>\n",
       "    </tr>\n",
       "    <tr>\n",
       "      <th>5046</th>\n",
       "      <td>0.183446</td>\n",
       "      <td>0.52</td>\n",
       "      <td>0.126830</td>\n",
       "      <td>0</td>\n",
       "      <td>1</td>\n",
       "      <td>0.40</td>\n",
       "      <td>0</td>\n",
       "      <td>0</td>\n",
       "      <td>1</td>\n",
       "      <td>0</td>\n",
       "      <td>0</td>\n",
       "      <td>0</td>\n",
       "      <td>0</td>\n",
       "      <td>0</td>\n",
       "      <td>0.513131</td>\n",
       "      <td>0</td>\n",
       "      <td>0</td>\n",
       "      <td>0</td>\n",
       "      <td>0</td>\n",
       "      <td>0</td>\n",
       "    </tr>\n",
       "    <tr>\n",
       "      <th>4963</th>\n",
       "      <td>0.268250</td>\n",
       "      <td>0.25</td>\n",
       "      <td>0.135650</td>\n",
       "      <td>0</td>\n",
       "      <td>1</td>\n",
       "      <td>0.50</td>\n",
       "      <td>0</td>\n",
       "      <td>0</td>\n",
       "      <td>0</td>\n",
       "      <td>0</td>\n",
       "      <td>0</td>\n",
       "      <td>0</td>\n",
       "      <td>0</td>\n",
       "      <td>0</td>\n",
       "      <td>0.430018</td>\n",
       "      <td>1</td>\n",
       "      <td>0</td>\n",
       "      <td>0</td>\n",
       "      <td>0</td>\n",
       "      <td>1</td>\n",
       "    </tr>\n",
       "    <tr>\n",
       "      <th>3392</th>\n",
       "      <td>0.306335</td>\n",
       "      <td>0.37</td>\n",
       "      <td>0.297584</td>\n",
       "      <td>0</td>\n",
       "      <td>1</td>\n",
       "      <td>0.70</td>\n",
       "      <td>1</td>\n",
       "      <td>0</td>\n",
       "      <td>0</td>\n",
       "      <td>0</td>\n",
       "      <td>0</td>\n",
       "      <td>0</td>\n",
       "      <td>0</td>\n",
       "      <td>0</td>\n",
       "      <td>0.704937</td>\n",
       "      <td>0</td>\n",
       "      <td>0</td>\n",
       "      <td>0</td>\n",
       "      <td>0</td>\n",
       "      <td>1</td>\n",
       "    </tr>\n",
       "    <tr>\n",
       "      <th>653</th>\n",
       "      <td>0.356664</td>\n",
       "      <td>0.32</td>\n",
       "      <td>0.638998</td>\n",
       "      <td>0</td>\n",
       "      <td>1</td>\n",
       "      <td>0.55</td>\n",
       "      <td>0</td>\n",
       "      <td>0</td>\n",
       "      <td>0</td>\n",
       "      <td>1</td>\n",
       "      <td>1</td>\n",
       "      <td>0</td>\n",
       "      <td>0</td>\n",
       "      <td>0</td>\n",
       "      <td>0.870649</td>\n",
       "      <td>0</td>\n",
       "      <td>0</td>\n",
       "      <td>0</td>\n",
       "      <td>0</td>\n",
       "      <td>1</td>\n",
       "    </tr>\n",
       "    <tr>\n",
       "      <th>429</th>\n",
       "      <td>0.445649</td>\n",
       "      <td>0.48</td>\n",
       "      <td>0.682712</td>\n",
       "      <td>0</td>\n",
       "      <td>1</td>\n",
       "      <td>0.55</td>\n",
       "      <td>0</td>\n",
       "      <td>0</td>\n",
       "      <td>0</td>\n",
       "      <td>0</td>\n",
       "      <td>0</td>\n",
       "      <td>0</td>\n",
       "      <td>0</td>\n",
       "      <td>0</td>\n",
       "      <td>0.898215</td>\n",
       "      <td>0</td>\n",
       "      <td>0</td>\n",
       "      <td>0</td>\n",
       "      <td>0</td>\n",
       "      <td>1</td>\n",
       "    </tr>\n",
       "    <tr>\n",
       "      <th>1992</th>\n",
       "      <td>0.366216</td>\n",
       "      <td>0.55</td>\n",
       "      <td>0.452503</td>\n",
       "      <td>0</td>\n",
       "      <td>1</td>\n",
       "      <td>0.65</td>\n",
       "      <td>1</td>\n",
       "      <td>0</td>\n",
       "      <td>0</td>\n",
       "      <td>0</td>\n",
       "      <td>0</td>\n",
       "      <td>0</td>\n",
       "      <td>1</td>\n",
       "      <td>0</td>\n",
       "      <td>0.748969</td>\n",
       "      <td>0</td>\n",
       "      <td>0</td>\n",
       "      <td>0</td>\n",
       "      <td>0</td>\n",
       "      <td>0</td>\n",
       "    </tr>\n",
       "    <tr>\n",
       "      <th>2045</th>\n",
       "      <td>0.273850</td>\n",
       "      <td>0.77</td>\n",
       "      <td>0.446287</td>\n",
       "      <td>0</td>\n",
       "      <td>1</td>\n",
       "      <td>0.30</td>\n",
       "      <td>1</td>\n",
       "      <td>0</td>\n",
       "      <td>0</td>\n",
       "      <td>0</td>\n",
       "      <td>0</td>\n",
       "      <td>0</td>\n",
       "      <td>0</td>\n",
       "      <td>0</td>\n",
       "      <td>0.702876</td>\n",
       "      <td>0</td>\n",
       "      <td>0</td>\n",
       "      <td>0</td>\n",
       "      <td>0</td>\n",
       "      <td>0</td>\n",
       "    </tr>\n",
       "    <tr>\n",
       "      <th>4280</th>\n",
       "      <td>0.268250</td>\n",
       "      <td>0.78</td>\n",
       "      <td>0.205357</td>\n",
       "      <td>0</td>\n",
       "      <td>1</td>\n",
       "      <td>0.95</td>\n",
       "      <td>1</td>\n",
       "      <td>0</td>\n",
       "      <td>0</td>\n",
       "      <td>0</td>\n",
       "      <td>0</td>\n",
       "      <td>0</td>\n",
       "      <td>0</td>\n",
       "      <td>0</td>\n",
       "      <td>0.672591</td>\n",
       "      <td>0</td>\n",
       "      <td>0</td>\n",
       "      <td>0</td>\n",
       "      <td>0</td>\n",
       "      <td>1</td>\n",
       "    </tr>\n",
       "    <tr>\n",
       "      <th>3220</th>\n",
       "      <td>0.279395</td>\n",
       "      <td>0.31</td>\n",
       "      <td>0.315405</td>\n",
       "      <td>0</td>\n",
       "      <td>1</td>\n",
       "      <td>0.90</td>\n",
       "      <td>0</td>\n",
       "      <td>0</td>\n",
       "      <td>0</td>\n",
       "      <td>0</td>\n",
       "      <td>0</td>\n",
       "      <td>0</td>\n",
       "      <td>0</td>\n",
       "      <td>0</td>\n",
       "      <td>0.702824</td>\n",
       "      <td>0</td>\n",
       "      <td>0</td>\n",
       "      <td>0</td>\n",
       "      <td>0</td>\n",
       "      <td>1</td>\n",
       "    </tr>\n",
       "    <tr>\n",
       "      <th>1926</th>\n",
       "      <td>0.420385</td>\n",
       "      <td>0.43</td>\n",
       "      <td>0.461073</td>\n",
       "      <td>0</td>\n",
       "      <td>1</td>\n",
       "      <td>0.55</td>\n",
       "      <td>1</td>\n",
       "      <td>0</td>\n",
       "      <td>0</td>\n",
       "      <td>0</td>\n",
       "      <td>0</td>\n",
       "      <td>0</td>\n",
       "      <td>0</td>\n",
       "      <td>0</td>\n",
       "      <td>0.760786</td>\n",
       "      <td>0</td>\n",
       "      <td>0</td>\n",
       "      <td>0</td>\n",
       "      <td>0</td>\n",
       "      <td>1</td>\n",
       "    </tr>\n",
       "    <tr>\n",
       "      <th>...</th>\n",
       "      <td>...</td>\n",
       "      <td>...</td>\n",
       "      <td>...</td>\n",
       "      <td>...</td>\n",
       "      <td>...</td>\n",
       "      <td>...</td>\n",
       "      <td>...</td>\n",
       "      <td>...</td>\n",
       "      <td>...</td>\n",
       "      <td>...</td>\n",
       "      <td>...</td>\n",
       "      <td>...</td>\n",
       "      <td>...</td>\n",
       "      <td>...</td>\n",
       "      <td>...</td>\n",
       "      <td>...</td>\n",
       "      <td>...</td>\n",
       "      <td>...</td>\n",
       "      <td>...</td>\n",
       "      <td>...</td>\n",
       "    </tr>\n",
       "    <tr>\n",
       "      <th>2904</th>\n",
       "      <td>0.361460</td>\n",
       "      <td>0.38</td>\n",
       "      <td>0.353734</td>\n",
       "      <td>0</td>\n",
       "      <td>1</td>\n",
       "      <td>0.30</td>\n",
       "      <td>1</td>\n",
       "      <td>0</td>\n",
       "      <td>0</td>\n",
       "      <td>0</td>\n",
       "      <td>0</td>\n",
       "      <td>0</td>\n",
       "      <td>0</td>\n",
       "      <td>0</td>\n",
       "      <td>0.569578</td>\n",
       "      <td>0</td>\n",
       "      <td>0</td>\n",
       "      <td>0</td>\n",
       "      <td>0</td>\n",
       "      <td>1</td>\n",
       "    </tr>\n",
       "    <tr>\n",
       "      <th>4843</th>\n",
       "      <td>0.279395</td>\n",
       "      <td>0.30</td>\n",
       "      <td>0.146698</td>\n",
       "      <td>0</td>\n",
       "      <td>1</td>\n",
       "      <td>0.20</td>\n",
       "      <td>1</td>\n",
       "      <td>0</td>\n",
       "      <td>1</td>\n",
       "      <td>0</td>\n",
       "      <td>0</td>\n",
       "      <td>0</td>\n",
       "      <td>0</td>\n",
       "      <td>0</td>\n",
       "      <td>0.789431</td>\n",
       "      <td>0</td>\n",
       "      <td>1</td>\n",
       "      <td>0</td>\n",
       "      <td>0</td>\n",
       "      <td>0</td>\n",
       "    </tr>\n",
       "    <tr>\n",
       "      <th>4117</th>\n",
       "      <td>0.361460</td>\n",
       "      <td>0.72</td>\n",
       "      <td>0.221921</td>\n",
       "      <td>0</td>\n",
       "      <td>1</td>\n",
       "      <td>0.20</td>\n",
       "      <td>1</td>\n",
       "      <td>0</td>\n",
       "      <td>0</td>\n",
       "      <td>0</td>\n",
       "      <td>0</td>\n",
       "      <td>0</td>\n",
       "      <td>1</td>\n",
       "      <td>0</td>\n",
       "      <td>0.471070</td>\n",
       "      <td>0</td>\n",
       "      <td>0</td>\n",
       "      <td>0</td>\n",
       "      <td>0</td>\n",
       "      <td>0</td>\n",
       "    </tr>\n",
       "    <tr>\n",
       "      <th>3385</th>\n",
       "      <td>0.176876</td>\n",
       "      <td>0.42</td>\n",
       "      <td>0.297961</td>\n",
       "      <td>0</td>\n",
       "      <td>1</td>\n",
       "      <td>0.55</td>\n",
       "      <td>0</td>\n",
       "      <td>0</td>\n",
       "      <td>0</td>\n",
       "      <td>0</td>\n",
       "      <td>1</td>\n",
       "      <td>0</td>\n",
       "      <td>0</td>\n",
       "      <td>0</td>\n",
       "      <td>0.774500</td>\n",
       "      <td>0</td>\n",
       "      <td>0</td>\n",
       "      <td>0</td>\n",
       "      <td>0</td>\n",
       "      <td>1</td>\n",
       "    </tr>\n",
       "    <tr>\n",
       "      <th>4555</th>\n",
       "      <td>0.290325</td>\n",
       "      <td>0.41</td>\n",
       "      <td>0.177236</td>\n",
       "      <td>0</td>\n",
       "      <td>1</td>\n",
       "      <td>1.00</td>\n",
       "      <td>0</td>\n",
       "      <td>0</td>\n",
       "      <td>0</td>\n",
       "      <td>1</td>\n",
       "      <td>0</td>\n",
       "      <td>0</td>\n",
       "      <td>0</td>\n",
       "      <td>0</td>\n",
       "      <td>0.692574</td>\n",
       "      <td>0</td>\n",
       "      <td>0</td>\n",
       "      <td>0</td>\n",
       "      <td>0</td>\n",
       "      <td>1</td>\n",
       "    </tr>\n",
       "    <tr>\n",
       "      <th>1184</th>\n",
       "      <td>0.221350</td>\n",
       "      <td>0.57</td>\n",
       "      <td>0.550762</td>\n",
       "      <td>0</td>\n",
       "      <td>1</td>\n",
       "      <td>0.60</td>\n",
       "      <td>0</td>\n",
       "      <td>0</td>\n",
       "      <td>0</td>\n",
       "      <td>0</td>\n",
       "      <td>1</td>\n",
       "      <td>0</td>\n",
       "      <td>0</td>\n",
       "      <td>0</td>\n",
       "      <td>0.857679</td>\n",
       "      <td>0</td>\n",
       "      <td>0</td>\n",
       "      <td>0</td>\n",
       "      <td>0</td>\n",
       "      <td>1</td>\n",
       "    </tr>\n",
       "    <tr>\n",
       "      <th>5051</th>\n",
       "      <td>0.424675</td>\n",
       "      <td>0.64</td>\n",
       "      <td>0.126498</td>\n",
       "      <td>0</td>\n",
       "      <td>1</td>\n",
       "      <td>0.20</td>\n",
       "      <td>1</td>\n",
       "      <td>0</td>\n",
       "      <td>0</td>\n",
       "      <td>0</td>\n",
       "      <td>0</td>\n",
       "      <td>0</td>\n",
       "      <td>1</td>\n",
       "      <td>0</td>\n",
       "      <td>0.672508</td>\n",
       "      <td>0</td>\n",
       "      <td>0</td>\n",
       "      <td>0</td>\n",
       "      <td>0</td>\n",
       "      <td>0</td>\n",
       "    </tr>\n",
       "    <tr>\n",
       "      <th>5311</th>\n",
       "      <td>0.239394</td>\n",
       "      <td>0.21</td>\n",
       "      <td>0.102027</td>\n",
       "      <td>0</td>\n",
       "      <td>1</td>\n",
       "      <td>0.50</td>\n",
       "      <td>0</td>\n",
       "      <td>0</td>\n",
       "      <td>0</td>\n",
       "      <td>0</td>\n",
       "      <td>0</td>\n",
       "      <td>0</td>\n",
       "      <td>0</td>\n",
       "      <td>0</td>\n",
       "      <td>0.397426</td>\n",
       "      <td>0</td>\n",
       "      <td>0</td>\n",
       "      <td>0</td>\n",
       "      <td>0</td>\n",
       "      <td>1</td>\n",
       "    </tr>\n",
       "    <tr>\n",
       "      <th>2433</th>\n",
       "      <td>0.256883</td>\n",
       "      <td>0.55</td>\n",
       "      <td>0.403576</td>\n",
       "      <td>0</td>\n",
       "      <td>1</td>\n",
       "      <td>0.60</td>\n",
       "      <td>0</td>\n",
       "      <td>0</td>\n",
       "      <td>0</td>\n",
       "      <td>0</td>\n",
       "      <td>0</td>\n",
       "      <td>0</td>\n",
       "      <td>0</td>\n",
       "      <td>0</td>\n",
       "      <td>0.780492</td>\n",
       "      <td>0</td>\n",
       "      <td>0</td>\n",
       "      <td>0</td>\n",
       "      <td>0</td>\n",
       "      <td>1</td>\n",
       "    </tr>\n",
       "    <tr>\n",
       "      <th>5611</th>\n",
       "      <td>0.239394</td>\n",
       "      <td>0.47</td>\n",
       "      <td>0.071737</td>\n",
       "      <td>0</td>\n",
       "      <td>0</td>\n",
       "      <td>0.25</td>\n",
       "      <td>1</td>\n",
       "      <td>0</td>\n",
       "      <td>0</td>\n",
       "      <td>0</td>\n",
       "      <td>0</td>\n",
       "      <td>0</td>\n",
       "      <td>0</td>\n",
       "      <td>0</td>\n",
       "      <td>0.556787</td>\n",
       "      <td>0</td>\n",
       "      <td>0</td>\n",
       "      <td>0</td>\n",
       "      <td>0</td>\n",
       "      <td>0</td>\n",
       "    </tr>\n",
       "    <tr>\n",
       "      <th>2391</th>\n",
       "      <td>0.290325</td>\n",
       "      <td>0.57</td>\n",
       "      <td>0.408164</td>\n",
       "      <td>0</td>\n",
       "      <td>1</td>\n",
       "      <td>0.25</td>\n",
       "      <td>1</td>\n",
       "      <td>0</td>\n",
       "      <td>0</td>\n",
       "      <td>0</td>\n",
       "      <td>0</td>\n",
       "      <td>0</td>\n",
       "      <td>1</td>\n",
       "      <td>0</td>\n",
       "      <td>0.832491</td>\n",
       "      <td>0</td>\n",
       "      <td>0</td>\n",
       "      <td>0</td>\n",
       "      <td>0</td>\n",
       "      <td>0</td>\n",
       "    </tr>\n",
       "    <tr>\n",
       "      <th>769</th>\n",
       "      <td>0.481556</td>\n",
       "      <td>0.72</td>\n",
       "      <td>0.619224</td>\n",
       "      <td>0</td>\n",
       "      <td>1</td>\n",
       "      <td>0.25</td>\n",
       "      <td>1</td>\n",
       "      <td>0</td>\n",
       "      <td>0</td>\n",
       "      <td>0</td>\n",
       "      <td>0</td>\n",
       "      <td>0</td>\n",
       "      <td>1</td>\n",
       "      <td>0</td>\n",
       "      <td>0.847070</td>\n",
       "      <td>0</td>\n",
       "      <td>0</td>\n",
       "      <td>0</td>\n",
       "      <td>0</td>\n",
       "      <td>1</td>\n",
       "    </tr>\n",
       "    <tr>\n",
       "      <th>1685</th>\n",
       "      <td>0.375611</td>\n",
       "      <td>0.69</td>\n",
       "      <td>0.490812</td>\n",
       "      <td>1</td>\n",
       "      <td>1</td>\n",
       "      <td>0.55</td>\n",
       "      <td>1</td>\n",
       "      <td>0</td>\n",
       "      <td>0</td>\n",
       "      <td>0</td>\n",
       "      <td>0</td>\n",
       "      <td>0</td>\n",
       "      <td>0</td>\n",
       "      <td>0</td>\n",
       "      <td>0.675805</td>\n",
       "      <td>0</td>\n",
       "      <td>0</td>\n",
       "      <td>0</td>\n",
       "      <td>0</td>\n",
       "      <td>1</td>\n",
       "    </tr>\n",
       "    <tr>\n",
       "      <th>130</th>\n",
       "      <td>0.424675</td>\n",
       "      <td>0.65</td>\n",
       "      <td>0.784710</td>\n",
       "      <td>0</td>\n",
       "      <td>1</td>\n",
       "      <td>0.20</td>\n",
       "      <td>0</td>\n",
       "      <td>0</td>\n",
       "      <td>0</td>\n",
       "      <td>1</td>\n",
       "      <td>1</td>\n",
       "      <td>0</td>\n",
       "      <td>0</td>\n",
       "      <td>0</td>\n",
       "      <td>0.943349</td>\n",
       "      <td>0</td>\n",
       "      <td>0</td>\n",
       "      <td>0</td>\n",
       "      <td>0</td>\n",
       "      <td>1</td>\n",
       "    </tr>\n",
       "    <tr>\n",
       "      <th>2919</th>\n",
       "      <td>0.295712</td>\n",
       "      <td>0.57</td>\n",
       "      <td>0.351382</td>\n",
       "      <td>0</td>\n",
       "      <td>1</td>\n",
       "      <td>0.85</td>\n",
       "      <td>1</td>\n",
       "      <td>0</td>\n",
       "      <td>0</td>\n",
       "      <td>0</td>\n",
       "      <td>0</td>\n",
       "      <td>0</td>\n",
       "      <td>0</td>\n",
       "      <td>0</td>\n",
       "      <td>0.720722</td>\n",
       "      <td>0</td>\n",
       "      <td>0</td>\n",
       "      <td>0</td>\n",
       "      <td>0</td>\n",
       "      <td>0</td>\n",
       "    </tr>\n",
       "    <tr>\n",
       "      <th>3171</th>\n",
       "      <td>0.256883</td>\n",
       "      <td>0.61</td>\n",
       "      <td>0.321527</td>\n",
       "      <td>0</td>\n",
       "      <td>1</td>\n",
       "      <td>0.95</td>\n",
       "      <td>1</td>\n",
       "      <td>0</td>\n",
       "      <td>0</td>\n",
       "      <td>0</td>\n",
       "      <td>0</td>\n",
       "      <td>0</td>\n",
       "      <td>0</td>\n",
       "      <td>0</td>\n",
       "      <td>0.712531</td>\n",
       "      <td>1</td>\n",
       "      <td>0</td>\n",
       "      <td>0</td>\n",
       "      <td>0</td>\n",
       "      <td>1</td>\n",
       "    </tr>\n",
       "    <tr>\n",
       "      <th>3444</th>\n",
       "      <td>0.221350</td>\n",
       "      <td>0.30</td>\n",
       "      <td>0.291622</td>\n",
       "      <td>0</td>\n",
       "      <td>1</td>\n",
       "      <td>0.65</td>\n",
       "      <td>1</td>\n",
       "      <td>0</td>\n",
       "      <td>0</td>\n",
       "      <td>0</td>\n",
       "      <td>0</td>\n",
       "      <td>0</td>\n",
       "      <td>0</td>\n",
       "      <td>0</td>\n",
       "      <td>0.476911</td>\n",
       "      <td>0</td>\n",
       "      <td>0</td>\n",
       "      <td>0</td>\n",
       "      <td>0</td>\n",
       "      <td>1</td>\n",
       "    </tr>\n",
       "    <tr>\n",
       "      <th>6231</th>\n",
       "      <td>0.262595</td>\n",
       "      <td>0.64</td>\n",
       "      <td>0.009984</td>\n",
       "      <td>0</td>\n",
       "      <td>1</td>\n",
       "      <td>0.75</td>\n",
       "      <td>1</td>\n",
       "      <td>0</td>\n",
       "      <td>0</td>\n",
       "      <td>0</td>\n",
       "      <td>0</td>\n",
       "      <td>0</td>\n",
       "      <td>0</td>\n",
       "      <td>0</td>\n",
       "      <td>0.593768</td>\n",
       "      <td>0</td>\n",
       "      <td>0</td>\n",
       "      <td>0</td>\n",
       "      <td>0</td>\n",
       "      <td>0</td>\n",
       "    </tr>\n",
       "    <tr>\n",
       "      <th>5578</th>\n",
       "      <td>0.221350</td>\n",
       "      <td>0.60</td>\n",
       "      <td>0.075751</td>\n",
       "      <td>0</td>\n",
       "      <td>1</td>\n",
       "      <td>0.45</td>\n",
       "      <td>1</td>\n",
       "      <td>0</td>\n",
       "      <td>0</td>\n",
       "      <td>0</td>\n",
       "      <td>0</td>\n",
       "      <td>0</td>\n",
       "      <td>0</td>\n",
       "      <td>0</td>\n",
       "      <td>0.524847</td>\n",
       "      <td>0</td>\n",
       "      <td>0</td>\n",
       "      <td>0</td>\n",
       "      <td>0</td>\n",
       "      <td>1</td>\n",
       "    </tr>\n",
       "    <tr>\n",
       "      <th>4426</th>\n",
       "      <td>0.268250</td>\n",
       "      <td>0.52</td>\n",
       "      <td>0.188838</td>\n",
       "      <td>0</td>\n",
       "      <td>1</td>\n",
       "      <td>0.70</td>\n",
       "      <td>1</td>\n",
       "      <td>0</td>\n",
       "      <td>0</td>\n",
       "      <td>0</td>\n",
       "      <td>0</td>\n",
       "      <td>0</td>\n",
       "      <td>0</td>\n",
       "      <td>0</td>\n",
       "      <td>0.761685</td>\n",
       "      <td>0</td>\n",
       "      <td>0</td>\n",
       "      <td>0</td>\n",
       "      <td>0</td>\n",
       "      <td>1</td>\n",
       "    </tr>\n",
       "    <tr>\n",
       "      <th>5334</th>\n",
       "      <td>0.437352</td>\n",
       "      <td>0.85</td>\n",
       "      <td>0.099833</td>\n",
       "      <td>0</td>\n",
       "      <td>0</td>\n",
       "      <td>0.10</td>\n",
       "      <td>1</td>\n",
       "      <td>0</td>\n",
       "      <td>0</td>\n",
       "      <td>0</td>\n",
       "      <td>0</td>\n",
       "      <td>0</td>\n",
       "      <td>0</td>\n",
       "      <td>0</td>\n",
       "      <td>0.682098</td>\n",
       "      <td>0</td>\n",
       "      <td>0</td>\n",
       "      <td>0</td>\n",
       "      <td>0</td>\n",
       "      <td>0</td>\n",
       "    </tr>\n",
       "    <tr>\n",
       "      <th>466</th>\n",
       "      <td>0.366216</td>\n",
       "      <td>0.94</td>\n",
       "      <td>0.673629</td>\n",
       "      <td>0</td>\n",
       "      <td>0</td>\n",
       "      <td>1.00</td>\n",
       "      <td>0</td>\n",
       "      <td>0</td>\n",
       "      <td>0</td>\n",
       "      <td>0</td>\n",
       "      <td>1</td>\n",
       "      <td>0</td>\n",
       "      <td>0</td>\n",
       "      <td>1</td>\n",
       "      <td>0.850401</td>\n",
       "      <td>1</td>\n",
       "      <td>0</td>\n",
       "      <td>0</td>\n",
       "      <td>0</td>\n",
       "      <td>0</td>\n",
       "    </tr>\n",
       "    <tr>\n",
       "      <th>6265</th>\n",
       "      <td>0.149807</td>\n",
       "      <td>0.50</td>\n",
       "      <td>0.007169</td>\n",
       "      <td>0</td>\n",
       "      <td>1</td>\n",
       "      <td>0.40</td>\n",
       "      <td>1</td>\n",
       "      <td>0</td>\n",
       "      <td>0</td>\n",
       "      <td>0</td>\n",
       "      <td>0</td>\n",
       "      <td>0</td>\n",
       "      <td>0</td>\n",
       "      <td>0</td>\n",
       "      <td>0.420431</td>\n",
       "      <td>1</td>\n",
       "      <td>0</td>\n",
       "      <td>0</td>\n",
       "      <td>0</td>\n",
       "      <td>1</td>\n",
       "    </tr>\n",
       "    <tr>\n",
       "      <th>5734</th>\n",
       "      <td>0.215206</td>\n",
       "      <td>0.29</td>\n",
       "      <td>0.058893</td>\n",
       "      <td>0</td>\n",
       "      <td>1</td>\n",
       "      <td>0.30</td>\n",
       "      <td>0</td>\n",
       "      <td>0</td>\n",
       "      <td>0</td>\n",
       "      <td>0</td>\n",
       "      <td>0</td>\n",
       "      <td>0</td>\n",
       "      <td>0</td>\n",
       "      <td>0</td>\n",
       "      <td>0.461748</td>\n",
       "      <td>0</td>\n",
       "      <td>0</td>\n",
       "      <td>0</td>\n",
       "      <td>0</td>\n",
       "      <td>0</td>\n",
       "    </tr>\n",
       "    <tr>\n",
       "      <th>3092</th>\n",
       "      <td>0.316764</td>\n",
       "      <td>0.56</td>\n",
       "      <td>0.330668</td>\n",
       "      <td>0</td>\n",
       "      <td>1</td>\n",
       "      <td>0.85</td>\n",
       "      <td>0</td>\n",
       "      <td>0</td>\n",
       "      <td>0</td>\n",
       "      <td>0</td>\n",
       "      <td>1</td>\n",
       "      <td>0</td>\n",
       "      <td>1</td>\n",
       "      <td>0</td>\n",
       "      <td>0.648120</td>\n",
       "      <td>0</td>\n",
       "      <td>0</td>\n",
       "      <td>0</td>\n",
       "      <td>0</td>\n",
       "      <td>0</td>\n",
       "    </tr>\n",
       "    <tr>\n",
       "      <th>3772</th>\n",
       "      <td>0.316764</td>\n",
       "      <td>0.42</td>\n",
       "      <td>0.258837</td>\n",
       "      <td>0</td>\n",
       "      <td>1</td>\n",
       "      <td>0.10</td>\n",
       "      <td>0</td>\n",
       "      <td>0</td>\n",
       "      <td>1</td>\n",
       "      <td>0</td>\n",
       "      <td>0</td>\n",
       "      <td>0</td>\n",
       "      <td>0</td>\n",
       "      <td>0</td>\n",
       "      <td>0.627557</td>\n",
       "      <td>0</td>\n",
       "      <td>0</td>\n",
       "      <td>0</td>\n",
       "      <td>0</td>\n",
       "      <td>1</td>\n",
       "    </tr>\n",
       "    <tr>\n",
       "      <th>5191</th>\n",
       "      <td>0.208994</td>\n",
       "      <td>0.59</td>\n",
       "      <td>0.113939</td>\n",
       "      <td>0</td>\n",
       "      <td>1</td>\n",
       "      <td>1.00</td>\n",
       "      <td>1</td>\n",
       "      <td>0</td>\n",
       "      <td>0</td>\n",
       "      <td>0</td>\n",
       "      <td>0</td>\n",
       "      <td>0</td>\n",
       "      <td>0</td>\n",
       "      <td>0</td>\n",
       "      <td>0.481158</td>\n",
       "      <td>0</td>\n",
       "      <td>0</td>\n",
       "      <td>0</td>\n",
       "      <td>0</td>\n",
       "      <td>0</td>\n",
       "    </tr>\n",
       "    <tr>\n",
       "      <th>5226</th>\n",
       "      <td>0.189942</td>\n",
       "      <td>0.70</td>\n",
       "      <td>0.110284</td>\n",
       "      <td>0</td>\n",
       "      <td>0</td>\n",
       "      <td>1.00</td>\n",
       "      <td>1</td>\n",
       "      <td>0</td>\n",
       "      <td>0</td>\n",
       "      <td>0</td>\n",
       "      <td>0</td>\n",
       "      <td>0</td>\n",
       "      <td>0</td>\n",
       "      <td>0</td>\n",
       "      <td>0.405191</td>\n",
       "      <td>0</td>\n",
       "      <td>0</td>\n",
       "      <td>0</td>\n",
       "      <td>0</td>\n",
       "      <td>0</td>\n",
       "    </tr>\n",
       "    <tr>\n",
       "      <th>5390</th>\n",
       "      <td>0.059881</td>\n",
       "      <td>0.75</td>\n",
       "      <td>0.093908</td>\n",
       "      <td>0</td>\n",
       "      <td>1</td>\n",
       "      <td>0.30</td>\n",
       "      <td>1</td>\n",
       "      <td>0</td>\n",
       "      <td>0</td>\n",
       "      <td>0</td>\n",
       "      <td>0</td>\n",
       "      <td>0</td>\n",
       "      <td>0</td>\n",
       "      <td>1</td>\n",
       "      <td>0.505472</td>\n",
       "      <td>1</td>\n",
       "      <td>0</td>\n",
       "      <td>0</td>\n",
       "      <td>0</td>\n",
       "      <td>0</td>\n",
       "    </tr>\n",
       "    <tr>\n",
       "      <th>860</th>\n",
       "      <td>0.208994</td>\n",
       "      <td>0.61</td>\n",
       "      <td>0.601614</td>\n",
       "      <td>0</td>\n",
       "      <td>1</td>\n",
       "      <td>0.35</td>\n",
       "      <td>0</td>\n",
       "      <td>0</td>\n",
       "      <td>0</td>\n",
       "      <td>0</td>\n",
       "      <td>0</td>\n",
       "      <td>0</td>\n",
       "      <td>0</td>\n",
       "      <td>0</td>\n",
       "      <td>0.609624</td>\n",
       "      <td>0</td>\n",
       "      <td>0</td>\n",
       "      <td>0</td>\n",
       "      <td>0</td>\n",
       "      <td>0</td>\n",
       "    </tr>\n",
       "  </tbody>\n",
       "</table>\n",
       "<p>4751 rows × 20 columns</p>\n",
       "</div>"
      ],
      "text/plain": [
       "       runtime  metascore     votes  star_Nicolas Cage  language_English  \\\n",
       "944   0.301048       0.47  0.585245                  0                 1   \n",
       "5184  0.227428       0.64  0.114248                  0                 0   \n",
       "5044  0.295712       0.59  0.126995                  0                 1   \n",
       "12    0.496815       0.85  0.900741                  0                 1   \n",
       "1117  0.268250       0.46  0.559748                  0                 1   \n",
       "4601  0.202714       0.27  0.172864                  0                 1   \n",
       "2899  0.149807       0.65  0.354475                  0                 1   \n",
       "5121  0.221350       0.62  0.120967                  0                 0   \n",
       "642   0.227428       0.94  0.640374                  0                 1   \n",
       "5940  0.316764       0.53  0.039512                  0                 1   \n",
       "3103  0.256883       0.39  0.329537                  0                 1   \n",
       "1893  0.256883       0.55  0.465607                  0                 1   \n",
       "3954  0.273850       0.05  0.238661                  0                 1   \n",
       "1319  0.233443       0.79  0.534754                  0                 1   \n",
       "3571  0.346949       0.48  0.279277                  0                 1   \n",
       "3076  0.284886       0.39  0.331978                  0                 1   \n",
       "5792  0.316764       0.31  0.053816                  0                 1   \n",
       "1805  0.268250       0.37  0.475686                  0                 1   \n",
       "2275  0.245284       0.19  0.421177                  0                 1   \n",
       "5743  0.370933       0.58  0.057734                  0                 1   \n",
       "5046  0.183446       0.52  0.126830                  0                 1   \n",
       "4963  0.268250       0.25  0.135650                  0                 1   \n",
       "3392  0.306335       0.37  0.297584                  0                 1   \n",
       "653   0.356664       0.32  0.638998                  0                 1   \n",
       "429   0.445649       0.48  0.682712                  0                 1   \n",
       "1992  0.366216       0.55  0.452503                  0                 1   \n",
       "2045  0.273850       0.77  0.446287                  0                 1   \n",
       "4280  0.268250       0.78  0.205357                  0                 1   \n",
       "3220  0.279395       0.31  0.315405                  0                 1   \n",
       "1926  0.420385       0.43  0.461073                  0                 1   \n",
       "...        ...        ...       ...                ...               ...   \n",
       "2904  0.361460       0.38  0.353734                  0                 1   \n",
       "4843  0.279395       0.30  0.146698                  0                 1   \n",
       "4117  0.361460       0.72  0.221921                  0                 1   \n",
       "3385  0.176876       0.42  0.297961                  0                 1   \n",
       "4555  0.290325       0.41  0.177236                  0                 1   \n",
       "1184  0.221350       0.57  0.550762                  0                 1   \n",
       "5051  0.424675       0.64  0.126498                  0                 1   \n",
       "5311  0.239394       0.21  0.102027                  0                 1   \n",
       "2433  0.256883       0.55  0.403576                  0                 1   \n",
       "5611  0.239394       0.47  0.071737                  0                 0   \n",
       "2391  0.290325       0.57  0.408164                  0                 1   \n",
       "769   0.481556       0.72  0.619224                  0                 1   \n",
       "1685  0.375611       0.69  0.490812                  1                 1   \n",
       "130   0.424675       0.65  0.784710                  0                 1   \n",
       "2919  0.295712       0.57  0.351382                  0                 1   \n",
       "3171  0.256883       0.61  0.321527                  0                 1   \n",
       "3444  0.221350       0.30  0.291622                  0                 1   \n",
       "6231  0.262595       0.64  0.009984                  0                 1   \n",
       "5578  0.221350       0.60  0.075751                  0                 1   \n",
       "4426  0.268250       0.52  0.188838                  0                 1   \n",
       "5334  0.437352       0.85  0.099833                  0                 0   \n",
       "466   0.366216       0.94  0.673629                  0                 0   \n",
       "6265  0.149807       0.50  0.007169                  0                 1   \n",
       "5734  0.215206       0.29  0.058893                  0                 1   \n",
       "3092  0.316764       0.56  0.330668                  0                 1   \n",
       "3772  0.316764       0.42  0.258837                  0                 1   \n",
       "5191  0.208994       0.59  0.113939                  0                 1   \n",
       "5226  0.189942       0.70  0.110284                  0                 0   \n",
       "5390  0.059881       0.75  0.093908                  0                 1   \n",
       "860   0.208994       0.61  0.601614                  0                 1   \n",
       "\n",
       "       age  genre_Drama  genre_War  genre_Horror  genre_Sci-Fi  \\\n",
       "944   0.55            1          0             0             0   \n",
       "5184  0.50            1          0             0             0   \n",
       "5044  0.65            1          0             0             0   \n",
       "12    0.70            1          0             0             0   \n",
       "1117  0.45            0          0             0             0   \n",
       "4601  0.25            1          0             0             0   \n",
       "2899  0.95            0          0             0             0   \n",
       "5121  0.35            1          0             0             0   \n",
       "642   0.15            1          0             0             0   \n",
       "5940  0.45            1          0             0             0   \n",
       "3103  0.10            0          0             0             0   \n",
       "1893  0.05            0          0             1             0   \n",
       "3954  0.25            0          0             1             0   \n",
       "1319  0.25            0          0             1             0   \n",
       "3571  0.90            1          0             0             0   \n",
       "3076  0.10            1          0             0             0   \n",
       "5792  0.90            1          0             0             0   \n",
       "1805  0.75            0          0             0             0   \n",
       "2275  0.70            0          0             0             0   \n",
       "5743  0.95            1          0             0             0   \n",
       "5046  0.40            0          0             1             0   \n",
       "4963  0.50            0          0             0             0   \n",
       "3392  0.70            1          0             0             0   \n",
       "653   0.55            0          0             0             1   \n",
       "429   0.55            0          0             0             0   \n",
       "1992  0.65            1          0             0             0   \n",
       "2045  0.30            1          0             0             0   \n",
       "4280  0.95            1          0             0             0   \n",
       "3220  0.90            0          0             0             0   \n",
       "1926  0.55            1          0             0             0   \n",
       "...    ...          ...        ...           ...           ...   \n",
       "2904  0.30            1          0             0             0   \n",
       "4843  0.20            1          0             1             0   \n",
       "4117  0.20            1          0             0             0   \n",
       "3385  0.55            0          0             0             0   \n",
       "4555  1.00            0          0             0             1   \n",
       "1184  0.60            0          0             0             0   \n",
       "5051  0.20            1          0             0             0   \n",
       "5311  0.50            0          0             0             0   \n",
       "2433  0.60            0          0             0             0   \n",
       "5611  0.25            1          0             0             0   \n",
       "2391  0.25            1          0             0             0   \n",
       "769   0.25            1          0             0             0   \n",
       "1685  0.55            1          0             0             0   \n",
       "130   0.20            0          0             0             1   \n",
       "2919  0.85            1          0             0             0   \n",
       "3171  0.95            1          0             0             0   \n",
       "3444  0.65            1          0             0             0   \n",
       "6231  0.75            1          0             0             0   \n",
       "5578  0.45            1          0             0             0   \n",
       "4426  0.70            1          0             0             0   \n",
       "5334  0.10            1          0             0             0   \n",
       "466   1.00            0          0             0             0   \n",
       "6265  0.40            1          0             0             0   \n",
       "5734  0.30            0          0             0             0   \n",
       "3092  0.85            0          0             0             0   \n",
       "3772  0.10            0          0             1             0   \n",
       "5191  1.00            1          0             0             0   \n",
       "5226  1.00            1          0             0             0   \n",
       "5390  0.30            1          0             0             0   \n",
       "860   0.35            0          0             0             0   \n",
       "\n",
       "      genre_Adventure  genre_Animation  genre_Biography  genre_Fantasy  \\\n",
       "944                 0                0                0              1   \n",
       "5184                0                0                0              0   \n",
       "5044                1                0                0              0   \n",
       "12                  0                0                0              0   \n",
       "1117                1                0                0              0   \n",
       "4601                0                0                0              0   \n",
       "2899                1                1                0              0   \n",
       "5121                0                0                0              0   \n",
       "642                 0                0                0              0   \n",
       "5940                0                0                0              0   \n",
       "3103                1                0                0              1   \n",
       "1893                0                0                0              0   \n",
       "3954                0                0                0              0   \n",
       "1319                0                0                0              0   \n",
       "3571                0                0                0              0   \n",
       "3076                1                0                0              0   \n",
       "5792                0                0                0              0   \n",
       "1805                1                0                0              0   \n",
       "2275                1                0                0              1   \n",
       "5743                0                0                0              0   \n",
       "5046                0                0                0              0   \n",
       "4963                0                0                0              0   \n",
       "3392                0                0                0              0   \n",
       "653                 1                0                0              0   \n",
       "429                 0                0                0              0   \n",
       "1992                0                0                1              0   \n",
       "2045                0                0                0              0   \n",
       "4280                0                0                0              0   \n",
       "3220                0                0                0              0   \n",
       "1926                0                0                0              0   \n",
       "...               ...              ...              ...            ...   \n",
       "2904                0                0                0              0   \n",
       "4843                0                0                0              0   \n",
       "4117                0                0                1              0   \n",
       "3385                1                0                0              0   \n",
       "4555                0                0                0              0   \n",
       "1184                1                0                0              0   \n",
       "5051                0                0                1              0   \n",
       "5311                0                0                0              0   \n",
       "2433                0                0                0              0   \n",
       "5611                0                0                0              0   \n",
       "2391                0                0                1              0   \n",
       "769                 0                0                1              0   \n",
       "1685                0                0                0              0   \n",
       "130                 1                0                0              0   \n",
       "2919                0                0                0              0   \n",
       "3171                0                0                0              0   \n",
       "3444                0                0                0              0   \n",
       "6231                0                0                0              0   \n",
       "5578                0                0                0              0   \n",
       "4426                0                0                0              0   \n",
       "5334                0                0                0              0   \n",
       "466                 1                0                0              1   \n",
       "6265                0                0                0              0   \n",
       "5734                0                0                0              0   \n",
       "3092                1                0                1              0   \n",
       "3772                0                0                0              0   \n",
       "5191                0                0                0              0   \n",
       "5226                0                0                0              0   \n",
       "5390                0                0                0              1   \n",
       "860                 0                0                0              0   \n",
       "\n",
       "      log_cum_worldwide_gross  k_nudity  director_Tyler Perry  country_Japan  \\\n",
       "944                  0.807069         0                     0              0   \n",
       "5184                 0.453491         0                     0              0   \n",
       "5044                 0.721620         0                     0              0   \n",
       "12                   0.868494         0                     0              0   \n",
       "1117                 0.833650         0                     0              0   \n",
       "4601                 0.434486         0                     0              0   \n",
       "2899                 0.808007         0                     0              0   \n",
       "5121                 0.602758         0                     0              0   \n",
       "642                  0.792561         0                     0              0   \n",
       "5940                 0.427099         0                     0              0   \n",
       "3103                 0.838486         0                     0              0   \n",
       "1893                 0.817649         0                     0              0   \n",
       "3954                 0.298746         0                     0              0   \n",
       "1319                 0.615674         0                     0              0   \n",
       "3571                 0.788658         0                     0              0   \n",
       "3076                 0.754652         0                     0              0   \n",
       "5792                 0.420878         0                     0              0   \n",
       "1805                 0.786397         0                     0              0   \n",
       "2275                 0.749413         0                     0              0   \n",
       "5743                 0.492517         0                     0              0   \n",
       "5046                 0.513131         0                     0              0   \n",
       "4963                 0.430018         1                     0              0   \n",
       "3392                 0.704937         0                     0              0   \n",
       "653                  0.870649         0                     0              0   \n",
       "429                  0.898215         0                     0              0   \n",
       "1992                 0.748969         0                     0              0   \n",
       "2045                 0.702876         0                     0              0   \n",
       "4280                 0.672591         0                     0              0   \n",
       "3220                 0.702824         0                     0              0   \n",
       "1926                 0.760786         0                     0              0   \n",
       "...                       ...       ...                   ...            ...   \n",
       "2904                 0.569578         0                     0              0   \n",
       "4843                 0.789431         0                     1              0   \n",
       "4117                 0.471070         0                     0              0   \n",
       "3385                 0.774500         0                     0              0   \n",
       "4555                 0.692574         0                     0              0   \n",
       "1184                 0.857679         0                     0              0   \n",
       "5051                 0.672508         0                     0              0   \n",
       "5311                 0.397426         0                     0              0   \n",
       "2433                 0.780492         0                     0              0   \n",
       "5611                 0.556787         0                     0              0   \n",
       "2391                 0.832491         0                     0              0   \n",
       "769                  0.847070         0                     0              0   \n",
       "1685                 0.675805         0                     0              0   \n",
       "130                  0.943349         0                     0              0   \n",
       "2919                 0.720722         0                     0              0   \n",
       "3171                 0.712531         1                     0              0   \n",
       "3444                 0.476911         0                     0              0   \n",
       "6231                 0.593768         0                     0              0   \n",
       "5578                 0.524847         0                     0              0   \n",
       "4426                 0.761685         0                     0              0   \n",
       "5334                 0.682098         0                     0              0   \n",
       "466                  0.850401         1                     0              0   \n",
       "6265                 0.420431         1                     0              0   \n",
       "5734                 0.461748         0                     0              0   \n",
       "3092                 0.648120         0                     0              0   \n",
       "3772                 0.627557         0                     0              0   \n",
       "5191                 0.481158         0                     0              0   \n",
       "5226                 0.405191         0                     0              0   \n",
       "5390                 0.505472         1                     0              0   \n",
       "860                  0.609624         0                     0              0   \n",
       "\n",
       "      country_South Korea  country_USA  \n",
       "944                     0            1  \n",
       "5184                    0            0  \n",
       "5044                    0            0  \n",
       "12                      0            1  \n",
       "1117                    0            1  \n",
       "4601                    0            1  \n",
       "2899                    0            1  \n",
       "5121                    0            0  \n",
       "642                     0            1  \n",
       "5940                    0            0  \n",
       "3103                    0            1  \n",
       "1893                    0            1  \n",
       "3954                    0            1  \n",
       "1319                    0            1  \n",
       "3571                    0            1  \n",
       "3076                    0            1  \n",
       "5792                    0            1  \n",
       "1805                    0            1  \n",
       "2275                    0            1  \n",
       "5743                    0            0  \n",
       "5046                    0            0  \n",
       "4963                    0            1  \n",
       "3392                    0            1  \n",
       "653                     0            1  \n",
       "429                     0            1  \n",
       "1992                    0            0  \n",
       "2045                    0            0  \n",
       "4280                    0            1  \n",
       "3220                    0            1  \n",
       "1926                    0            1  \n",
       "...                   ...          ...  \n",
       "2904                    0            1  \n",
       "4843                    0            0  \n",
       "4117                    0            0  \n",
       "3385                    0            1  \n",
       "4555                    0            1  \n",
       "1184                    0            1  \n",
       "5051                    0            0  \n",
       "5311                    0            1  \n",
       "2433                    0            1  \n",
       "5611                    0            0  \n",
       "2391                    0            0  \n",
       "769                     0            1  \n",
       "1685                    0            1  \n",
       "130                     0            1  \n",
       "2919                    0            0  \n",
       "3171                    0            1  \n",
       "3444                    0            1  \n",
       "6231                    0            0  \n",
       "5578                    0            1  \n",
       "4426                    0            1  \n",
       "5334                    0            0  \n",
       "466                     0            0  \n",
       "6265                    0            1  \n",
       "5734                    0            0  \n",
       "3092                    0            0  \n",
       "3772                    0            1  \n",
       "5191                    0            0  \n",
       "5226                    0            0  \n",
       "5390                    0            0  \n",
       "860                     0            0  \n",
       "\n",
       "[4751 rows x 20 columns]"
      ]
     },
     "execution_count": 52,
     "metadata": {},
     "output_type": "execute_result"
    }
   ],
   "source": [
    "feat_cols_lin_20=list(sfs_lin_20_fit.k_feature_idx_)\n",
    "\n",
    "X_train.iloc[:,feat_cols_lin_20]"
   ]
  },
  {
   "cell_type": "code",
   "execution_count": 53,
   "metadata": {},
   "outputs": [],
   "source": [
    "linear_model2=LinearRegression().fit(X_train.iloc[:,feat_cols_lin_20],y_train)"
   ]
  },
  {
   "cell_type": "code",
   "execution_count": 54,
   "metadata": {},
   "outputs": [],
   "source": [
    "y_lin_pred2=linear_model2.predict(X_test.iloc[:,feat_cols_lin_20])"
   ]
  },
  {
   "cell_type": "code",
   "execution_count": 55,
   "metadata": {
    "scrolled": true
   },
   "outputs": [
    {
     "name": "stdout",
     "output_type": "stream",
     "text": [
      "R2: 0.6337382491339387\n",
      "MSE: 0.003348734661227419\n",
      "MAE: 0.0427515174313653\n"
     ]
    },
    {
     "data": {
      "text/plain": [
       "(0.6337382491339387, 0.003348734661227419, 0.0427515174313653)"
      ]
     },
     "execution_count": 55,
     "metadata": {},
     "output_type": "execute_result"
    }
   ],
   "source": [
    "get_metrics(y_test,y_lin_pred2)"
   ]
  },
  {
   "cell_type": "code",
   "execution_count": 57,
   "metadata": {},
   "outputs": [
    {
     "data": {
      "image/png": "[encoded data removed]",
      "text/plain": [
       "<Figure size 432x288 with 1 Axes>"
      ]
     },
     "metadata": {
      "needs_background": "light"
     },
     "output_type": "display_data"
    }
   ],
   "source": [
    "plt.scatter(y_test,y_lin_pred2)\n",
    "plt.xlabel('actual')\n",
    "plt.ylabel('prediction')\n",
    "plt.plot([0, 1], [0, 1], ls=\"--\", c=\".3\")\n",
    "plt.ylim([0, 1])\n",
    "plt.show()"
   ]
  },
  {
   "cell_type": "markdown",
   "metadata": {},
   "source": [
    "- now with the selection of 10 features:"
   ]
  },
  {
   "cell_type": "code",
   "execution_count": 58,
   "metadata": {},
   "outputs": [
    {
     "data": {
      "text/plain": [
       "(0, 1, 2, 18, 28, 35, 42, 46, 49, 105)"
      ]
     },
     "execution_count": 58,
     "metadata": {},
     "output_type": "execute_result"
    }
   ],
   "source": [
    "linear=LinearRegression()\n",
    "sfs_lin_10=sfs(linear, k_features = 10, forward=True, floating = False, scoring='neg_mean_squared_error')\n",
    "\n",
    "sfs_lin_10_fit=sfs_lin_10.fit(X_train,y_train)\n",
    "sfs_lin_10_fit.k_feature_idx_"
   ]
  },
  {
   "cell_type": "code",
   "execution_count": 59,
   "metadata": {},
   "outputs": [
    {
     "data": {
      "text/html": [
       "<div>\n",
       "<style scoped>\n",
       "    .dataframe tbody tr th:only-of-type {\n",
       "        vertical-align: middle;\n",
       "    }\n",
       "\n",
       "    .dataframe tbody tr th {\n",
       "        vertical-align: top;\n",
       "    }\n",
       "\n",
       "    .dataframe thead th {\n",
       "        text-align: right;\n",
       "    }\n",
       "</style>\n",
       "<table border=\"1\" class=\"dataframe\">\n",
       "  <thead>\n",
       "    <tr style=\"text-align: right;\">\n",
       "      <th></th>\n",
       "      <th>runtime</th>\n",
       "      <th>metascore</th>\n",
       "      <th>votes</th>\n",
       "      <th>language_English</th>\n",
       "      <th>genre_Drama</th>\n",
       "      <th>genre_Horror</th>\n",
       "      <th>genre_Animation</th>\n",
       "      <th>genre_Biography</th>\n",
       "      <th>log_cum_worldwide_gross</th>\n",
       "      <th>country_USA</th>\n",
       "    </tr>\n",
       "  </thead>\n",
       "  <tbody>\n",
       "    <tr>\n",
       "      <th>944</th>\n",
       "      <td>0.301048</td>\n",
       "      <td>0.47</td>\n",
       "      <td>0.585245</td>\n",
       "      <td>1</td>\n",
       "      <td>1</td>\n",
       "      <td>0</td>\n",
       "      <td>0</td>\n",
       "      <td>0</td>\n",
       "      <td>0.807069</td>\n",
       "      <td>1</td>\n",
       "    </tr>\n",
       "    <tr>\n",
       "      <th>5184</th>\n",
       "      <td>0.227428</td>\n",
       "      <td>0.64</td>\n",
       "      <td>0.114248</td>\n",
       "      <td>0</td>\n",
       "      <td>1</td>\n",
       "      <td>0</td>\n",
       "      <td>0</td>\n",
       "      <td>0</td>\n",
       "      <td>0.453491</td>\n",
       "      <td>0</td>\n",
       "    </tr>\n",
       "    <tr>\n",
       "      <th>5044</th>\n",
       "      <td>0.295712</td>\n",
       "      <td>0.59</td>\n",
       "      <td>0.126995</td>\n",
       "      <td>1</td>\n",
       "      <td>1</td>\n",
       "      <td>0</td>\n",
       "      <td>0</td>\n",
       "      <td>0</td>\n",
       "      <td>0.721620</td>\n",
       "      <td>0</td>\n",
       "    </tr>\n",
       "    <tr>\n",
       "      <th>12</th>\n",
       "      <td>0.496815</td>\n",
       "      <td>0.85</td>\n",
       "      <td>0.900741</td>\n",
       "      <td>1</td>\n",
       "      <td>1</td>\n",
       "      <td>0</td>\n",
       "      <td>0</td>\n",
       "      <td>0</td>\n",
       "      <td>0.868494</td>\n",
       "      <td>1</td>\n",
       "    </tr>\n",
       "    <tr>\n",
       "      <th>1117</th>\n",
       "      <td>0.268250</td>\n",
       "      <td>0.46</td>\n",
       "      <td>0.559748</td>\n",
       "      <td>1</td>\n",
       "      <td>0</td>\n",
       "      <td>0</td>\n",
       "      <td>0</td>\n",
       "      <td>0</td>\n",
       "      <td>0.833650</td>\n",
       "      <td>1</td>\n",
       "    </tr>\n",
       "  </tbody>\n",
       "</table>\n",
       "</div>"
      ],
      "text/plain": [
       "       runtime  metascore     votes  language_English  genre_Drama  \\\n",
       "944   0.301048       0.47  0.585245                 1            1   \n",
       "5184  0.227428       0.64  0.114248                 0            1   \n",
       "5044  0.295712       0.59  0.126995                 1            1   \n",
       "12    0.496815       0.85  0.900741                 1            1   \n",
       "1117  0.268250       0.46  0.559748                 1            0   \n",
       "\n",
       "      genre_Horror  genre_Animation  genre_Biography  log_cum_worldwide_gross  \\\n",
       "944              0                0                0                 0.807069   \n",
       "5184             0                0                0                 0.453491   \n",
       "5044             0                0                0                 0.721620   \n",
       "12               0                0                0                 0.868494   \n",
       "1117             0                0                0                 0.833650   \n",
       "\n",
       "      country_USA  \n",
       "944             1  \n",
       "5184            0  \n",
       "5044            0  \n",
       "12              1  \n",
       "1117            1  "
      ]
     },
     "execution_count": 59,
     "metadata": {},
     "output_type": "execute_result"
    }
   ],
   "source": [
    "feat_cols_lin_10=list(sfs_lin_10_fit.k_feature_idx_)\n",
    "\n",
    "X_train.iloc[:,feat_cols_lin_10].head()"
   ]
  },
  {
   "cell_type": "code",
   "execution_count": 60,
   "metadata": {},
   "outputs": [],
   "source": [
    "linear_model3=LinearRegression().fit(X_train.iloc[:,feat_cols_lin_10],y_train)"
   ]
  },
  {
   "cell_type": "code",
   "execution_count": 61,
   "metadata": {},
   "outputs": [],
   "source": [
    "y_lin_pred3=linear_model3.predict(X_test.iloc[:,feat_cols_lin_10])"
   ]
  },
  {
   "cell_type": "code",
   "execution_count": 62,
   "metadata": {
    "scrolled": true
   },
   "outputs": [
    {
     "name": "stdout",
     "output_type": "stream",
     "text": [
      "R2: 0.6235669112519535\n",
      "MSE: 0.0034417312999316225\n",
      "MAE: 0.0434146596599259\n"
     ]
    },
    {
     "data": {
      "text/plain": [
       "(0.6235669112519535, 0.0034417312999316225, 0.0434146596599259)"
      ]
     },
     "execution_count": 62,
     "metadata": {},
     "output_type": "execute_result"
    }
   ],
   "source": [
    "get_metrics(y_test,y_lin_pred3)"
   ]
  },
  {
   "cell_type": "code",
   "execution_count": 63,
   "metadata": {},
   "outputs": [
    {
     "data": {
      "image/png": "[encoded data removed]",
      "text/plain": [
       "<Figure size 432x288 with 1 Axes>"
      ]
     },
     "metadata": {
      "needs_background": "light"
     },
     "output_type": "display_data"
    }
   ],
   "source": [
    "plt.scatter(y_test,y_lin_pred3)\n",
    "plt.xlabel('actual')\n",
    "plt.ylabel('prediction')\n",
    "plt.plot([0, 1], [0, 1], ls=\"--\", c=\".3\")\n",
    "plt.ylim([0, 1])\n",
    "plt.show()"
   ]
  },
  {
   "cell_type": "code",
   "execution_count": 64,
   "metadata": {},
   "outputs": [],
   "source": [
    "# the low rating scores (~0.2) are not well predicted (pred~0.5)"
   ]
  },
  {
   "cell_type": "code",
   "execution_count": null,
   "metadata": {},
   "outputs": [],
   "source": []
  },
  {
   "cell_type": "markdown",
   "metadata": {},
   "source": [
    "#### Feature selection with PCA"
   ]
  },
  {
   "cell_type": "code",
   "execution_count": 65,
   "metadata": {},
   "outputs": [],
   "source": [
    "from sklearn.decomposition import PCA"
   ]
  },
  {
   "cell_type": "code",
   "execution_count": 73,
   "metadata": {},
   "outputs": [],
   "source": [
    "pca=PCA(0.85)\n",
    "principal_components=pca.fit_transform(X)"
   ]
  },
  {
   "cell_type": "code",
   "execution_count": 74,
   "metadata": {},
   "outputs": [
    {
     "data": {
      "text/plain": [
       "(6335, 32)"
      ]
     },
     "execution_count": 74,
     "metadata": {},
     "output_type": "execute_result"
    }
   ],
   "source": [
    "principal_components.shape"
   ]
  },
  {
   "cell_type": "code",
   "execution_count": 81,
   "metadata": {},
   "outputs": [
    {
     "data": {
      "text/plain": [
       "array([0.41665474, 0.31563015, 0.25419251, 0.18375839, 0.16640378,\n",
       "       0.14526585, 0.13665621, 0.1224579 , 0.10443119, 0.09520602,\n",
       "       0.09247942, 0.09022452, 0.07890948, 0.07511533, 0.07088388,\n",
       "       0.06742102, 0.06264664, 0.06062861, 0.05796121, 0.05543702,\n",
       "       0.05181365, 0.04926748, 0.04546855, 0.04253252, 0.04183705,\n",
       "       0.0395381 , 0.03768581, 0.03657806, 0.03449927, 0.03327062,\n",
       "       0.0326284 , 0.02976288])"
      ]
     },
     "execution_count": 81,
     "metadata": {},
     "output_type": "execute_result"
    }
   ],
   "source": [
    "pca.explained_variance_"
   ]
  },
  {
   "cell_type": "code",
   "execution_count": 75,
   "metadata": {},
   "outputs": [],
   "source": [
    "cols=['PC_{}'.format(i) for i in range(1,principal_components.shape[1]+1)]"
   ]
  },
  {
   "cell_type": "code",
   "execution_count": 78,
   "metadata": {},
   "outputs": [],
   "source": [
    "X_pca=pd.DataFrame(data=principal_components,columns=cols)"
   ]
  },
  {
   "cell_type": "code",
   "execution_count": 80,
   "metadata": {},
   "outputs": [
    {
     "data": {
      "text/html": [
       "<div>\n",
       "<style scoped>\n",
       "    .dataframe tbody tr th:only-of-type {\n",
       "        vertical-align: middle;\n",
       "    }\n",
       "\n",
       "    .dataframe tbody tr th {\n",
       "        vertical-align: top;\n",
       "    }\n",
       "\n",
       "    .dataframe thead th {\n",
       "        text-align: right;\n",
       "    }\n",
       "</style>\n",
       "<table border=\"1\" class=\"dataframe\">\n",
       "  <thead>\n",
       "    <tr style=\"text-align: right;\">\n",
       "      <th></th>\n",
       "      <th>PC_1</th>\n",
       "      <th>PC_2</th>\n",
       "      <th>PC_3</th>\n",
       "      <th>PC_4</th>\n",
       "      <th>PC_5</th>\n",
       "      <th>PC_6</th>\n",
       "      <th>PC_7</th>\n",
       "      <th>PC_8</th>\n",
       "      <th>PC_9</th>\n",
       "      <th>PC_10</th>\n",
       "      <th>...</th>\n",
       "      <th>PC_23</th>\n",
       "      <th>PC_24</th>\n",
       "      <th>PC_25</th>\n",
       "      <th>PC_26</th>\n",
       "      <th>PC_27</th>\n",
       "      <th>PC_28</th>\n",
       "      <th>PC_29</th>\n",
       "      <th>PC_30</th>\n",
       "      <th>PC_31</th>\n",
       "      <th>PC_32</th>\n",
       "    </tr>\n",
       "  </thead>\n",
       "  <tbody>\n",
       "    <tr>\n",
       "      <th>0</th>\n",
       "      <td>-0.172032</td>\n",
       "      <td>0.610661</td>\n",
       "      <td>-0.526448</td>\n",
       "      <td>-0.909095</td>\n",
       "      <td>0.629809</td>\n",
       "      <td>0.113965</td>\n",
       "      <td>0.180305</td>\n",
       "      <td>0.140320</td>\n",
       "      <td>-0.376588</td>\n",
       "      <td>0.004405</td>\n",
       "      <td>...</td>\n",
       "      <td>0.089963</td>\n",
       "      <td>-0.081146</td>\n",
       "      <td>0.094060</td>\n",
       "      <td>0.179592</td>\n",
       "      <td>-0.104377</td>\n",
       "      <td>0.578811</td>\n",
       "      <td>0.563915</td>\n",
       "      <td>-0.162846</td>\n",
       "      <td>0.150872</td>\n",
       "      <td>0.219051</td>\n",
       "    </tr>\n",
       "    <tr>\n",
       "      <th>1</th>\n",
       "      <td>-0.886966</td>\n",
       "      <td>0.910353</td>\n",
       "      <td>0.479534</td>\n",
       "      <td>-0.748250</td>\n",
       "      <td>-0.534149</td>\n",
       "      <td>0.786751</td>\n",
       "      <td>-0.054961</td>\n",
       "      <td>-0.394529</td>\n",
       "      <td>-0.214745</td>\n",
       "      <td>0.141956</td>\n",
       "      <td>...</td>\n",
       "      <td>0.650943</td>\n",
       "      <td>-0.143194</td>\n",
       "      <td>-0.160126</td>\n",
       "      <td>-0.328799</td>\n",
       "      <td>0.010978</td>\n",
       "      <td>0.130950</td>\n",
       "      <td>-0.231346</td>\n",
       "      <td>-0.022483</td>\n",
       "      <td>0.019882</td>\n",
       "      <td>-0.379653</td>\n",
       "    </tr>\n",
       "    <tr>\n",
       "      <th>2</th>\n",
       "      <td>0.436028</td>\n",
       "      <td>0.285110</td>\n",
       "      <td>0.403901</td>\n",
       "      <td>-0.562096</td>\n",
       "      <td>-0.614860</td>\n",
       "      <td>-0.314759</td>\n",
       "      <td>-0.291935</td>\n",
       "      <td>0.242149</td>\n",
       "      <td>0.249545</td>\n",
       "      <td>0.366692</td>\n",
       "      <td>...</td>\n",
       "      <td>0.219253</td>\n",
       "      <td>-0.190625</td>\n",
       "      <td>-0.146376</td>\n",
       "      <td>-0.090045</td>\n",
       "      <td>-0.063011</td>\n",
       "      <td>-0.039944</td>\n",
       "      <td>0.170274</td>\n",
       "      <td>-0.062556</td>\n",
       "      <td>0.185384</td>\n",
       "      <td>-0.245680</td>\n",
       "    </tr>\n",
       "    <tr>\n",
       "      <th>3</th>\n",
       "      <td>0.441292</td>\n",
       "      <td>0.294658</td>\n",
       "      <td>0.404009</td>\n",
       "      <td>-0.569151</td>\n",
       "      <td>-0.625308</td>\n",
       "      <td>-0.326069</td>\n",
       "      <td>-0.289004</td>\n",
       "      <td>0.233148</td>\n",
       "      <td>0.258092</td>\n",
       "      <td>0.356102</td>\n",
       "      <td>...</td>\n",
       "      <td>0.209396</td>\n",
       "      <td>-0.187172</td>\n",
       "      <td>-0.138741</td>\n",
       "      <td>-0.088270</td>\n",
       "      <td>-0.077503</td>\n",
       "      <td>-0.035962</td>\n",
       "      <td>0.177729</td>\n",
       "      <td>-0.063295</td>\n",
       "      <td>0.183711</td>\n",
       "      <td>-0.255854</td>\n",
       "    </tr>\n",
       "    <tr>\n",
       "      <th>4</th>\n",
       "      <td>-0.046174</td>\n",
       "      <td>1.130378</td>\n",
       "      <td>0.567809</td>\n",
       "      <td>0.236566</td>\n",
       "      <td>0.014253</td>\n",
       "      <td>0.024961</td>\n",
       "      <td>0.953256</td>\n",
       "      <td>-0.098157</td>\n",
       "      <td>0.212130</td>\n",
       "      <td>-0.657012</td>\n",
       "      <td>...</td>\n",
       "      <td>0.047097</td>\n",
       "      <td>-0.167610</td>\n",
       "      <td>0.243867</td>\n",
       "      <td>0.017733</td>\n",
       "      <td>-0.451611</td>\n",
       "      <td>-0.082917</td>\n",
       "      <td>0.168845</td>\n",
       "      <td>0.056362</td>\n",
       "      <td>-0.015347</td>\n",
       "      <td>-0.189919</td>\n",
       "    </tr>\n",
       "  </tbody>\n",
       "</table>\n",
       "<p>5 rows × 32 columns</p>\n",
       "</div>"
      ],
      "text/plain": [
       "       PC_1      PC_2      PC_3      PC_4      PC_5      PC_6      PC_7  \\\n",
       "0 -0.172032  0.610661 -0.526448 -0.909095  0.629809  0.113965  0.180305   \n",
       "1 -0.886966  0.910353  0.479534 -0.748250 -0.534149  0.786751 -0.054961   \n",
       "2  0.436028  0.285110  0.403901 -0.562096 -0.614860 -0.314759 -0.291935   \n",
       "3  0.441292  0.294658  0.404009 -0.569151 -0.625308 -0.326069 -0.289004   \n",
       "4 -0.046174  1.130378  0.567809  0.236566  0.014253  0.024961  0.953256   \n",
       "\n",
       "       PC_8      PC_9     PC_10  ...     PC_23     PC_24     PC_25     PC_26  \\\n",
       "0  0.140320 -0.376588  0.004405  ...  0.089963 -0.081146  0.094060  0.179592   \n",
       "1 -0.394529 -0.214745  0.141956  ...  0.650943 -0.143194 -0.160126 -0.328799   \n",
       "2  0.242149  0.249545  0.366692  ...  0.219253 -0.190625 -0.146376 -0.090045   \n",
       "3  0.233148  0.258092  0.356102  ...  0.209396 -0.187172 -0.138741 -0.088270   \n",
       "4 -0.098157  0.212130 -0.657012  ...  0.047097 -0.167610  0.243867  0.017733   \n",
       "\n",
       "      PC_27     PC_28     PC_29     PC_30     PC_31     PC_32  \n",
       "0 -0.104377  0.578811  0.563915 -0.162846  0.150872  0.219051  \n",
       "1  0.010978  0.130950 -0.231346 -0.022483  0.019882 -0.379653  \n",
       "2 -0.063011 -0.039944  0.170274 -0.062556  0.185384 -0.245680  \n",
       "3 -0.077503 -0.035962  0.177729 -0.063295  0.183711 -0.255854  \n",
       "4 -0.451611 -0.082917  0.168845  0.056362 -0.015347 -0.189919  \n",
       "\n",
       "[5 rows x 32 columns]"
      ]
     },
     "execution_count": 80,
     "metadata": {},
     "output_type": "execute_result"
    }
   ],
   "source": [
    "X_pca.head()"
   ]
  },
  {
   "cell_type": "code",
   "execution_count": 82,
   "metadata": {},
   "outputs": [],
   "source": [
    "X_pca_train, X_pca_test, y_pca_train, y_pca_test=train_test_split(X_pca,\n",
    "                                                 y, random_state=42)"
   ]
  },
  {
   "cell_type": "code",
   "execution_count": 83,
   "metadata": {},
   "outputs": [],
   "source": [
    "linear_model4=LinearRegression().fit(X_pca_train,y_pca_train)"
   ]
  },
  {
   "cell_type": "code",
   "execution_count": 84,
   "metadata": {},
   "outputs": [],
   "source": [
    "y_lin_pred4=linear_model4.predict(X_pca_test)"
   ]
  },
  {
   "cell_type": "code",
   "execution_count": 112,
   "metadata": {
    "scrolled": true
   },
   "outputs": [
    {
     "name": "stdout",
     "output_type": "stream",
     "text": [
      "R2: 0.5180408729899342\n",
      "MSE: 0.0044065568684067274\n",
      "MAE: 0.04827766765654339\n"
     ]
    },
    {
     "data": {
      "text/plain": [
       "(0.5180408729899342, 0.0044065568684067274, 0.04827766765654339)"
      ]
     },
     "execution_count": 112,
     "metadata": {},
     "output_type": "execute_result"
    }
   ],
   "source": [
    "get_metrics(y_pca_test,y_lin_pred4)"
   ]
  },
  {
   "cell_type": "code",
   "execution_count": 95,
   "metadata": {},
   "outputs": [],
   "source": [
    "# pca does not make it better"
   ]
  },
  {
   "cell_type": "code",
   "execution_count": 113,
   "metadata": {},
   "outputs": [
    {
     "data": {
      "image/png": "[encoded data removed]",
      "text/plain": [
       "<Figure size 432x288 with 1 Axes>"
      ]
     },
     "metadata": {
      "needs_background": "light"
     },
     "output_type": "display_data"
    }
   ],
   "source": [
    "plt.scatter(y_pca_test,y_lin_pred4)\n",
    "plt.xlabel('actual')\n",
    "plt.ylabel('prediction')\n",
    "plt.plot([0, 1], [0, 1], ls=\"--\", c=\".3\")\n",
    "plt.ylim([0, 1])\n",
    "plt.show()"
   ]
  },
  {
   "cell_type": "code",
   "execution_count": 232,
   "metadata": {},
   "outputs": [
    {
     "name": "stdout",
     "output_type": "stream",
     "text": [
      "R2: 0.6337382491339387\n",
      "MSE: 0.003348734661227419\n",
      "MAE: 0.0427515174313653\n"
     ]
    }
   ],
   "source": [
    "metrics_dict['LINEAR']=get_metrics(y_test,y_lin_pred2)"
   ]
  },
  {
   "cell_type": "markdown",
   "metadata": {},
   "source": [
    "### K-Nearest-Neighbors"
   ]
  },
  {
   "cell_type": "code",
   "execution_count": 89,
   "metadata": {},
   "outputs": [],
   "source": [
    "from sklearn.neighbors import KNeighborsRegressor"
   ]
  },
  {
   "cell_type": "markdown",
   "metadata": {},
   "source": [
    "#### First test on all the features"
   ]
  },
  {
   "cell_type": "code",
   "execution_count": 90,
   "metadata": {},
   "outputs": [],
   "source": [
    "neigh = KNeighborsRegressor()"
   ]
  },
  {
   "cell_type": "code",
   "execution_count": 91,
   "metadata": {
    "scrolled": false
   },
   "outputs": [
    {
     "data": {
      "text/plain": [
       "KNeighborsRegressor(algorithm='auto', leaf_size=30, metric='minkowski',\n",
       "                    metric_params=None, n_jobs=None, n_neighbors=5, p=2,\n",
       "                    weights='uniform')"
      ]
     },
     "execution_count": 91,
     "metadata": {},
     "output_type": "execute_result"
    }
   ],
   "source": [
    "neigh.fit(X_train,y_train)"
   ]
  },
  {
   "cell_type": "code",
   "execution_count": 92,
   "metadata": {},
   "outputs": [],
   "source": [
    "y_knn_pred=neigh.predict(X_test)"
   ]
  },
  {
   "cell_type": "code",
   "execution_count": 93,
   "metadata": {
    "scrolled": true
   },
   "outputs": [
    {
     "name": "stdout",
     "output_type": "stream",
     "text": [
      "R2: 0.37325357740824816\n",
      "MSE: 0.005730348484848485\n",
      "MAE: 0.05655808080808081\n"
     ]
    },
    {
     "data": {
      "text/plain": [
       "(0.37325357740824816, 0.005730348484848485, 0.05655808080808081)"
      ]
     },
     "execution_count": 93,
     "metadata": {},
     "output_type": "execute_result"
    }
   ],
   "source": [
    "get_metrics(y_test,y_knn_pred)"
   ]
  },
  {
   "cell_type": "code",
   "execution_count": 94,
   "metadata": {},
   "outputs": [
    {
     "data": {
      "image/png": "[encoded data removed]",
      "text/plain": [
       "<Figure size 432x288 with 1 Axes>"
      ]
     },
     "metadata": {
      "needs_background": "light"
     },
     "output_type": "display_data"
    }
   ],
   "source": [
    "plt.scatter(y_test,y_knn_pred)\n",
    "plt.xlabel('actual')\n",
    "plt.ylabel('prediction')\n",
    "plt.plot([0, 1], [0, 1], ls=\"--\", c=\".3\")\n",
    "plt.show()"
   ]
  },
  {
   "cell_type": "markdown",
   "metadata": {},
   "source": [
    "#### SFS"
   ]
  },
  {
   "cell_type": "code",
   "execution_count": 96,
   "metadata": {},
   "outputs": [],
   "source": [
    "neighbor=KNeighborsRegressor()\n",
    "sfs_knn_20=sfs(neighbor, k_features = 20, forward=True, floating = False, scoring='neg_mean_squared_error')"
   ]
  },
  {
   "cell_type": "code",
   "execution_count": 97,
   "metadata": {},
   "outputs": [
    {
     "data": {
      "text/plain": [
       "(0, 1, 2, 3, 10, 13, 18, 33, 34, 35, 38, 42, 46, 49, 69, 70, 83, 88, 89, 102)"
      ]
     },
     "execution_count": 97,
     "metadata": {},
     "output_type": "execute_result"
    }
   ],
   "source": [
    "sfs_knn_20_fit=sfs_knn_20.fit(X_train,y_train)\n",
    "sfs_knn_20_fit.k_feature_idx_"
   ]
  },
  {
   "cell_type": "code",
   "execution_count": 98,
   "metadata": {
    "scrolled": true
   },
   "outputs": [
    {
     "data": {
      "text/html": [
       "<div>\n",
       "<style scoped>\n",
       "    .dataframe tbody tr th:only-of-type {\n",
       "        vertical-align: middle;\n",
       "    }\n",
       "\n",
       "    .dataframe tbody tr th {\n",
       "        vertical-align: top;\n",
       "    }\n",
       "\n",
       "    .dataframe thead th {\n",
       "        text-align: right;\n",
       "    }\n",
       "</style>\n",
       "<table border=\"1\" class=\"dataframe\">\n",
       "  <thead>\n",
       "    <tr style=\"text-align: right;\">\n",
       "      <th></th>\n",
       "      <th>runtime</th>\n",
       "      <th>metascore</th>\n",
       "      <th>votes</th>\n",
       "      <th>star_Nicolas Cage</th>\n",
       "      <th>star_Mark Wahlberg</th>\n",
       "      <th>star_Owen Wilson</th>\n",
       "      <th>language_English</th>\n",
       "      <th>genre_Adult</th>\n",
       "      <th>genre_Music</th>\n",
       "      <th>genre_Horror</th>\n",
       "      <th>genre_Action</th>\n",
       "      <th>genre_Animation</th>\n",
       "      <th>genre_Biography</th>\n",
       "      <th>log_cum_worldwide_gross</th>\n",
       "      <th>writer_Olivier Assayas</th>\n",
       "      <th>writer_Paul Laverty</th>\n",
       "      <th>director_Ron Howard</th>\n",
       "      <th>director_Tim Burton</th>\n",
       "      <th>director_Tyler Perry</th>\n",
       "      <th>country_South Korea</th>\n",
       "    </tr>\n",
       "  </thead>\n",
       "  <tbody>\n",
       "    <tr>\n",
       "      <th>944</th>\n",
       "      <td>0.301048</td>\n",
       "      <td>0.47</td>\n",
       "      <td>0.585245</td>\n",
       "      <td>0</td>\n",
       "      <td>0</td>\n",
       "      <td>0</td>\n",
       "      <td>1</td>\n",
       "      <td>0</td>\n",
       "      <td>0</td>\n",
       "      <td>0</td>\n",
       "      <td>0</td>\n",
       "      <td>0</td>\n",
       "      <td>0</td>\n",
       "      <td>0.807069</td>\n",
       "      <td>0</td>\n",
       "      <td>0</td>\n",
       "      <td>0</td>\n",
       "      <td>0</td>\n",
       "      <td>0</td>\n",
       "      <td>0</td>\n",
       "    </tr>\n",
       "    <tr>\n",
       "      <th>5184</th>\n",
       "      <td>0.227428</td>\n",
       "      <td>0.64</td>\n",
       "      <td>0.114248</td>\n",
       "      <td>0</td>\n",
       "      <td>0</td>\n",
       "      <td>0</td>\n",
       "      <td>0</td>\n",
       "      <td>0</td>\n",
       "      <td>0</td>\n",
       "      <td>0</td>\n",
       "      <td>0</td>\n",
       "      <td>0</td>\n",
       "      <td>0</td>\n",
       "      <td>0.453491</td>\n",
       "      <td>0</td>\n",
       "      <td>0</td>\n",
       "      <td>0</td>\n",
       "      <td>0</td>\n",
       "      <td>0</td>\n",
       "      <td>0</td>\n",
       "    </tr>\n",
       "    <tr>\n",
       "      <th>5044</th>\n",
       "      <td>0.295712</td>\n",
       "      <td>0.59</td>\n",
       "      <td>0.126995</td>\n",
       "      <td>0</td>\n",
       "      <td>0</td>\n",
       "      <td>0</td>\n",
       "      <td>1</td>\n",
       "      <td>0</td>\n",
       "      <td>0</td>\n",
       "      <td>0</td>\n",
       "      <td>0</td>\n",
       "      <td>0</td>\n",
       "      <td>0</td>\n",
       "      <td>0.721620</td>\n",
       "      <td>0</td>\n",
       "      <td>0</td>\n",
       "      <td>0</td>\n",
       "      <td>0</td>\n",
       "      <td>0</td>\n",
       "      <td>0</td>\n",
       "    </tr>\n",
       "    <tr>\n",
       "      <th>12</th>\n",
       "      <td>0.496815</td>\n",
       "      <td>0.85</td>\n",
       "      <td>0.900741</td>\n",
       "      <td>0</td>\n",
       "      <td>0</td>\n",
       "      <td>0</td>\n",
       "      <td>1</td>\n",
       "      <td>0</td>\n",
       "      <td>0</td>\n",
       "      <td>0</td>\n",
       "      <td>0</td>\n",
       "      <td>0</td>\n",
       "      <td>0</td>\n",
       "      <td>0.868494</td>\n",
       "      <td>0</td>\n",
       "      <td>0</td>\n",
       "      <td>0</td>\n",
       "      <td>0</td>\n",
       "      <td>0</td>\n",
       "      <td>0</td>\n",
       "    </tr>\n",
       "    <tr>\n",
       "      <th>1117</th>\n",
       "      <td>0.268250</td>\n",
       "      <td>0.46</td>\n",
       "      <td>0.559748</td>\n",
       "      <td>0</td>\n",
       "      <td>0</td>\n",
       "      <td>0</td>\n",
       "      <td>1</td>\n",
       "      <td>0</td>\n",
       "      <td>0</td>\n",
       "      <td>0</td>\n",
       "      <td>1</td>\n",
       "      <td>0</td>\n",
       "      <td>0</td>\n",
       "      <td>0.833650</td>\n",
       "      <td>0</td>\n",
       "      <td>0</td>\n",
       "      <td>0</td>\n",
       "      <td>0</td>\n",
       "      <td>0</td>\n",
       "      <td>0</td>\n",
       "    </tr>\n",
       "  </tbody>\n",
       "</table>\n",
       "</div>"
      ],
      "text/plain": [
       "       runtime  metascore     votes  star_Nicolas Cage  star_Mark Wahlberg  \\\n",
       "944   0.301048       0.47  0.585245                  0                   0   \n",
       "5184  0.227428       0.64  0.114248                  0                   0   \n",
       "5044  0.295712       0.59  0.126995                  0                   0   \n",
       "12    0.496815       0.85  0.900741                  0                   0   \n",
       "1117  0.268250       0.46  0.559748                  0                   0   \n",
       "\n",
       "      star_Owen Wilson  language_English  genre_Adult  genre_Music  \\\n",
       "944                  0                 1            0            0   \n",
       "5184                 0                 0            0            0   \n",
       "5044                 0                 1            0            0   \n",
       "12                   0                 1            0            0   \n",
       "1117                 0                 1            0            0   \n",
       "\n",
       "      genre_Horror  genre_Action  genre_Animation  genre_Biography  \\\n",
       "944              0             0                0                0   \n",
       "5184             0             0                0                0   \n",
       "5044             0             0                0                0   \n",
       "12               0             0                0                0   \n",
       "1117             0             1                0                0   \n",
       "\n",
       "      log_cum_worldwide_gross  writer_Olivier Assayas  writer_Paul Laverty  \\\n",
       "944                  0.807069                       0                    0   \n",
       "5184                 0.453491                       0                    0   \n",
       "5044                 0.721620                       0                    0   \n",
       "12                   0.868494                       0                    0   \n",
       "1117                 0.833650                       0                    0   \n",
       "\n",
       "      director_Ron Howard  director_Tim Burton  director_Tyler Perry  \\\n",
       "944                     0                    0                     0   \n",
       "5184                    0                    0                     0   \n",
       "5044                    0                    0                     0   \n",
       "12                      0                    0                     0   \n",
       "1117                    0                    0                     0   \n",
       "\n",
       "      country_South Korea  \n",
       "944                     0  \n",
       "5184                    0  \n",
       "5044                    0  \n",
       "12                      0  \n",
       "1117                    0  "
      ]
     },
     "execution_count": 98,
     "metadata": {},
     "output_type": "execute_result"
    }
   ],
   "source": [
    "feat_cols_knn_20=list(sfs_knn_20_fit.k_feature_idx_)\n",
    "\n",
    "X_train.iloc[:,feat_cols_knn_20].head()"
   ]
  },
  {
   "cell_type": "code",
   "execution_count": 99,
   "metadata": {},
   "outputs": [],
   "source": [
    "neigh20 = KNeighborsRegressor()"
   ]
  },
  {
   "cell_type": "code",
   "execution_count": 100,
   "metadata": {
    "scrolled": false
   },
   "outputs": [
    {
     "data": {
      "text/plain": [
       "KNeighborsRegressor(algorithm='auto', leaf_size=30, metric='minkowski',\n",
       "                    metric_params=None, n_jobs=None, n_neighbors=5, p=2,\n",
       "                    weights='uniform')"
      ]
     },
     "execution_count": 100,
     "metadata": {},
     "output_type": "execute_result"
    }
   ],
   "source": [
    "neigh20.fit(X_train.iloc[:,feat_cols_knn_20],y_train)"
   ]
  },
  {
   "cell_type": "code",
   "execution_count": 101,
   "metadata": {},
   "outputs": [],
   "source": [
    "y_knn_pred2=neigh20.predict(X_test.iloc[:,feat_cols_knn_20])"
   ]
  },
  {
   "cell_type": "code",
   "execution_count": 102,
   "metadata": {},
   "outputs": [
    {
     "name": "stdout",
     "output_type": "stream",
     "text": [
      "R2: 0.5745046433261175\n",
      "MSE: 0.00389030808080808\n",
      "MAE: 0.04595959595959595\n"
     ]
    },
    {
     "data": {
      "text/plain": [
       "(0.5745046433261175, 0.00389030808080808, 0.04595959595959595)"
      ]
     },
     "execution_count": 102,
     "metadata": {},
     "output_type": "execute_result"
    }
   ],
   "source": [
    "get_metrics(y_test,y_knn_pred2)"
   ]
  },
  {
   "cell_type": "code",
   "execution_count": 103,
   "metadata": {},
   "outputs": [
    {
     "data": {
      "image/png": "[encoded data removed]",
      "text/plain": [
       "<Figure size 432x288 with 1 Axes>"
      ]
     },
     "metadata": {
      "needs_background": "light"
     },
     "output_type": "display_data"
    }
   ],
   "source": [
    "plt.scatter(y_test,y_knn_pred2)\n",
    "plt.xlabel('actual')\n",
    "plt.ylabel('prediction')\n",
    "plt.plot([0, 1], [0, 1], ls=\"--\", c=\".3\")\n",
    "plt.show()"
   ]
  },
  {
   "cell_type": "code",
   "execution_count": null,
   "metadata": {},
   "outputs": [],
   "source": []
  },
  {
   "cell_type": "code",
   "execution_count": 104,
   "metadata": {},
   "outputs": [],
   "source": [
    "neighbor=KNeighborsRegressor()\n",
    "sfs_knn_10=sfs(neighbor, k_features = 10, forward=True, floating = False, scoring='neg_mean_squared_error')"
   ]
  },
  {
   "cell_type": "code",
   "execution_count": 105,
   "metadata": {},
   "outputs": [
    {
     "data": {
      "text/plain": [
       "(0, 1, 2, 3, 18, 35, 42, 46, 49, 102)"
      ]
     },
     "execution_count": 105,
     "metadata": {},
     "output_type": "execute_result"
    }
   ],
   "source": [
    "sfs_knn_10_fit=sfs_knn_10.fit(X_train,y_train)\n",
    "sfs_knn_10_fit.k_feature_idx_"
   ]
  },
  {
   "cell_type": "code",
   "execution_count": 106,
   "metadata": {
    "scrolled": true
   },
   "outputs": [
    {
     "data": {
      "text/html": [
       "<div>\n",
       "<style scoped>\n",
       "    .dataframe tbody tr th:only-of-type {\n",
       "        vertical-align: middle;\n",
       "    }\n",
       "\n",
       "    .dataframe tbody tr th {\n",
       "        vertical-align: top;\n",
       "    }\n",
       "\n",
       "    .dataframe thead th {\n",
       "        text-align: right;\n",
       "    }\n",
       "</style>\n",
       "<table border=\"1\" class=\"dataframe\">\n",
       "  <thead>\n",
       "    <tr style=\"text-align: right;\">\n",
       "      <th></th>\n",
       "      <th>runtime</th>\n",
       "      <th>metascore</th>\n",
       "      <th>votes</th>\n",
       "      <th>star_Nicolas Cage</th>\n",
       "      <th>language_English</th>\n",
       "      <th>genre_Horror</th>\n",
       "      <th>genre_Animation</th>\n",
       "      <th>genre_Biography</th>\n",
       "      <th>log_cum_worldwide_gross</th>\n",
       "      <th>country_South Korea</th>\n",
       "    </tr>\n",
       "  </thead>\n",
       "  <tbody>\n",
       "    <tr>\n",
       "      <th>944</th>\n",
       "      <td>0.301048</td>\n",
       "      <td>0.47</td>\n",
       "      <td>0.585245</td>\n",
       "      <td>0</td>\n",
       "      <td>1</td>\n",
       "      <td>0</td>\n",
       "      <td>0</td>\n",
       "      <td>0</td>\n",
       "      <td>0.807069</td>\n",
       "      <td>0</td>\n",
       "    </tr>\n",
       "    <tr>\n",
       "      <th>5184</th>\n",
       "      <td>0.227428</td>\n",
       "      <td>0.64</td>\n",
       "      <td>0.114248</td>\n",
       "      <td>0</td>\n",
       "      <td>0</td>\n",
       "      <td>0</td>\n",
       "      <td>0</td>\n",
       "      <td>0</td>\n",
       "      <td>0.453491</td>\n",
       "      <td>0</td>\n",
       "    </tr>\n",
       "    <tr>\n",
       "      <th>5044</th>\n",
       "      <td>0.295712</td>\n",
       "      <td>0.59</td>\n",
       "      <td>0.126995</td>\n",
       "      <td>0</td>\n",
       "      <td>1</td>\n",
       "      <td>0</td>\n",
       "      <td>0</td>\n",
       "      <td>0</td>\n",
       "      <td>0.721620</td>\n",
       "      <td>0</td>\n",
       "    </tr>\n",
       "    <tr>\n",
       "      <th>12</th>\n",
       "      <td>0.496815</td>\n",
       "      <td>0.85</td>\n",
       "      <td>0.900741</td>\n",
       "      <td>0</td>\n",
       "      <td>1</td>\n",
       "      <td>0</td>\n",
       "      <td>0</td>\n",
       "      <td>0</td>\n",
       "      <td>0.868494</td>\n",
       "      <td>0</td>\n",
       "    </tr>\n",
       "    <tr>\n",
       "      <th>1117</th>\n",
       "      <td>0.268250</td>\n",
       "      <td>0.46</td>\n",
       "      <td>0.559748</td>\n",
       "      <td>0</td>\n",
       "      <td>1</td>\n",
       "      <td>0</td>\n",
       "      <td>0</td>\n",
       "      <td>0</td>\n",
       "      <td>0.833650</td>\n",
       "      <td>0</td>\n",
       "    </tr>\n",
       "  </tbody>\n",
       "</table>\n",
       "</div>"
      ],
      "text/plain": [
       "       runtime  metascore     votes  star_Nicolas Cage  language_English  \\\n",
       "944   0.301048       0.47  0.585245                  0                 1   \n",
       "5184  0.227428       0.64  0.114248                  0                 0   \n",
       "5044  0.295712       0.59  0.126995                  0                 1   \n",
       "12    0.496815       0.85  0.900741                  0                 1   \n",
       "1117  0.268250       0.46  0.559748                  0                 1   \n",
       "\n",
       "      genre_Horror  genre_Animation  genre_Biography  log_cum_worldwide_gross  \\\n",
       "944              0                0                0                 0.807069   \n",
       "5184             0                0                0                 0.453491   \n",
       "5044             0                0                0                 0.721620   \n",
       "12               0                0                0                 0.868494   \n",
       "1117             0                0                0                 0.833650   \n",
       "\n",
       "      country_South Korea  \n",
       "944                     0  \n",
       "5184                    0  \n",
       "5044                    0  \n",
       "12                      0  \n",
       "1117                    0  "
      ]
     },
     "execution_count": 106,
     "metadata": {},
     "output_type": "execute_result"
    }
   ],
   "source": [
    "feat_cols_knn_10=list(sfs_knn_10_fit.k_feature_idx_)\n",
    "\n",
    "X_train.iloc[:,feat_cols_knn_10].head()"
   ]
  },
  {
   "cell_type": "code",
   "execution_count": 107,
   "metadata": {},
   "outputs": [],
   "source": [
    "neigh10 = KNeighborsRegressor()"
   ]
  },
  {
   "cell_type": "code",
   "execution_count": 108,
   "metadata": {
    "scrolled": false
   },
   "outputs": [
    {
     "data": {
      "text/plain": [
       "KNeighborsRegressor(algorithm='auto', leaf_size=30, metric='minkowski',\n",
       "                    metric_params=None, n_jobs=None, n_neighbors=5, p=2,\n",
       "                    weights='uniform')"
      ]
     },
     "execution_count": 108,
     "metadata": {},
     "output_type": "execute_result"
    }
   ],
   "source": [
    "neigh10.fit(X_train.iloc[:,feat_cols_knn_10],y_train)"
   ]
  },
  {
   "cell_type": "code",
   "execution_count": 109,
   "metadata": {},
   "outputs": [],
   "source": [
    "y_knn_pred3=neigh10.predict(X_test.iloc[:,feat_cols_knn_10])"
   ]
  },
  {
   "cell_type": "code",
   "execution_count": 110,
   "metadata": {},
   "outputs": [
    {
     "name": "stdout",
     "output_type": "stream",
     "text": [
      "R2: 0.5943945423470677\n",
      "MSE: 0.0037084545454545447\n",
      "MAE: 0.044992424242424243\n"
     ]
    },
    {
     "data": {
      "text/plain": [
       "(0.5943945423470677, 0.0037084545454545447, 0.044992424242424243)"
      ]
     },
     "execution_count": 110,
     "metadata": {},
     "output_type": "execute_result"
    }
   ],
   "source": [
    "get_metrics(y_test,y_knn_pred3)"
   ]
  },
  {
   "cell_type": "code",
   "execution_count": 111,
   "metadata": {},
   "outputs": [
    {
     "data": {
      "image/png": "[encoded data removed]",
      "text/plain": [
       "<Figure size 432x288 with 1 Axes>"
      ]
     },
     "metadata": {
      "needs_background": "light"
     },
     "output_type": "display_data"
    }
   ],
   "source": [
    "plt.scatter(y_test,y_knn_pred3)\n",
    "plt.xlabel('actual')\n",
    "plt.ylabel('prediction')\n",
    "plt.plot([0, 1], [0, 1], ls=\"--\", c=\".3\")\n",
    "plt.show()"
   ]
  },
  {
   "cell_type": "markdown",
   "metadata": {},
   "source": [
    "#### PCA"
   ]
  },
  {
   "cell_type": "code",
   "execution_count": 114,
   "metadata": {},
   "outputs": [],
   "source": [
    "neigh4 = KNeighborsRegressor()"
   ]
  },
  {
   "cell_type": "code",
   "execution_count": 115,
   "metadata": {
    "scrolled": false
   },
   "outputs": [
    {
     "data": {
      "text/plain": [
       "KNeighborsRegressor(algorithm='auto', leaf_size=30, metric='minkowski',\n",
       "                    metric_params=None, n_jobs=None, n_neighbors=5, p=2,\n",
       "                    weights='uniform')"
      ]
     },
     "execution_count": 115,
     "metadata": {},
     "output_type": "execute_result"
    }
   ],
   "source": [
    "neigh4.fit(X_pca_train,y_pca_train)"
   ]
  },
  {
   "cell_type": "code",
   "execution_count": 116,
   "metadata": {},
   "outputs": [],
   "source": [
    "y_knn_pred4=neigh4.predict(X_pca_test)"
   ]
  },
  {
   "cell_type": "code",
   "execution_count": 117,
   "metadata": {
    "scrolled": true
   },
   "outputs": [
    {
     "name": "stdout",
     "output_type": "stream",
     "text": [
      "R2: 0.3227546555709322\n",
      "MSE: 0.0061920606060606054\n",
      "MAE: 0.058924242424242414\n"
     ]
    },
    {
     "data": {
      "text/plain": [
       "(0.3227546555709322, 0.0061920606060606054, 0.058924242424242414)"
      ]
     },
     "execution_count": 117,
     "metadata": {},
     "output_type": "execute_result"
    }
   ],
   "source": [
    "get_metrics(y_pca_test,y_knn_pred4)"
   ]
  },
  {
   "cell_type": "code",
   "execution_count": 119,
   "metadata": {},
   "outputs": [
    {
     "data": {
      "image/png": "[encoded data removed]",
      "text/plain": [
       "<Figure size 432x288 with 1 Axes>"
      ]
     },
     "metadata": {
      "needs_background": "light"
     },
     "output_type": "display_data"
    }
   ],
   "source": [
    "plt.scatter(y_pca_test,y_knn_pred4)\n",
    "plt.xlabel('actual')\n",
    "plt.ylabel('prediction')\n",
    "plt.plot([0, 1], [0, 1], ls=\"--\", c=\".3\")\n",
    "plt.show()"
   ]
  },
  {
   "cell_type": "code",
   "execution_count": 233,
   "metadata": {},
   "outputs": [
    {
     "name": "stdout",
     "output_type": "stream",
     "text": [
      "R2: 0.5943945423470677\n",
      "MSE: 0.0037084545454545447\n",
      "MAE: 0.044992424242424243\n"
     ]
    }
   ],
   "source": [
    "metrics_dict['KNN']=get_metrics(y_test,y_knn_pred3)"
   ]
  },
  {
   "cell_type": "markdown",
   "metadata": {},
   "source": [
    "### Decision Tree Regressor"
   ]
  },
  {
   "cell_type": "code",
   "execution_count": 121,
   "metadata": {},
   "outputs": [],
   "source": [
    "from sklearn.tree import DecisionTreeRegressor"
   ]
  },
  {
   "cell_type": "code",
   "execution_count": 122,
   "metadata": {},
   "outputs": [],
   "source": [
    "regressor = DecisionTreeRegressor()"
   ]
  },
  {
   "cell_type": "code",
   "execution_count": 123,
   "metadata": {},
   "outputs": [
    {
     "data": {
      "text/plain": [
       "DecisionTreeRegressor(criterion='mse', max_depth=None, max_features=None,\n",
       "                      max_leaf_nodes=None, min_impurity_decrease=0.0,\n",
       "                      min_impurity_split=None, min_samples_leaf=1,\n",
       "                      min_samples_split=2, min_weight_fraction_leaf=0.0,\n",
       "                      presort=False, random_state=None, splitter='best')"
      ]
     },
     "execution_count": 123,
     "metadata": {},
     "output_type": "execute_result"
    }
   ],
   "source": [
    "regressor.fit(X_train,y_train)"
   ]
  },
  {
   "cell_type": "code",
   "execution_count": 124,
   "metadata": {},
   "outputs": [],
   "source": [
    "y_dt_pred=regressor.predict(X_test)"
   ]
  },
  {
   "cell_type": "code",
   "execution_count": 125,
   "metadata": {
    "scrolled": true
   },
   "outputs": [
    {
     "name": "stdout",
     "output_type": "stream",
     "text": [
      "R2: 0.34768290182908856\n",
      "MSE: 0.005964141414141413\n",
      "MAE: 0.05784090909090908\n"
     ]
    },
    {
     "data": {
      "text/plain": [
       "(0.34768290182908856, 0.005964141414141413, 0.05784090909090908)"
      ]
     },
     "execution_count": 125,
     "metadata": {},
     "output_type": "execute_result"
    }
   ],
   "source": [
    "get_metrics(y_test,y_dt_pred)"
   ]
  },
  {
   "cell_type": "code",
   "execution_count": 126,
   "metadata": {},
   "outputs": [
    {
     "data": {
      "image/png": "[encoded data removed]",
      "text/plain": [
       "<Figure size 432x288 with 1 Axes>"
      ]
     },
     "metadata": {
      "needs_background": "light"
     },
     "output_type": "display_data"
    }
   ],
   "source": [
    "plt.scatter(y_test,y_dt_pred)\n",
    "plt.xlabel('actual')\n",
    "plt.ylabel('prediction')\n",
    "plt.plot([0, 1], [0, 1], ls=\"--\", c=\".3\")\n",
    "plt.show()\n"
   ]
  },
  {
   "cell_type": "code",
   "execution_count": 187,
   "metadata": {},
   "outputs": [
    {
     "data": {
      "text/html": [
       "<div>\n",
       "<style scoped>\n",
       "    .dataframe tbody tr th:only-of-type {\n",
       "        vertical-align: middle;\n",
       "    }\n",
       "\n",
       "    .dataframe tbody tr th {\n",
       "        vertical-align: top;\n",
       "    }\n",
       "\n",
       "    .dataframe thead th {\n",
       "        text-align: right;\n",
       "    }\n",
       "</style>\n",
       "<table border=\"1\" class=\"dataframe\">\n",
       "  <thead>\n",
       "    <tr style=\"text-align: right;\">\n",
       "      <th></th>\n",
       "      <th>0</th>\n",
       "    </tr>\n",
       "  </thead>\n",
       "  <tbody>\n",
       "    <tr>\n",
       "      <th>metascore</th>\n",
       "      <td>0.544624</td>\n",
       "    </tr>\n",
       "    <tr>\n",
       "      <th>votes</th>\n",
       "      <td>0.116219</td>\n",
       "    </tr>\n",
       "    <tr>\n",
       "      <th>runtime</th>\n",
       "      <td>0.079551</td>\n",
       "    </tr>\n",
       "    <tr>\n",
       "      <th>log_cum_worldwide_gross</th>\n",
       "      <td>0.061261</td>\n",
       "    </tr>\n",
       "    <tr>\n",
       "      <th>age</th>\n",
       "      <td>0.036613</td>\n",
       "    </tr>\n",
       "    <tr>\n",
       "      <th>genre_Horror</th>\n",
       "      <td>0.015885</td>\n",
       "    </tr>\n",
       "    <tr>\n",
       "      <th>genre_Drama</th>\n",
       "      <td>0.015734</td>\n",
       "    </tr>\n",
       "    <tr>\n",
       "      <th>country_USA</th>\n",
       "      <td>0.008026</td>\n",
       "    </tr>\n",
       "    <tr>\n",
       "      <th>language_English</th>\n",
       "      <td>0.006707</td>\n",
       "    </tr>\n",
       "    <tr>\n",
       "      <th>genre_Action</th>\n",
       "      <td>0.005591</td>\n",
       "    </tr>\n",
       "  </tbody>\n",
       "</table>\n",
       "</div>"
      ],
      "text/plain": [
       "                                0\n",
       "metascore                0.544624\n",
       "votes                    0.116219\n",
       "runtime                  0.079551\n",
       "log_cum_worldwide_gross  0.061261\n",
       "age                      0.036613\n",
       "genre_Horror             0.015885\n",
       "genre_Drama              0.015734\n",
       "country_USA              0.008026\n",
       "language_English         0.006707\n",
       "genre_Action             0.005591"
      ]
     },
     "execution_count": 187,
     "metadata": {},
     "output_type": "execute_result"
    }
   ],
   "source": [
    "pd.DataFrame(regressor.feature_importances_,X.columns).sort_values(by=[0],ascending=False)[:10]"
   ]
  },
  {
   "cell_type": "code",
   "execution_count": null,
   "metadata": {},
   "outputs": [],
   "source": []
  },
  {
   "cell_type": "markdown",
   "metadata": {},
   "source": [
    "#### hyperparameter tuning with RandomizedSearchCV"
   ]
  },
  {
   "cell_type": "code",
   "execution_count": 127,
   "metadata": {},
   "outputs": [],
   "source": [
    "from scipy.stats import uniform, randint"
   ]
  },
  {
   "cell_type": "code",
   "execution_count": 128,
   "metadata": {},
   "outputs": [],
   "source": [
    "from sklearn.model_selection import RandomizedSearchCV"
   ]
  },
  {
   "cell_type": "code",
   "execution_count": 168,
   "metadata": {},
   "outputs": [],
   "source": [
    "params_dt={'max_depth': randint(3,25),\n",
    "          'max_features': randint(10,40)}"
   ]
  },
  {
   "cell_type": "code",
   "execution_count": 169,
   "metadata": {},
   "outputs": [],
   "source": [
    "dt_model=DecisionTreeRegressor()"
   ]
  },
  {
   "cell_type": "code",
   "execution_count": 170,
   "metadata": {},
   "outputs": [],
   "source": [
    "search=RandomizedSearchCV(dt_model, param_distributions=params_dt, random_state=42, n_iter=200, cv=3, n_jobs=-1 ,return_train_score=True)"
   ]
  },
  {
   "cell_type": "code",
   "execution_count": 171,
   "metadata": {},
   "outputs": [
    {
     "data": {
      "text/plain": [
       "RandomizedSearchCV(cv=3, error_score='raise-deprecating',\n",
       "                   estimator=DecisionTreeRegressor(criterion='mse',\n",
       "                                                   max_depth=None,\n",
       "                                                   max_features=None,\n",
       "                                                   max_leaf_nodes=None,\n",
       "                                                   min_impurity_decrease=0.0,\n",
       "                                                   min_impurity_split=None,\n",
       "                                                   min_samples_leaf=1,\n",
       "                                                   min_samples_split=2,\n",
       "                                                   min_weight_fraction_leaf=0.0,\n",
       "                                                   presort=False,\n",
       "                                                   random_state=None,\n",
       "                                                   splitter='best'),\n",
       "                   iid='warn', n_iter=200, n_jobs=-1,\n",
       "                   param_distributions={'max_depth': <scipy.stats._distn_infrastructure.rv_frozen object at 0x0000000014575A90>,\n",
       "                                        'max_features': <scipy.stats._distn_infrastructure.rv_frozen object at 0x0000000014958D30>},\n",
       "                   pre_dispatch='2*n_jobs', random_state=42, refit=True,\n",
       "                   return_train_score=True, scoring=None, verbose=0)"
      ]
     },
     "execution_count": 171,
     "metadata": {},
     "output_type": "execute_result"
    }
   ],
   "source": [
    "search.fit(X_train,y_train)"
   ]
  },
  {
   "cell_type": "code",
   "execution_count": 172,
   "metadata": {},
   "outputs": [
    {
     "data": {
      "text/plain": [
       "{'max_depth': 7, 'max_features': 35}"
      ]
     },
     "execution_count": 172,
     "metadata": {},
     "output_type": "execute_result"
    }
   ],
   "source": [
    "search.best_params_"
   ]
  },
  {
   "cell_type": "code",
   "execution_count": 173,
   "metadata": {},
   "outputs": [],
   "source": [
    "best_dt_model=search_rd.best_estimator_.fit(X_train,y_train)"
   ]
  },
  {
   "cell_type": "code",
   "execution_count": 174,
   "metadata": {},
   "outputs": [],
   "source": [
    "y_dt_pred2=best_dt_model.predict(X_test)"
   ]
  },
  {
   "cell_type": "code",
   "execution_count": 175,
   "metadata": {
    "scrolled": true
   },
   "outputs": [
    {
     "name": "stdout",
     "output_type": "stream",
     "text": [
      "R2: 0.5277759025780325\n",
      "MSE: 0.004317549400570805\n",
      "MAE: 0.048771374110045486\n"
     ]
    },
    {
     "data": {
      "text/plain": [
       "(0.5277759025780325, 0.004317549400570805, 0.048771374110045486)"
      ]
     },
     "execution_count": 175,
     "metadata": {},
     "output_type": "execute_result"
    }
   ],
   "source": [
    "get_metrics(y_test,y_dt_pred2)"
   ]
  },
  {
   "cell_type": "code",
   "execution_count": 176,
   "metadata": {},
   "outputs": [
    {
     "data": {
      "image/png": "[encoded data removed]",
      "text/plain": [
       "<Figure size 432x288 with 1 Axes>"
      ]
     },
     "metadata": {
      "needs_background": "light"
     },
     "output_type": "display_data"
    }
   ],
   "source": [
    "plt.scatter(y_test,y_dt_pred2)\n",
    "plt.xlabel('actual')\n",
    "plt.ylabel('prediction')\n",
    "plt.plot([0, 1], [0, 1], ls=\"--\", c=\".3\")\n",
    "plt.show()\n"
   ]
  },
  {
   "cell_type": "code",
   "execution_count": 177,
   "metadata": {},
   "outputs": [],
   "source": [
    "# with the decision tree, the metrics are not better than with the basic linear regression, but it is able to better predict some of the low rating"
   ]
  },
  {
   "cell_type": "code",
   "execution_count": 178,
   "metadata": {},
   "outputs": [
    {
     "data": {
      "text/html": [
       "<div>\n",
       "<style scoped>\n",
       "    .dataframe tbody tr th:only-of-type {\n",
       "        vertical-align: middle;\n",
       "    }\n",
       "\n",
       "    .dataframe tbody tr th {\n",
       "        vertical-align: top;\n",
       "    }\n",
       "\n",
       "    .dataframe thead th {\n",
       "        text-align: right;\n",
       "    }\n",
       "</style>\n",
       "<table border=\"1\" class=\"dataframe\">\n",
       "  <thead>\n",
       "    <tr style=\"text-align: right;\">\n",
       "      <th></th>\n",
       "      <th>0</th>\n",
       "    </tr>\n",
       "  </thead>\n",
       "  <tbody>\n",
       "    <tr>\n",
       "      <th>metascore</th>\n",
       "      <td>0.755817</td>\n",
       "    </tr>\n",
       "    <tr>\n",
       "      <th>runtime</th>\n",
       "      <td>0.095996</td>\n",
       "    </tr>\n",
       "    <tr>\n",
       "      <th>votes</th>\n",
       "      <td>0.046399</td>\n",
       "    </tr>\n",
       "    <tr>\n",
       "      <th>log_cum_worldwide_gross</th>\n",
       "      <td>0.018785</td>\n",
       "    </tr>\n",
       "    <tr>\n",
       "      <th>genre_Drama</th>\n",
       "      <td>0.017357</td>\n",
       "    </tr>\n",
       "    <tr>\n",
       "      <th>age</th>\n",
       "      <td>0.017191</td>\n",
       "    </tr>\n",
       "    <tr>\n",
       "      <th>genre_Horror</th>\n",
       "      <td>0.012209</td>\n",
       "    </tr>\n",
       "    <tr>\n",
       "      <th>genre_Sport</th>\n",
       "      <td>0.007832</td>\n",
       "    </tr>\n",
       "    <tr>\n",
       "      <th>language_English</th>\n",
       "      <td>0.003776</td>\n",
       "    </tr>\n",
       "    <tr>\n",
       "      <th>genre_History</th>\n",
       "      <td>0.003211</td>\n",
       "    </tr>\n",
       "  </tbody>\n",
       "</table>\n",
       "</div>"
      ],
      "text/plain": [
       "                                0\n",
       "metascore                0.755817\n",
       "runtime                  0.095996\n",
       "votes                    0.046399\n",
       "log_cum_worldwide_gross  0.018785\n",
       "genre_Drama              0.017357\n",
       "age                      0.017191\n",
       "genre_Horror             0.012209\n",
       "genre_Sport              0.007832\n",
       "language_English         0.003776\n",
       "genre_History            0.003211"
      ]
     },
     "execution_count": 178,
     "metadata": {},
     "output_type": "execute_result"
    }
   ],
   "source": [
    "pd.DataFrame(best_dt_model.feature_importances_,X.columns).sort_values(by=[0],ascending=False)[:10]"
   ]
  },
  {
   "cell_type": "code",
   "execution_count": null,
   "metadata": {},
   "outputs": [],
   "source": []
  },
  {
   "cell_type": "code",
   "execution_count": null,
   "metadata": {},
   "outputs": [],
   "source": []
  },
  {
   "cell_type": "code",
   "execution_count": 234,
   "metadata": {},
   "outputs": [
    {
     "name": "stdout",
     "output_type": "stream",
     "text": [
      "R2: 0.5277759025780325\n",
      "MSE: 0.004317549400570805\n",
      "MAE: 0.048771374110045486\n"
     ]
    }
   ],
   "source": [
    "metrics_dict['DT']=get_metrics(y_test,y_dt_pred2)"
   ]
  },
  {
   "cell_type": "code",
   "execution_count": null,
   "metadata": {},
   "outputs": [],
   "source": []
  },
  {
   "cell_type": "markdown",
   "metadata": {},
   "source": [
    "### Random Forest"
   ]
  },
  {
   "cell_type": "code",
   "execution_count": 180,
   "metadata": {},
   "outputs": [],
   "source": [
    "from sklearn.ensemble import RandomForestRegressor\n"
   ]
  },
  {
   "cell_type": "code",
   "execution_count": 181,
   "metadata": {},
   "outputs": [],
   "source": [
    "regressor_rf = RandomForestRegressor()"
   ]
  },
  {
   "cell_type": "code",
   "execution_count": 182,
   "metadata": {},
   "outputs": [
    {
     "name": "stderr",
     "output_type": "stream",
     "text": [
      "C:\\Users\\Marie\\Anaconda3\\lib\\site-packages\\sklearn\\ensemble\\forest.py:245: FutureWarning: The default value of n_estimators will change from 10 in version 0.20 to 100 in 0.22.\n",
      "  \"10 in version 0.20 to 100 in 0.22.\", FutureWarning)\n"
     ]
    },
    {
     "data": {
      "text/plain": [
       "RandomForestRegressor(bootstrap=True, criterion='mse', max_depth=None,\n",
       "                      max_features='auto', max_leaf_nodes=None,\n",
       "                      min_impurity_decrease=0.0, min_impurity_split=None,\n",
       "                      min_samples_leaf=1, min_samples_split=2,\n",
       "                      min_weight_fraction_leaf=0.0, n_estimators=10,\n",
       "                      n_jobs=None, oob_score=False, random_state=None,\n",
       "                      verbose=0, warm_start=False)"
      ]
     },
     "execution_count": 182,
     "metadata": {},
     "output_type": "execute_result"
    }
   ],
   "source": [
    "regressor_rf.fit(X_train, y_train)"
   ]
  },
  {
   "cell_type": "code",
   "execution_count": 183,
   "metadata": {},
   "outputs": [],
   "source": [
    "y_rf_pred = regressor_rf.predict(X_test)"
   ]
  },
  {
   "cell_type": "code",
   "execution_count": 184,
   "metadata": {},
   "outputs": [
    {
     "name": "stdout",
     "output_type": "stream",
     "text": [
      "R2: 0.6163435433436883\n",
      "MSE: 0.003507774621212121\n",
      "MAE: 0.04339330808080808\n"
     ]
    },
    {
     "data": {
      "text/plain": [
       "(0.6163435433436883, 0.003507774621212121, 0.04339330808080808)"
      ]
     },
     "execution_count": 184,
     "metadata": {},
     "output_type": "execute_result"
    }
   ],
   "source": [
    "get_metrics(y_test,y_rf_pred)"
   ]
  },
  {
   "cell_type": "code",
   "execution_count": 185,
   "metadata": {},
   "outputs": [
    {
     "data": {
      "image/png": "[encoded data removed]",
      "text/plain": [
       "<Figure size 432x288 with 1 Axes>"
      ]
     },
     "metadata": {
      "needs_background": "light"
     },
     "output_type": "display_data"
    }
   ],
   "source": [
    "plt.scatter(y_test,y_rf_pred)\n",
    "plt.xlabel('actual')\n",
    "plt.ylabel('prediction')\n",
    "plt.plot([0, 1], [0, 1], ls=\"--\", c=\".3\")\n",
    "plt.show()"
   ]
  },
  {
   "cell_type": "code",
   "execution_count": 186,
   "metadata": {},
   "outputs": [
    {
     "data": {
      "text/html": [
       "<div>\n",
       "<style scoped>\n",
       "    .dataframe tbody tr th:only-of-type {\n",
       "        vertical-align: middle;\n",
       "    }\n",
       "\n",
       "    .dataframe tbody tr th {\n",
       "        vertical-align: top;\n",
       "    }\n",
       "\n",
       "    .dataframe thead th {\n",
       "        text-align: right;\n",
       "    }\n",
       "</style>\n",
       "<table border=\"1\" class=\"dataframe\">\n",
       "  <thead>\n",
       "    <tr style=\"text-align: right;\">\n",
       "      <th></th>\n",
       "      <th>0</th>\n",
       "    </tr>\n",
       "  </thead>\n",
       "  <tbody>\n",
       "    <tr>\n",
       "      <th>metascore</th>\n",
       "      <td>0.539812</td>\n",
       "    </tr>\n",
       "    <tr>\n",
       "      <th>votes</th>\n",
       "      <td>0.111456</td>\n",
       "    </tr>\n",
       "    <tr>\n",
       "      <th>runtime</th>\n",
       "      <td>0.081930</td>\n",
       "    </tr>\n",
       "    <tr>\n",
       "      <th>log_cum_worldwide_gross</th>\n",
       "      <td>0.060737</td>\n",
       "    </tr>\n",
       "    <tr>\n",
       "      <th>age</th>\n",
       "      <td>0.037315</td>\n",
       "    </tr>\n",
       "    <tr>\n",
       "      <th>genre_Horror</th>\n",
       "      <td>0.016515</td>\n",
       "    </tr>\n",
       "    <tr>\n",
       "      <th>genre_Drama</th>\n",
       "      <td>0.014849</td>\n",
       "    </tr>\n",
       "    <tr>\n",
       "      <th>country_USA</th>\n",
       "      <td>0.010299</td>\n",
       "    </tr>\n",
       "    <tr>\n",
       "      <th>language_English</th>\n",
       "      <td>0.007774</td>\n",
       "    </tr>\n",
       "    <tr>\n",
       "      <th>genre_Action</th>\n",
       "      <td>0.005811</td>\n",
       "    </tr>\n",
       "  </tbody>\n",
       "</table>\n",
       "</div>"
      ],
      "text/plain": [
       "                                0\n",
       "metascore                0.539812\n",
       "votes                    0.111456\n",
       "runtime                  0.081930\n",
       "log_cum_worldwide_gross  0.060737\n",
       "age                      0.037315\n",
       "genre_Horror             0.016515\n",
       "genre_Drama              0.014849\n",
       "country_USA              0.010299\n",
       "language_English         0.007774\n",
       "genre_Action             0.005811"
      ]
     },
     "execution_count": 186,
     "metadata": {},
     "output_type": "execute_result"
    }
   ],
   "source": [
    "pd.DataFrame(regressor_rf.feature_importances_,X.columns).sort_values(by=[0],ascending=False)[:10]"
   ]
  },
  {
   "cell_type": "code",
   "execution_count": null,
   "metadata": {},
   "outputs": [],
   "source": []
  },
  {
   "cell_type": "code",
   "execution_count": 202,
   "metadata": {},
   "outputs": [],
   "source": [
    "params_rf={'max_depth': randint(3,25),\n",
    "          'max_features': randint(10,40)}"
   ]
  },
  {
   "cell_type": "code",
   "execution_count": 203,
   "metadata": {},
   "outputs": [],
   "source": [
    "rf_model=RandomForestRegressor()"
   ]
  },
  {
   "cell_type": "code",
   "execution_count": 204,
   "metadata": {},
   "outputs": [],
   "source": [
    "search_rf=RandomizedSearchCV(rf_model, param_distributions=params_rf, random_state=42, n_iter=200, cv=3, n_jobs=-1 ,return_train_score=True)"
   ]
  },
  {
   "cell_type": "code",
   "execution_count": 205,
   "metadata": {},
   "outputs": [
    {
     "name": "stderr",
     "output_type": "stream",
     "text": [
      "C:\\Users\\Marie\\Anaconda3\\lib\\site-packages\\sklearn\\ensemble\\forest.py:245: FutureWarning: The default value of n_estimators will change from 10 in version 0.20 to 100 in 0.22.\n",
      "  \"10 in version 0.20 to 100 in 0.22.\", FutureWarning)\n"
     ]
    },
    {
     "data": {
      "text/plain": [
       "RandomizedSearchCV(cv=3, error_score='raise-deprecating',\n",
       "                   estimator=RandomForestRegressor(bootstrap=True,\n",
       "                                                   criterion='mse',\n",
       "                                                   max_depth=None,\n",
       "                                                   max_features='auto',\n",
       "                                                   max_leaf_nodes=None,\n",
       "                                                   min_impurity_decrease=0.0,\n",
       "                                                   min_impurity_split=None,\n",
       "                                                   min_samples_leaf=1,\n",
       "                                                   min_samples_split=2,\n",
       "                                                   min_weight_fraction_leaf=0.0,\n",
       "                                                   n_estimators='warn',\n",
       "                                                   n_jobs=None, oob_score=False,\n",
       "                                                   random_sta...erbose=0,\n",
       "                                                   warm_start=False),\n",
       "                   iid='warn', n_iter=200, n_jobs=-1,\n",
       "                   param_distributions={'max_depth': <scipy.stats._distn_infrastructure.rv_frozen object at 0x000000000DC544A8>,\n",
       "                                        'max_features': <scipy.stats._distn_infrastructure.rv_frozen object at 0x0000000014A994A8>},\n",
       "                   pre_dispatch='2*n_jobs', random_state=42, refit=True,\n",
       "                   return_train_score=True, scoring=None, verbose=0)"
      ]
     },
     "execution_count": 205,
     "metadata": {},
     "output_type": "execute_result"
    }
   ],
   "source": [
    "search_rf.fit(X_train,y_train)"
   ]
  },
  {
   "cell_type": "code",
   "execution_count": 206,
   "metadata": {},
   "outputs": [
    {
     "data": {
      "text/plain": [
       "{'max_depth': 14, 'max_features': 39}"
      ]
     },
     "execution_count": 206,
     "metadata": {},
     "output_type": "execute_result"
    }
   ],
   "source": [
    "search_rf.best_params_"
   ]
  },
  {
   "cell_type": "code",
   "execution_count": 207,
   "metadata": {},
   "outputs": [],
   "source": [
    "best_rf_model=search_rf.best_estimator_.fit(X_train,y_train)"
   ]
  },
  {
   "cell_type": "code",
   "execution_count": 208,
   "metadata": {},
   "outputs": [],
   "source": [
    "y_rf_pred2=best_rf_model.predict(X_test)"
   ]
  },
  {
   "cell_type": "code",
   "execution_count": 209,
   "metadata": {
    "scrolled": true
   },
   "outputs": [
    {
     "name": "stdout",
     "output_type": "stream",
     "text": [
      "R2: 0.6307823057429212\n",
      "MSE: 0.0033757608796810812\n",
      "MAE: 0.04266737224701018\n"
     ]
    },
    {
     "data": {
      "text/plain": [
       "(0.6307823057429212, 0.0033757608796810812, 0.04266737224701018)"
      ]
     },
     "execution_count": 209,
     "metadata": {},
     "output_type": "execute_result"
    }
   ],
   "source": [
    "get_metrics(y_test,y_rf_pred2)"
   ]
  },
  {
   "cell_type": "code",
   "execution_count": 210,
   "metadata": {},
   "outputs": [
    {
     "data": {
      "image/png": "[encoded data removed]",
      "text/plain": [
       "<Figure size 432x288 with 1 Axes>"
      ]
     },
     "metadata": {
      "needs_background": "light"
     },
     "output_type": "display_data"
    }
   ],
   "source": [
    "plt.scatter(y_test,y_rf_pred2)\n",
    "plt.xlabel('actual')\n",
    "plt.ylabel('prediction')\n",
    "plt.plot([0, 1], [0, 1], ls=\"--\", c=\".3\")\n",
    "plt.show()\n"
   ]
  },
  {
   "cell_type": "code",
   "execution_count": null,
   "metadata": {},
   "outputs": [],
   "source": []
  },
  {
   "cell_type": "code",
   "execution_count": 235,
   "metadata": {},
   "outputs": [
    {
     "name": "stdout",
     "output_type": "stream",
     "text": [
      "R2: 0.6307823057429212\n",
      "MSE: 0.0033757608796810812\n",
      "MAE: 0.04266737224701018\n"
     ]
    }
   ],
   "source": [
    "metrics_dict['RF']=get_metrics(y_test,y_rf_pred2)"
   ]
  },
  {
   "cell_type": "code",
   "execution_count": null,
   "metadata": {},
   "outputs": [],
   "source": []
  },
  {
   "cell_type": "markdown",
   "metadata": {},
   "source": [
    "## Comparison of the models"
   ]
  },
  {
   "cell_type": "code",
   "execution_count": 236,
   "metadata": {},
   "outputs": [],
   "source": [
    "metrics_df=pd.DataFrame.from_dict(metrics_dict, orient='index', columns=['R2','MSE','MAE'])"
   ]
  },
  {
   "cell_type": "code",
   "execution_count": 237,
   "metadata": {},
   "outputs": [
    {
     "data": {
      "text/html": [
       "<div>\n",
       "<style scoped>\n",
       "    .dataframe tbody tr th:only-of-type {\n",
       "        vertical-align: middle;\n",
       "    }\n",
       "\n",
       "    .dataframe tbody tr th {\n",
       "        vertical-align: top;\n",
       "    }\n",
       "\n",
       "    .dataframe thead th {\n",
       "        text-align: right;\n",
       "    }\n",
       "</style>\n",
       "<table border=\"1\" class=\"dataframe\">\n",
       "  <thead>\n",
       "    <tr style=\"text-align: right;\">\n",
       "      <th></th>\n",
       "      <th>R2</th>\n",
       "      <th>MSE</th>\n",
       "      <th>MAE</th>\n",
       "    </tr>\n",
       "  </thead>\n",
       "  <tbody>\n",
       "    <tr>\n",
       "      <th>LINEAR</th>\n",
       "      <td>0.634</td>\n",
       "      <td>0.003</td>\n",
       "      <td>0.043</td>\n",
       "    </tr>\n",
       "    <tr>\n",
       "      <th>KNN</th>\n",
       "      <td>0.594</td>\n",
       "      <td>0.004</td>\n",
       "      <td>0.045</td>\n",
       "    </tr>\n",
       "    <tr>\n",
       "      <th>DT</th>\n",
       "      <td>0.528</td>\n",
       "      <td>0.004</td>\n",
       "      <td>0.049</td>\n",
       "    </tr>\n",
       "    <tr>\n",
       "      <th>RF</th>\n",
       "      <td>0.631</td>\n",
       "      <td>0.003</td>\n",
       "      <td>0.043</td>\n",
       "    </tr>\n",
       "  </tbody>\n",
       "</table>\n",
       "</div>"
      ],
      "text/plain": [
       "           R2    MSE    MAE\n",
       "LINEAR  0.634  0.003  0.043\n",
       "KNN     0.594  0.004  0.045\n",
       "DT      0.528  0.004  0.049\n",
       "RF      0.631  0.003  0.043"
      ]
     },
     "execution_count": 237,
     "metadata": {},
     "output_type": "execute_result"
    }
   ],
   "source": [
    "round(metrics_df,3)"
   ]
  },
  {
   "cell_type": "code",
   "execution_count": 221,
   "metadata": {},
   "outputs": [],
   "source": [
    "# linear regression and random forest are the best models here"
   ]
  },
  {
   "cell_type": "code",
   "execution_count": null,
   "metadata": {},
   "outputs": [],
   "source": []
  }
 ],
 "metadata": {
  "kernelspec": {
   "display_name": "Python 3",
   "language": "python",
   "name": "python3"
  },
  "language_info": {
   "codemirror_mode": {
    "name": "ipython",
    "version": 3
   },
   "file_extension": ".py",
   "mimetype": "text/x-python",
   "name": "python",
   "nbconvert_exporter": "python",
   "pygments_lexer": "ipython3",
   "version": "3.7.3"
  }
 },
 "nbformat": 4,
 "nbformat_minor": 2
}
