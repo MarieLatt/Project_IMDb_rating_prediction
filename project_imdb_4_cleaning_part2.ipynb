{
 "cells": [
  {
   "cell_type": "code",
   "execution_count": 1,
   "metadata": {},
   "outputs": [],
   "source": [
    "import pandas as pd\n",
    "import numpy as np\n",
    "import matplotlib.pyplot as plt\n",
    "\n",
    "%matplotlib inline"
   ]
  },
  {
   "cell_type": "code",
   "execution_count": 2,
   "metadata": {},
   "outputs": [],
   "source": [
    "df1=pd.read_csv('movies_imdb.csv')"
   ]
  },
  {
   "cell_type": "code",
   "execution_count": 3,
   "metadata": {},
   "outputs": [],
   "source": [
    "df2=pd.read_csv('movies_imdb_more_info.csv')"
   ]
  },
  {
   "cell_type": "code",
   "execution_count": 4,
   "metadata": {},
   "outputs": [],
   "source": [
    "df_all=pd.merge(df1,df2,on='imdbID',how='left')"
   ]
  },
  {
   "cell_type": "code",
   "execution_count": 5,
   "metadata": {},
   "outputs": [
    {
     "name": "stdout",
     "output_type": "stream",
     "text": [
      "<class 'pandas.core.frame.DataFrame'>\n",
      "Int64Index: 6661 entries, 0 to 6660\n",
      "Data columns (total 18 columns):\n",
      "movie                  6661 non-null object\n",
      "year                   6661 non-null object\n",
      "imdbID                 6661 non-null object\n",
      "genre                  6661 non-null object\n",
      "runtime                6661 non-null object\n",
      "rating                 6661 non-null float64\n",
      "metascore              6661 non-null float64\n",
      "director               6661 non-null object\n",
      "votes                  6661 non-null object\n",
      "gross                  5501 non-null object\n",
      "stars                  6658 non-null object\n",
      "writer                 6657 non-null object\n",
      "popularity             2755 non-null object\n",
      "plot_keywords          6593 non-null object\n",
      "languages              6657 non-null object\n",
      "country                6661 non-null object\n",
      "budget                 4552 non-null object\n",
      "cum_worldwide_gross    6338 non-null object\n",
      "dtypes: float64(2), object(16)\n",
      "memory usage: 988.7+ KB\n"
     ]
    }
   ],
   "source": [
    "df_all.info()"
   ]
  },
  {
   "cell_type": "code",
   "execution_count": 6,
   "metadata": {},
   "outputs": [
    {
     "data": {
      "text/plain": [
       "movie                     0\n",
       "year                      0\n",
       "imdbID                    0\n",
       "genre                     0\n",
       "runtime                   0\n",
       "rating                    0\n",
       "metascore                 0\n",
       "director                  0\n",
       "votes                     0\n",
       "gross                  1160\n",
       "stars                     3\n",
       "writer                    4\n",
       "popularity             3906\n",
       "plot_keywords            68\n",
       "languages                 4\n",
       "country                   0\n",
       "budget                 2109\n",
       "cum_worldwide_gross     323\n",
       "dtype: int64"
      ]
     },
     "execution_count": 6,
     "metadata": {},
     "output_type": "execute_result"
    }
   ],
   "source": [
    "df_all.isna().sum()"
   ]
  },
  {
   "cell_type": "code",
   "execution_count": 7,
   "metadata": {},
   "outputs": [
    {
     "data": {
      "text/plain": [
       "movie                  0.000000\n",
       "year                   0.000000\n",
       "imdbID                 0.000000\n",
       "genre                  0.000000\n",
       "runtime                0.000000\n",
       "rating                 0.000000\n",
       "metascore              0.000000\n",
       "director               0.000000\n",
       "votes                  0.000000\n",
       "gross                  0.174148\n",
       "stars                  0.000450\n",
       "writer                 0.000601\n",
       "popularity             0.586398\n",
       "plot_keywords          0.010209\n",
       "languages              0.000601\n",
       "country                0.000000\n",
       "budget                 0.316619\n",
       "cum_worldwide_gross    0.048491\n",
       "dtype: float64"
      ]
     },
     "execution_count": 7,
     "metadata": {},
     "output_type": "execute_result"
    }
   ],
   "source": [
    "df_all.isna().sum()/df_all.shape[0]"
   ]
  },
  {
   "cell_type": "markdown",
   "metadata": {},
   "source": [
    "### Gross and cum_worldwide_gross"
   ]
  },
  {
   "cell_type": "markdown",
   "metadata": {},
   "source": [
    "- as predicted: less missing values for 'cum_worldwide_gross', so we drop the 'gross' column"
   ]
  },
  {
   "cell_type": "code",
   "execution_count": 8,
   "metadata": {},
   "outputs": [],
   "source": [
    "df_all.drop('gross',axis=1,inplace=True)"
   ]
  },
  {
   "cell_type": "code",
   "execution_count": 9,
   "metadata": {},
   "outputs": [
    {
     "data": {
      "text/html": [
       "<div>\n",
       "<style scoped>\n",
       "    .dataframe tbody tr th:only-of-type {\n",
       "        vertical-align: middle;\n",
       "    }\n",
       "\n",
       "    .dataframe tbody tr th {\n",
       "        vertical-align: top;\n",
       "    }\n",
       "\n",
       "    .dataframe thead th {\n",
       "        text-align: right;\n",
       "    }\n",
       "</style>\n",
       "<table border=\"1\" class=\"dataframe\">\n",
       "  <thead>\n",
       "    <tr style=\"text-align: right;\">\n",
       "      <th></th>\n",
       "      <th>movie</th>\n",
       "      <th>year</th>\n",
       "      <th>imdbID</th>\n",
       "      <th>genre</th>\n",
       "      <th>runtime</th>\n",
       "      <th>rating</th>\n",
       "      <th>metascore</th>\n",
       "      <th>director</th>\n",
       "      <th>votes</th>\n",
       "      <th>stars</th>\n",
       "      <th>writer</th>\n",
       "      <th>popularity</th>\n",
       "      <th>plot_keywords</th>\n",
       "      <th>languages</th>\n",
       "      <th>country</th>\n",
       "      <th>budget</th>\n",
       "      <th>cum_worldwide_gross</th>\n",
       "    </tr>\n",
       "  </thead>\n",
       "  <tbody>\n",
       "    <tr>\n",
       "      <th>474</th>\n",
       "      <td>Bird Box</td>\n",
       "      <td>(2018)</td>\n",
       "      <td>/title/tt2737304/</td>\n",
       "      <td>\\nDrama, Horror, Sci-Fi</td>\n",
       "      <td>124 min</td>\n",
       "      <td>6.6</td>\n",
       "      <td>51.0</td>\n",
       "      <td>Susanne Bier</td>\n",
       "      <td>242,769</td>\n",
       "      <td>['Sandra Bullock', 'Trevante Rhodes', 'John Ma...</td>\n",
       "      <td>Eric Heisserer</td>\n",
       "      <td>363\\n      ( 80)</td>\n",
       "      <td>[' suicide', ' survival', ' invisible creature...</td>\n",
       "      <td>['English']</td>\n",
       "      <td>USA</td>\n",
       "      <td>NaN</td>\n",
       "      <td>NaN</td>\n",
       "    </tr>\n",
       "    <tr>\n",
       "      <th>843</th>\n",
       "      <td>Bright</td>\n",
       "      <td>(I) (2017)</td>\n",
       "      <td>/title/tt5519340/</td>\n",
       "      <td>\\nAction, Adventure, Crime</td>\n",
       "      <td>117 min</td>\n",
       "      <td>6.4</td>\n",
       "      <td>29.0</td>\n",
       "      <td>David Ayer</td>\n",
       "      <td>155,837</td>\n",
       "      <td>['Will Smith', 'Joel Edgerton', 'Noomi Rapace']</td>\n",
       "      <td>Max Landis</td>\n",
       "      <td>681\\n      ( 96)</td>\n",
       "      <td>[' orc', ' buddy movie', ' elf', ' magic', ' w...</td>\n",
       "      <td>['English', 'Spanish']</td>\n",
       "      <td>USA</td>\n",
       "      <td>['90,000,000']</td>\n",
       "      <td>NaN</td>\n",
       "    </tr>\n",
       "    <tr>\n",
       "      <th>906</th>\n",
       "      <td>El Camino: Un film Breaking Bad</td>\n",
       "      <td>(2019)</td>\n",
       "      <td>/title/tt9243946/</td>\n",
       "      <td>\\nAction, Drama</td>\n",
       "      <td>122 min</td>\n",
       "      <td>7.4</td>\n",
       "      <td>72.0</td>\n",
       "      <td>Vince Gilligan</td>\n",
       "      <td>143,693</td>\n",
       "      <td>['Aaron Paul', 'Jonathan Banks', 'Matt Jones']</td>\n",
       "      <td>Vince Gilligan</td>\n",
       "      <td>238\\n      ( 29)</td>\n",
       "      <td>[' neo noir', ' happy ending', ' crystal meth'...</td>\n",
       "      <td>['English']</td>\n",
       "      <td>USA</td>\n",
       "      <td>NaN</td>\n",
       "      <td>NaN</td>\n",
       "    </tr>\n",
       "    <tr>\n",
       "      <th>1258</th>\n",
       "      <td>La ballade de Buster Scruggs</td>\n",
       "      <td>(2018)</td>\n",
       "      <td>/title/tt6412452/</td>\n",
       "      <td>\\nComedy, Drama, Musical</td>\n",
       "      <td>133 min</td>\n",
       "      <td>7.3</td>\n",
       "      <td>79.0</td>\n",
       "      <td>Ethan Coen</td>\n",
       "      <td>101,228</td>\n",
       "      <td>['Tim Blake Nelson', 'Willie Watson', 'Clancy ...</td>\n",
       "      <td>Joel Coen</td>\n",
       "      <td>531\\n      ( 13)</td>\n",
       "      <td>[' episodic structure', ' cowboy', ' new mexic...</td>\n",
       "      <td>['English', 'French']</td>\n",
       "      <td>USA</td>\n",
       "      <td>NaN</td>\n",
       "      <td>NaN</td>\n",
       "    </tr>\n",
       "    <tr>\n",
       "      <th>1437</th>\n",
       "      <td>Triple frontière</td>\n",
       "      <td>(2019)</td>\n",
       "      <td>/title/tt1488606/</td>\n",
       "      <td>\\nAction, Adventure, Crime</td>\n",
       "      <td>125 min</td>\n",
       "      <td>6.5</td>\n",
       "      <td>61.0</td>\n",
       "      <td>J.C. Chandor</td>\n",
       "      <td>88,333</td>\n",
       "      <td>['Ben Affleck', 'Oscar Isaac', 'Charlie Hunnam']</td>\n",
       "      <td>Mark Boal</td>\n",
       "      <td>221\\n      ( 123)</td>\n",
       "      <td>[' greed', ' theft', ' brazil', ' boat', ' cha...</td>\n",
       "      <td>['English', 'Spanish', 'Portuguese']</td>\n",
       "      <td>USA</td>\n",
       "      <td>NaN</td>\n",
       "      <td>NaN</td>\n",
       "    </tr>\n",
       "  </tbody>\n",
       "</table>\n",
       "</div>"
      ],
      "text/plain": [
       "                                movie        year             imdbID  \\\n",
       "474                          Bird Box      (2018)  /title/tt2737304/   \n",
       "843                            Bright  (I) (2017)  /title/tt5519340/   \n",
       "906   El Camino: Un film Breaking Bad      (2019)  /title/tt9243946/   \n",
       "1258     La ballade de Buster Scruggs      (2018)  /title/tt6412452/   \n",
       "1437                 Triple frontière      (2019)  /title/tt1488606/   \n",
       "\n",
       "                                       genre  runtime  rating  metascore  \\\n",
       "474      \\nDrama, Horror, Sci-Fi              124 min     6.6       51.0   \n",
       "843   \\nAction, Adventure, Crime              117 min     6.4       29.0   \n",
       "906              \\nAction, Drama              122 min     7.4       72.0   \n",
       "1258    \\nComedy, Drama, Musical              133 min     7.3       79.0   \n",
       "1437  \\nAction, Adventure, Crime              125 min     6.5       61.0   \n",
       "\n",
       "            director    votes  \\\n",
       "474     Susanne Bier  242,769   \n",
       "843       David Ayer  155,837   \n",
       "906   Vince Gilligan  143,693   \n",
       "1258      Ethan Coen  101,228   \n",
       "1437    J.C. Chandor   88,333   \n",
       "\n",
       "                                                  stars          writer  \\\n",
       "474   ['Sandra Bullock', 'Trevante Rhodes', 'John Ma...  Eric Heisserer   \n",
       "843     ['Will Smith', 'Joel Edgerton', 'Noomi Rapace']      Max Landis   \n",
       "906      ['Aaron Paul', 'Jonathan Banks', 'Matt Jones']  Vince Gilligan   \n",
       "1258  ['Tim Blake Nelson', 'Willie Watson', 'Clancy ...       Joel Coen   \n",
       "1437   ['Ben Affleck', 'Oscar Isaac', 'Charlie Hunnam']       Mark Boal   \n",
       "\n",
       "             popularity                                      plot_keywords  \\\n",
       "474    363\\n      ( 80)  [' suicide', ' survival', ' invisible creature...   \n",
       "843    681\\n      ( 96)  [' orc', ' buddy movie', ' elf', ' magic', ' w...   \n",
       "906    238\\n      ( 29)  [' neo noir', ' happy ending', ' crystal meth'...   \n",
       "1258   531\\n      ( 13)  [' episodic structure', ' cowboy', ' new mexic...   \n",
       "1437  221\\n      ( 123)  [' greed', ' theft', ' brazil', ' boat', ' cha...   \n",
       "\n",
       "                                 languages country          budget  \\\n",
       "474                            ['English']     USA             NaN   \n",
       "843                 ['English', 'Spanish']     USA  ['90,000,000']   \n",
       "906                            ['English']     USA             NaN   \n",
       "1258                 ['English', 'French']     USA             NaN   \n",
       "1437  ['English', 'Spanish', 'Portuguese']     USA             NaN   \n",
       "\n",
       "     cum_worldwide_gross  \n",
       "474                  NaN  \n",
       "843                  NaN  \n",
       "906                  NaN  \n",
       "1258                 NaN  \n",
       "1437                 NaN  "
      ]
     },
     "execution_count": 9,
     "metadata": {},
     "output_type": "execute_result"
    }
   ],
   "source": [
    "df_all[df_all.cum_worldwide_gross.isna()].head()"
   ]
  },
  {
   "cell_type": "markdown",
   "metadata": {},
   "source": [
    "- seems to be mostly Netflix movies \n",
    "- we can drop the movies with missing values"
   ]
  },
  {
   "cell_type": "code",
   "execution_count": 10,
   "metadata": {},
   "outputs": [],
   "source": [
    "df_all.dropna(subset=['cum_worldwide_gross'], inplace=True)"
   ]
  },
  {
   "cell_type": "code",
   "execution_count": 11,
   "metadata": {},
   "outputs": [
    {
     "data": {
      "text/plain": [
       "(6338, 17)"
      ]
     },
     "execution_count": 11,
     "metadata": {},
     "output_type": "execute_result"
    }
   ],
   "source": [
    "df_all.shape"
   ]
  },
  {
   "cell_type": "code",
   "execution_count": 12,
   "metadata": {},
   "outputs": [
    {
     "data": {
      "text/plain": [
       "movie                     0\n",
       "year                      0\n",
       "imdbID                    0\n",
       "genre                     0\n",
       "runtime                   0\n",
       "rating                    0\n",
       "metascore                 0\n",
       "director                  0\n",
       "votes                     0\n",
       "stars                     2\n",
       "writer                    3\n",
       "popularity             3679\n",
       "plot_keywords            54\n",
       "languages                 4\n",
       "country                   0\n",
       "budget                 1867\n",
       "cum_worldwide_gross       0\n",
       "dtype: int64"
      ]
     },
     "execution_count": 12,
     "metadata": {},
     "output_type": "execute_result"
    }
   ],
   "source": [
    "df_all.isna().sum()"
   ]
  },
  {
   "cell_type": "markdown",
   "metadata": {},
   "source": [
    "### popularity"
   ]
  },
  {
   "cell_type": "markdown",
   "metadata": {},
   "source": [
    "- too many missing values: drop the column"
   ]
  },
  {
   "cell_type": "code",
   "execution_count": 13,
   "metadata": {},
   "outputs": [],
   "source": [
    "df_all.drop('popularity', axis=1,inplace=True)"
   ]
  },
  {
   "cell_type": "markdown",
   "metadata": {},
   "source": [
    "### budget"
   ]
  },
  {
   "cell_type": "markdown",
   "metadata": {},
   "source": [
    "- too many missing values: drop the column"
   ]
  },
  {
   "cell_type": "code",
   "execution_count": 14,
   "metadata": {},
   "outputs": [],
   "source": [
    "df_all.drop('budget', axis=1,inplace=True)"
   ]
  },
  {
   "cell_type": "markdown",
   "metadata": {},
   "source": [
    "### stars"
   ]
  },
  {
   "cell_type": "markdown",
   "metadata": {},
   "source": [
    "1. dealing with missing values"
   ]
  },
  {
   "cell_type": "code",
   "execution_count": 15,
   "metadata": {},
   "outputs": [
    {
     "data": {
      "text/html": [
       "<div>\n",
       "<style scoped>\n",
       "    .dataframe tbody tr th:only-of-type {\n",
       "        vertical-align: middle;\n",
       "    }\n",
       "\n",
       "    .dataframe tbody tr th {\n",
       "        vertical-align: top;\n",
       "    }\n",
       "\n",
       "    .dataframe thead th {\n",
       "        text-align: right;\n",
       "    }\n",
       "</style>\n",
       "<table border=\"1\" class=\"dataframe\">\n",
       "  <thead>\n",
       "    <tr style=\"text-align: right;\">\n",
       "      <th></th>\n",
       "      <th>movie</th>\n",
       "      <th>year</th>\n",
       "      <th>imdbID</th>\n",
       "      <th>genre</th>\n",
       "      <th>runtime</th>\n",
       "      <th>rating</th>\n",
       "      <th>metascore</th>\n",
       "      <th>director</th>\n",
       "      <th>votes</th>\n",
       "      <th>stars</th>\n",
       "      <th>writer</th>\n",
       "      <th>plot_keywords</th>\n",
       "      <th>languages</th>\n",
       "      <th>country</th>\n",
       "      <th>cum_worldwide_gross</th>\n",
       "    </tr>\n",
       "  </thead>\n",
       "  <tbody>\n",
       "    <tr>\n",
       "      <th>1674</th>\n",
       "      <td>All Is Lost</td>\n",
       "      <td>(2013)</td>\n",
       "      <td>/title/tt2017038/</td>\n",
       "      <td>\\nAdventure, Drama</td>\n",
       "      <td>106 min</td>\n",
       "      <td>6.9</td>\n",
       "      <td>87.0</td>\n",
       "      <td>J.C. Chandor</td>\n",
       "      <td>72,822</td>\n",
       "      <td>NaN</td>\n",
       "      <td>J.C. Chandor</td>\n",
       "      <td>[' one man film', ' storm', ' boat', ' sea', '...</td>\n",
       "      <td>['English']</td>\n",
       "      <td>USA</td>\n",
       "      <td>['13,627,519']</td>\n",
       "    </tr>\n",
       "    <tr>\n",
       "      <th>4155</th>\n",
       "      <td>Taxi Téhéran</td>\n",
       "      <td>(III) (2015)</td>\n",
       "      <td>/title/tt4359416/</td>\n",
       "      <td>\\nComedy, Drama</td>\n",
       "      <td>82 min</td>\n",
       "      <td>7.3</td>\n",
       "      <td>91.0</td>\n",
       "      <td>Jafar Panahi</td>\n",
       "      <td>12,417</td>\n",
       "      <td>NaN</td>\n",
       "      <td>Jafar Panahi</td>\n",
       "      <td>[' pseudo documentary', ' taxi driver', ' dire...</td>\n",
       "      <td>['Persian']</td>\n",
       "      <td>Iran</td>\n",
       "      <td>['3,906,227']</td>\n",
       "    </tr>\n",
       "  </tbody>\n",
       "</table>\n",
       "</div>"
      ],
      "text/plain": [
       "             movie          year             imdbID  \\\n",
       "1674   All Is Lost        (2013)  /title/tt2017038/   \n",
       "4155  Taxi Téhéran  (III) (2015)  /title/tt4359416/   \n",
       "\n",
       "                               genre  runtime  rating  metascore  \\\n",
       "1674  \\nAdventure, Drama              106 min     6.9       87.0   \n",
       "4155     \\nComedy, Drama               82 min     7.3       91.0   \n",
       "\n",
       "          director   votes stars        writer  \\\n",
       "1674  J.C. Chandor  72,822   NaN  J.C. Chandor   \n",
       "4155  Jafar Panahi  12,417   NaN  Jafar Panahi   \n",
       "\n",
       "                                          plot_keywords    languages country  \\\n",
       "1674  [' one man film', ' storm', ' boat', ' sea', '...  ['English']     USA   \n",
       "4155  [' pseudo documentary', ' taxi driver', ' dire...  ['Persian']    Iran   \n",
       "\n",
       "     cum_worldwide_gross  \n",
       "1674      ['13,627,519']  \n",
       "4155       ['3,906,227']  "
      ]
     },
     "execution_count": 15,
     "metadata": {},
     "output_type": "execute_result"
    }
   ],
   "source": [
    "df_all[df_all.stars.isna()]"
   ]
  },
  {
   "cell_type": "markdown",
   "metadata": {},
   "source": [
    "- 2 movies with only 1 star\n",
    "- add info by hand"
   ]
  },
  {
   "cell_type": "code",
   "execution_count": 16,
   "metadata": {},
   "outputs": [],
   "source": [
    "df_all.loc[1674,'stars']=['Robert Redford']"
   ]
  },
  {
   "cell_type": "code",
   "execution_count": 17,
   "metadata": {},
   "outputs": [],
   "source": [
    "df_all.loc[4155,'stars']=['Jafar Panahi']"
   ]
  },
  {
   "cell_type": "code",
   "execution_count": 18,
   "metadata": {},
   "outputs": [
    {
     "data": {
      "text/plain": [
       "0"
      ]
     },
     "execution_count": 18,
     "metadata": {},
     "output_type": "execute_result"
    }
   ],
   "source": [
    "df_all.stars.isna().sum()"
   ]
  },
  {
   "cell_type": "markdown",
   "metadata": {},
   "source": [
    "2. categorizing"
   ]
  },
  {
   "cell_type": "markdown",
   "metadata": {},
   "source": [
    "- we need to extract the most frequent actors "
   ]
  },
  {
   "cell_type": "code",
   "execution_count": 19,
   "metadata": {},
   "outputs": [
    {
     "data": {
      "text/plain": [
       "0    ['Christian Bale', 'Heath Ledger', 'Aaron Eckh...\n",
       "1    ['Leonardo DiCaprio', 'Joseph Gordon-Levitt', ...\n",
       "2     ['Elijah Wood', 'Ian McKellen', 'Orlando Bloom']\n",
       "3    ['Elijah Wood', 'Viggo Mortensen', 'Ian McKell...\n",
       "4     ['Christian Bale', 'Tom Hardy', 'Anne Hathaway']\n",
       "Name: stars, dtype: object"
      ]
     },
     "execution_count": 19,
     "metadata": {},
     "output_type": "execute_result"
    }
   ],
   "source": [
    "df_all.stars.head()"
   ]
  },
  {
   "cell_type": "code",
   "execution_count": 20,
   "metadata": {},
   "outputs": [
    {
     "data": {
      "text/plain": [
       "\"['Christian Bale', 'Heath Ledger', 'Aaron Eckhart']\""
      ]
     },
     "execution_count": 20,
     "metadata": {},
     "output_type": "execute_result"
    }
   ],
   "source": [
    "df_all.stars[0]"
   ]
  },
  {
   "cell_type": "code",
   "execution_count": 21,
   "metadata": {},
   "outputs": [],
   "source": [
    "# the format is a string, not a list"
   ]
  },
  {
   "cell_type": "code",
   "execution_count": 22,
   "metadata": {},
   "outputs": [],
   "source": [
    "df_all.stars=df_all.stars.apply(lambda x: x.split(','))"
   ]
  },
  {
   "cell_type": "code",
   "execution_count": 23,
   "metadata": {},
   "outputs": [],
   "source": [
    "df_all.stars=df_all.stars.apply(lambda lst: [x.strip('[').strip(']').strip().strip(\"\\'\") for x in lst])"
   ]
  },
  {
   "cell_type": "code",
   "execution_count": 24,
   "metadata": {},
   "outputs": [
    {
     "data": {
      "text/plain": [
       "0        [Christian Bale, Heath Ledger, Aaron Eckhart]\n",
       "1    [Leonardo DiCaprio, Joseph Gordon-Levitt, Elle...\n",
       "2           [Elijah Wood, Ian McKellen, Orlando Bloom]\n",
       "3         [Elijah Wood, Viggo Mortensen, Ian McKellen]\n",
       "4           [Christian Bale, Tom Hardy, Anne Hathaway]\n",
       "Name: stars, dtype: object"
      ]
     },
     "execution_count": 24,
     "metadata": {},
     "output_type": "execute_result"
    }
   ],
   "source": [
    "df_all.stars.head()"
   ]
  },
  {
   "cell_type": "code",
   "execution_count": 25,
   "metadata": {},
   "outputs": [],
   "source": [
    "# getting a list of all stars for each movie\n",
    "from itertools import chain\n",
    "stars_list = list(chain.from_iterable(df_all.stars))"
   ]
  },
  {
   "cell_type": "code",
   "execution_count": 26,
   "metadata": {},
   "outputs": [],
   "source": [
    "# getting a dictionary with key = actors' name, value = frequency\n",
    "from collections import Counter\n",
    "stars_dict = Counter(stars_list)"
   ]
  },
  {
   "cell_type": "code",
   "execution_count": 27,
   "metadata": {},
   "outputs": [
    {
     "data": {
      "text/plain": [
       "[('Nicolas Cage', 47),\n",
       " ('Samuel L. Jackson', 41),\n",
       " ('Robert De Niro', 37),\n",
       " ('Nicole Kidman', 36),\n",
       " ('Ewan McGregor', 35),\n",
       " ('Morgan Freeman', 35),\n",
       " ('Bruce Willis', 34),\n",
       " ('Mark Wahlberg', 33),\n",
       " ('James Franco', 33),\n",
       " ('Julianne Moore', 33),\n",
       " ('Owen Wilson', 33),\n",
       " ('Matt Damon', 32),\n",
       " ('Ryan Reynolds', 32),\n",
       " ('Liam Neeson', 32),\n",
       " ('Naomi Watts', 32),\n",
       " ('Scarlett Johansson', 31),\n",
       " ('Colin Farrell', 31),\n",
       " ('Dwayne Johnson', 31),\n",
       " ('John Cusack', 31),\n",
       " ('Matthew McConaughey', 30),\n",
       " ('Johnny Depp', 30),\n",
       " ('Charlize Theron', 30),\n",
       " ('Willem Dafoe', 30),\n",
       " ('Cate Blanchett', 30),\n",
       " ('Ethan Hawke', 30)]"
      ]
     },
     "execution_count": 27,
     "metadata": {},
     "output_type": "execute_result"
    }
   ],
   "source": [
    "stars_dict.most_common(25)"
   ]
  },
  {
   "cell_type": "code",
   "execution_count": 28,
   "metadata": {},
   "outputs": [],
   "source": [
    "# we only take into account the 15 most frequent stars (>=32)"
   ]
  },
  {
   "cell_type": "code",
   "execution_count": 29,
   "metadata": {},
   "outputs": [],
   "source": [
    "stars_15freq = [star[0] for star in stars_dict.most_common(15)]  "
   ]
  },
  {
   "cell_type": "code",
   "execution_count": 30,
   "metadata": {},
   "outputs": [
    {
     "data": {
      "text/plain": [
       "['Nicolas Cage',\n",
       " 'Samuel L. Jackson',\n",
       " 'Robert De Niro',\n",
       " 'Nicole Kidman',\n",
       " 'Ewan McGregor',\n",
       " 'Morgan Freeman',\n",
       " 'Bruce Willis',\n",
       " 'Mark Wahlberg',\n",
       " 'James Franco',\n",
       " 'Julianne Moore',\n",
       " 'Owen Wilson',\n",
       " 'Matt Damon',\n",
       " 'Ryan Reynolds',\n",
       " 'Liam Neeson',\n",
       " 'Naomi Watts']"
      ]
     },
     "execution_count": 30,
     "metadata": {},
     "output_type": "execute_result"
    }
   ],
   "source": [
    "stars_15freq"
   ]
  },
  {
   "cell_type": "code",
   "execution_count": 31,
   "metadata": {},
   "outputs": [],
   "source": [
    "# there are 3 stars in most of the movies. there can be more than one of the 15 most frequent for 1 movie, so we create \"dummie\" columns for all 15 most frequent stars (but they are not mutually exclusive)"
   ]
  },
  {
   "cell_type": "code",
   "execution_count": 32,
   "metadata": {},
   "outputs": [],
   "source": [
    "for star in stars_15freq:\n",
    "    df_all['star_'+star]=df_all.stars.apply(lambda x: 1 if star in x else 0)"
   ]
  },
  {
   "cell_type": "code",
   "execution_count": 33,
   "metadata": {},
   "outputs": [
    {
     "data": {
      "text/plain": [
       "Index(['movie', 'year', 'imdbID', 'genre', 'runtime', 'rating', 'metascore',\n",
       "       'director', 'votes', 'stars', 'writer', 'plot_keywords', 'languages',\n",
       "       'country', 'cum_worldwide_gross', 'star_Nicolas Cage',\n",
       "       'star_Samuel L. Jackson', 'star_Robert De Niro', 'star_Nicole Kidman',\n",
       "       'star_Ewan McGregor', 'star_Morgan Freeman', 'star_Bruce Willis',\n",
       "       'star_Mark Wahlberg', 'star_James Franco', 'star_Julianne Moore',\n",
       "       'star_Owen Wilson', 'star_Matt Damon', 'star_Ryan Reynolds',\n",
       "       'star_Liam Neeson', 'star_Naomi Watts'],\n",
       "      dtype='object')"
      ]
     },
     "execution_count": 33,
     "metadata": {},
     "output_type": "execute_result"
    }
   ],
   "source": [
    "df_all.columns"
   ]
  },
  {
   "cell_type": "markdown",
   "metadata": {},
   "source": [
    "### writer"
   ]
  },
  {
   "cell_type": "markdown",
   "metadata": {},
   "source": [
    "1. dealing with missing values"
   ]
  },
  {
   "cell_type": "code",
   "execution_count": 34,
   "metadata": {},
   "outputs": [
    {
     "data": {
      "text/html": [
       "<div>\n",
       "<style scoped>\n",
       "    .dataframe tbody tr th:only-of-type {\n",
       "        vertical-align: middle;\n",
       "    }\n",
       "\n",
       "    .dataframe tbody tr th {\n",
       "        vertical-align: top;\n",
       "    }\n",
       "\n",
       "    .dataframe thead th {\n",
       "        text-align: right;\n",
       "    }\n",
       "</style>\n",
       "<table border=\"1\" class=\"dataframe\">\n",
       "  <thead>\n",
       "    <tr style=\"text-align: right;\">\n",
       "      <th></th>\n",
       "      <th>movie</th>\n",
       "      <th>year</th>\n",
       "      <th>imdbID</th>\n",
       "      <th>genre</th>\n",
       "      <th>runtime</th>\n",
       "      <th>rating</th>\n",
       "      <th>metascore</th>\n",
       "      <th>director</th>\n",
       "      <th>votes</th>\n",
       "      <th>stars</th>\n",
       "      <th>...</th>\n",
       "      <th>star_Morgan Freeman</th>\n",
       "      <th>star_Bruce Willis</th>\n",
       "      <th>star_Mark Wahlberg</th>\n",
       "      <th>star_James Franco</th>\n",
       "      <th>star_Julianne Moore</th>\n",
       "      <th>star_Owen Wilson</th>\n",
       "      <th>star_Matt Damon</th>\n",
       "      <th>star_Ryan Reynolds</th>\n",
       "      <th>star_Liam Neeson</th>\n",
       "      <th>star_Naomi Watts</th>\n",
       "    </tr>\n",
       "  </thead>\n",
       "  <tbody>\n",
       "    <tr>\n",
       "      <th>3386</th>\n",
       "      <td>9 Songs</td>\n",
       "      <td>(2004)</td>\n",
       "      <td>/title/tt0411705/</td>\n",
       "      <td>\\nDrama, Music, Romance</td>\n",
       "      <td>71 min</td>\n",
       "      <td>4.8</td>\n",
       "      <td>43.0</td>\n",
       "      <td>Michael Winterbottom</td>\n",
       "      <td>20,690</td>\n",
       "      <td>[\"Kieran O'Brien\", Margo Stilley, Black Rebel ...</td>\n",
       "      <td>...</td>\n",
       "      <td>0</td>\n",
       "      <td>0</td>\n",
       "      <td>0</td>\n",
       "      <td>0</td>\n",
       "      <td>0</td>\n",
       "      <td>0</td>\n",
       "      <td>0</td>\n",
       "      <td>0</td>\n",
       "      <td>0</td>\n",
       "      <td>0</td>\n",
       "    </tr>\n",
       "    <tr>\n",
       "      <th>5422</th>\n",
       "      <td>Fasle kargadan</td>\n",
       "      <td>(2012)</td>\n",
       "      <td>/title/tt1850419/</td>\n",
       "      <td>\\nDrama, History, Thriller</td>\n",
       "      <td>88 min</td>\n",
       "      <td>6.5</td>\n",
       "      <td>66.0</td>\n",
       "      <td>Bahman Ghobadi</td>\n",
       "      <td>5,674</td>\n",
       "      <td>[Behrouz Vossoughi, Monica Bellucci, Yilmaz Er...</td>\n",
       "      <td>...</td>\n",
       "      <td>0</td>\n",
       "      <td>0</td>\n",
       "      <td>0</td>\n",
       "      <td>0</td>\n",
       "      <td>0</td>\n",
       "      <td>0</td>\n",
       "      <td>0</td>\n",
       "      <td>0</td>\n",
       "      <td>0</td>\n",
       "      <td>0</td>\n",
       "    </tr>\n",
       "    <tr>\n",
       "      <th>5859</th>\n",
       "      <td>The Trip to Spain</td>\n",
       "      <td>(2017)</td>\n",
       "      <td>/title/tt6193424/</td>\n",
       "      <td>\\nComedy, Drama</td>\n",
       "      <td>108 min</td>\n",
       "      <td>6.6</td>\n",
       "      <td>66.0</td>\n",
       "      <td>Michael Winterbottom</td>\n",
       "      <td>4,337</td>\n",
       "      <td>[Steve Coogan, Rob Brydon, Rebecca Johnson]</td>\n",
       "      <td>...</td>\n",
       "      <td>0</td>\n",
       "      <td>0</td>\n",
       "      <td>0</td>\n",
       "      <td>0</td>\n",
       "      <td>0</td>\n",
       "      <td>0</td>\n",
       "      <td>0</td>\n",
       "      <td>0</td>\n",
       "      <td>0</td>\n",
       "      <td>0</td>\n",
       "    </tr>\n",
       "  </tbody>\n",
       "</table>\n",
       "<p>3 rows × 30 columns</p>\n",
       "</div>"
      ],
      "text/plain": [
       "                  movie    year             imdbID  \\\n",
       "3386            9 Songs  (2004)  /title/tt0411705/   \n",
       "5422     Fasle kargadan  (2012)  /title/tt1850419/   \n",
       "5859  The Trip to Spain  (2017)  /title/tt6193424/   \n",
       "\n",
       "                                       genre  runtime  rating  metascore  \\\n",
       "3386     \\nDrama, Music, Romance               71 min     4.8       43.0   \n",
       "5422  \\nDrama, History, Thriller               88 min     6.5       66.0   \n",
       "5859             \\nComedy, Drama              108 min     6.6       66.0   \n",
       "\n",
       "                  director   votes  \\\n",
       "3386  Michael Winterbottom  20,690   \n",
       "5422        Bahman Ghobadi   5,674   \n",
       "5859  Michael Winterbottom   4,337   \n",
       "\n",
       "                                                  stars  ...  \\\n",
       "3386  [\"Kieran O'Brien\", Margo Stilley, Black Rebel ...  ...   \n",
       "5422  [Behrouz Vossoughi, Monica Bellucci, Yilmaz Er...  ...   \n",
       "5859        [Steve Coogan, Rob Brydon, Rebecca Johnson]  ...   \n",
       "\n",
       "     star_Morgan Freeman star_Bruce Willis star_Mark Wahlberg  \\\n",
       "3386                   0                 0                  0   \n",
       "5422                   0                 0                  0   \n",
       "5859                   0                 0                  0   \n",
       "\n",
       "     star_James Franco star_Julianne Moore  star_Owen Wilson  star_Matt Damon  \\\n",
       "3386                 0                   0                 0                0   \n",
       "5422                 0                   0                 0                0   \n",
       "5859                 0                   0                 0                0   \n",
       "\n",
       "      star_Ryan Reynolds  star_Liam Neeson  star_Naomi Watts  \n",
       "3386                   0                 0                 0  \n",
       "5422                   0                 0                 0  \n",
       "5859                   0                 0                 0  \n",
       "\n",
       "[3 rows x 30 columns]"
      ]
     },
     "execution_count": 34,
     "metadata": {},
     "output_type": "execute_result"
    }
   ],
   "source": [
    "df_all[df_all.writer.isna()]"
   ]
  },
  {
   "cell_type": "code",
   "execution_count": 35,
   "metadata": {},
   "outputs": [],
   "source": [
    "df_all.writer.fillna('no_writer', inplace=True)"
   ]
  },
  {
   "cell_type": "markdown",
   "metadata": {},
   "source": [
    "2. get the most frequent writers and categorize them"
   ]
  },
  {
   "cell_type": "code",
   "execution_count": 36,
   "metadata": {},
   "outputs": [],
   "source": [
    "writers_list=df_all.writer.to_list()"
   ]
  },
  {
   "cell_type": "code",
   "execution_count": 37,
   "metadata": {},
   "outputs": [],
   "source": [
    "writer_dict = Counter(writers_list)"
   ]
  },
  {
   "cell_type": "code",
   "execution_count": 38,
   "metadata": {},
   "outputs": [
    {
     "data": {
      "text/plain": [
       "[('Tyler Perry', 21),\n",
       " ('Woody Allen', 19),\n",
       " ('Luc Besson', 18),\n",
       " ('Steven Knight', 12),\n",
       " ('François Ozon', 11),\n",
       " ('Joel Coen', 10),\n",
       " ('Jon Lucas', 10),\n",
       " ('Ehren Kruger', 10),\n",
       " ('Leigh Whannell', 10),\n",
       " ('Lars von Trier', 10),\n",
       " ('Paul Laverty', 10),\n",
       " ('M. Night Shyamalan', 9),\n",
       " ('John Logan', 9),\n",
       " ('Robert Rodriguez', 9),\n",
       " ('Olivier Assayas', 9),\n",
       " ('Christopher Markus', 8),\n",
       " ('Dan Fogelman', 8),\n",
       " ('Mark Bomback', 8),\n",
       " ('Peter Morgan', 8),\n",
       " ('Brian Helgeland', 8),\n",
       " ('Allan Loeb', 8),\n",
       " ('Patrick Melton', 8),\n",
       " ('Michael Haneke', 8),\n",
       " ('Anders Thomas Jensen', 8),\n",
       " ('William Monahan', 7)]"
      ]
     },
     "execution_count": 38,
     "metadata": {},
     "output_type": "execute_result"
    }
   ],
   "source": [
    "writer_dict.most_common(25)"
   ]
  },
  {
   "cell_type": "code",
   "execution_count": 39,
   "metadata": {},
   "outputs": [],
   "source": [
    "# we only take into account the 15 most frequent writers (>=9)"
   ]
  },
  {
   "cell_type": "code",
   "execution_count": 40,
   "metadata": {},
   "outputs": [],
   "source": [
    "writer_15freq = [writer[0] for writer in writer_dict.most_common(15)] "
   ]
  },
  {
   "cell_type": "code",
   "execution_count": 41,
   "metadata": {},
   "outputs": [],
   "source": [
    "# only 1 writer per movie: we create a column 'writer_category' where we leave the name of the writer if in the most frequent, and else put 'other'\n",
    "# this column will be transformed into dummies for models that need it"
   ]
  },
  {
   "cell_type": "code",
   "execution_count": 42,
   "metadata": {},
   "outputs": [],
   "source": [
    "df_all['writer_category']=df_all.writer.apply(lambda x: x if x in writer_15freq else 'other')"
   ]
  },
  {
   "cell_type": "code",
   "execution_count": 43,
   "metadata": {},
   "outputs": [
    {
     "data": {
      "text/plain": [
       "(6338, 31)"
      ]
     },
     "execution_count": 43,
     "metadata": {},
     "output_type": "execute_result"
    }
   ],
   "source": [
    "df_all.shape"
   ]
  },
  {
   "cell_type": "markdown",
   "metadata": {},
   "source": [
    "### languages"
   ]
  },
  {
   "cell_type": "code",
   "execution_count": 44,
   "metadata": {},
   "outputs": [
    {
     "data": {
      "text/plain": [
       "2697    ['Japanese', 'Cantonese', 'English']\n",
       "3907                             ['English']\n",
       "1316                             ['English']\n",
       "4345                  ['English', 'Italian']\n",
       "4619                              ['Danish']\n",
       "Name: languages, dtype: object"
      ]
     },
     "execution_count": 44,
     "metadata": {},
     "output_type": "execute_result"
    }
   ],
   "source": [
    "df_all.languages.sample(5)"
   ]
  },
  {
   "cell_type": "code",
   "execution_count": 45,
   "metadata": {},
   "outputs": [
    {
     "data": {
      "text/plain": [
       "5178          USA\n",
       "5303          USA\n",
       "6368    Singapore\n",
       "6609          USA\n",
       "Name: country, dtype: object"
      ]
     },
     "execution_count": 45,
     "metadata": {},
     "output_type": "execute_result"
    }
   ],
   "source": [
    "df_all[df_all.languages.isna()].country"
   ]
  },
  {
   "cell_type": "code",
   "execution_count": 46,
   "metadata": {},
   "outputs": [],
   "source": [
    "# these 4 movies are in english"
   ]
  },
  {
   "cell_type": "code",
   "execution_count": 47,
   "metadata": {},
   "outputs": [],
   "source": [
    "df_all.languages.fillna('English', inplace=True)"
   ]
  },
  {
   "cell_type": "code",
   "execution_count": 48,
   "metadata": {},
   "outputs": [
    {
     "data": {
      "text/plain": [
       "\"['English', 'Mandarin']\""
      ]
     },
     "execution_count": 48,
     "metadata": {},
     "output_type": "execute_result"
    }
   ],
   "source": [
    "df_all.languages[0]"
   ]
  },
  {
   "cell_type": "code",
   "execution_count": 49,
   "metadata": {},
   "outputs": [],
   "source": [
    "# the format is a string, not a list"
   ]
  },
  {
   "cell_type": "code",
   "execution_count": 50,
   "metadata": {},
   "outputs": [],
   "source": [
    "df_all.languages=df_all.languages.apply(lambda x: x.split(','))"
   ]
  },
  {
   "cell_type": "code",
   "execution_count": 51,
   "metadata": {},
   "outputs": [],
   "source": [
    "df_all.languages=df_all.languages.apply(lambda lst: [x.strip('[').strip(']').strip().strip(\"\\'\") for x in lst])"
   ]
  },
  {
   "cell_type": "code",
   "execution_count": 52,
   "metadata": {},
   "outputs": [
    {
     "data": {
      "text/plain": [
       "0                         [English, Mandarin]\n",
       "1                 [English, Japanese, French]\n",
       "2                         [English, Sindarin]\n",
       "3    [English, Quenya, Old English, Sindarin]\n",
       "4                           [English, Arabic]\n",
       "Name: languages, dtype: object"
      ]
     },
     "execution_count": 52,
     "metadata": {},
     "output_type": "execute_result"
    }
   ],
   "source": [
    "df_all.languages.head()"
   ]
  },
  {
   "cell_type": "code",
   "execution_count": 53,
   "metadata": {},
   "outputs": [
    {
     "data": {
      "text/plain": [
       "['English', 'Mandarin']"
      ]
     },
     "execution_count": 53,
     "metadata": {},
     "output_type": "execute_result"
    }
   ],
   "source": [
    "df_all.languages[0]"
   ]
  },
  {
   "cell_type": "code",
   "execution_count": 54,
   "metadata": {},
   "outputs": [],
   "source": [
    "# getting a list of all languages for each movie\n",
    "from itertools import chain\n",
    "languages_list = list(chain.from_iterable(df_all.languages))"
   ]
  },
  {
   "cell_type": "code",
   "execution_count": 55,
   "metadata": {},
   "outputs": [],
   "source": [
    "# getting a dictionary with key = actors' name, value = frequency\n",
    "from collections import Counter\n",
    "languages_dict = Counter(languages_list)"
   ]
  },
  {
   "cell_type": "code",
   "execution_count": 56,
   "metadata": {},
   "outputs": [
    {
     "data": {
      "text/plain": [
       "[('English', 5637),\n",
       " ('French', 856),\n",
       " ('Spanish', 749),\n",
       " ('German', 429),\n",
       " ('Italian', 285),\n",
       " ('Japanese', 273),\n",
       " ('Russian', 273),\n",
       " ('Mandarin', 220),\n",
       " ('Arabic', 181),\n",
       " ('Cantonese', 94),\n",
       " ('Hebrew', 94),\n",
       " ('Korean', 93),\n",
       " ('Hindi', 88),\n",
       " ('Latin', 86),\n",
       " ('Portuguese', 72),\n",
       " ('Swedish', 72),\n",
       " ('Danish', 63),\n",
       " ('Turkish', 51),\n",
       " ('Ukrainian', 51),\n",
       " ('Persian', 48),\n",
       " ('Greek', 48),\n",
       " ('Chinese', 47),\n",
       " ('Norwegian', 46),\n",
       " ('Romanian', 43),\n",
       " ('Polish', 42)]"
      ]
     },
     "execution_count": 56,
     "metadata": {},
     "output_type": "execute_result"
    }
   ],
   "source": [
    "languages_dict.most_common(25)"
   ]
  },
  {
   "cell_type": "code",
   "execution_count": 57,
   "metadata": {},
   "outputs": [],
   "source": [
    "# we only take into account the 9 most frequent languages (>=181)"
   ]
  },
  {
   "cell_type": "code",
   "execution_count": 58,
   "metadata": {},
   "outputs": [],
   "source": [
    "language_9freq = [language[0] for language in languages_dict.most_common(9)]  "
   ]
  },
  {
   "cell_type": "code",
   "execution_count": 59,
   "metadata": {},
   "outputs": [
    {
     "data": {
      "text/plain": [
       "['English',\n",
       " 'French',\n",
       " 'Spanish',\n",
       " 'German',\n",
       " 'Italian',\n",
       " 'Japanese',\n",
       " 'Russian',\n",
       " 'Mandarin',\n",
       " 'Arabic']"
      ]
     },
     "execution_count": 59,
     "metadata": {},
     "output_type": "execute_result"
    }
   ],
   "source": [
    "language_9freq"
   ]
  },
  {
   "cell_type": "code",
   "execution_count": 60,
   "metadata": {},
   "outputs": [],
   "source": [
    "# there are more than 1 language in most movies. there can be more than one of the 9 most frequent for 1 movie, so we create \"dummies\" columns for all 9 most frequent languages (but they are not mutually exclusive)"
   ]
  },
  {
   "cell_type": "code",
   "execution_count": 61,
   "metadata": {},
   "outputs": [],
   "source": [
    "for language in language_9freq:\n",
    "    df_all['language_'+language]=df_all.languages.apply(lambda x: 1 if language in x else 0)"
   ]
  },
  {
   "cell_type": "code",
   "execution_count": 62,
   "metadata": {},
   "outputs": [
    {
     "data": {
      "text/plain": [
       "Index(['movie', 'year', 'imdbID', 'genre', 'runtime', 'rating', 'metascore',\n",
       "       'director', 'votes', 'stars', 'writer', 'plot_keywords', 'languages',\n",
       "       'country', 'cum_worldwide_gross', 'star_Nicolas Cage',\n",
       "       'star_Samuel L. Jackson', 'star_Robert De Niro', 'star_Nicole Kidman',\n",
       "       'star_Ewan McGregor', 'star_Morgan Freeman', 'star_Bruce Willis',\n",
       "       'star_Mark Wahlberg', 'star_James Franco', 'star_Julianne Moore',\n",
       "       'star_Owen Wilson', 'star_Matt Damon', 'star_Ryan Reynolds',\n",
       "       'star_Liam Neeson', 'star_Naomi Watts', 'writer_category',\n",
       "       'language_English', 'language_French', 'language_Spanish',\n",
       "       'language_German', 'language_Italian', 'language_Japanese',\n",
       "       'language_Russian', 'language_Mandarin', 'language_Arabic'],\n",
       "      dtype='object')"
      ]
     },
     "execution_count": 62,
     "metadata": {},
     "output_type": "execute_result"
    }
   ],
   "source": [
    "df_all.columns"
   ]
  },
  {
   "cell_type": "markdown",
   "metadata": {},
   "source": [
    "### plot_keywords"
   ]
  },
  {
   "cell_type": "code",
   "execution_count": 63,
   "metadata": {},
   "outputs": [
    {
     "data": {
      "text/plain": [
       "54"
      ]
     },
     "execution_count": 63,
     "metadata": {},
     "output_type": "execute_result"
    }
   ],
   "source": [
    "df_all.plot_keywords.isna().sum()"
   ]
  },
  {
   "cell_type": "code",
   "execution_count": 64,
   "metadata": {},
   "outputs": [],
   "source": [
    "#only a few movies with no keyword: we replace with an empty string: we will only consider the most frequent keywords\n",
    "df_all.plot_keywords=df_all.plot_keywords.fillna('')"
   ]
  },
  {
   "cell_type": "code",
   "execution_count": 65,
   "metadata": {},
   "outputs": [],
   "source": [
    "# we will deal with the keyword frequency later"
   ]
  },
  {
   "cell_type": "code",
   "execution_count": 66,
   "metadata": {},
   "outputs": [
    {
     "data": {
      "text/plain": [
       "movie                     0\n",
       "year                      0\n",
       "imdbID                    0\n",
       "genre                     0\n",
       "runtime                   0\n",
       "rating                    0\n",
       "metascore                 0\n",
       "director                  0\n",
       "votes                     0\n",
       "stars                     0\n",
       "writer                    0\n",
       "plot_keywords             0\n",
       "languages                 0\n",
       "country                   0\n",
       "cum_worldwide_gross       0\n",
       "star_Nicolas Cage         0\n",
       "star_Samuel L. Jackson    0\n",
       "star_Robert De Niro       0\n",
       "star_Nicole Kidman        0\n",
       "star_Ewan McGregor        0\n",
       "star_Morgan Freeman       0\n",
       "star_Bruce Willis         0\n",
       "star_Mark Wahlberg        0\n",
       "star_James Franco         0\n",
       "star_Julianne Moore       0\n",
       "star_Owen Wilson          0\n",
       "star_Matt Damon           0\n",
       "star_Ryan Reynolds        0\n",
       "star_Liam Neeson          0\n",
       "star_Naomi Watts          0\n",
       "writer_category           0\n",
       "language_English          0\n",
       "language_French           0\n",
       "language_Spanish          0\n",
       "language_German           0\n",
       "language_Italian          0\n",
       "language_Japanese         0\n",
       "language_Russian          0\n",
       "language_Mandarin         0\n",
       "language_Arabic           0\n",
       "dtype: int64"
      ]
     },
     "execution_count": 66,
     "metadata": {},
     "output_type": "execute_result"
    }
   ],
   "source": [
    "df_all.isna().sum()"
   ]
  },
  {
   "cell_type": "markdown",
   "metadata": {},
   "source": [
    "## Cleaning"
   ]
  },
  {
   "cell_type": "markdown",
   "metadata": {},
   "source": [
    "### Year"
   ]
  },
  {
   "cell_type": "markdown",
   "metadata": {},
   "source": [
    "1. remove parenthesis and transform string to integer"
   ]
  },
  {
   "cell_type": "code",
   "execution_count": 67,
   "metadata": {},
   "outputs": [
    {
     "data": {
      "text/plain": [
       "1678    (2003)\n",
       "151     (2002)\n",
       "4525    (2015)\n",
       "2987    (2003)\n",
       "6531    (2012)\n",
       "6126    (2015)\n",
       "997     (2003)\n",
       "3640    (2018)\n",
       "4883    (2012)\n",
       "2727    (2007)\n",
       "Name: year, dtype: object"
      ]
     },
     "execution_count": 67,
     "metadata": {},
     "output_type": "execute_result"
    }
   ],
   "source": [
    "df_all.year.sample(10)"
   ]
  },
  {
   "cell_type": "code",
   "execution_count": 68,
   "metadata": {
    "scrolled": true
   },
   "outputs": [],
   "source": [
    "df_all.year=df_all.year.apply(lambda x: int(x[-5:-1]))"
   ]
  },
  {
   "cell_type": "markdown",
   "metadata": {},
   "source": [
    "2. for the analysis, we transform the year of the movie into the 'age' of the movie:"
   ]
  },
  {
   "cell_type": "code",
   "execution_count": 69,
   "metadata": {},
   "outputs": [],
   "source": [
    "df_all['age']=2020-df_all.year"
   ]
  },
  {
   "cell_type": "markdown",
   "metadata": {},
   "source": [
    "### genre"
   ]
  },
  {
   "cell_type": "markdown",
   "metadata": {},
   "source": [
    "- making a list of all genres represented\n",
    "- create column for each genre\n",
    "- put 1 in all columns corresponding to the genres in the list for each movie (row)"
   ]
  },
  {
   "cell_type": "code",
   "execution_count": 70,
   "metadata": {},
   "outputs": [
    {
     "data": {
      "text/plain": [
       "4730          \\nComedy, Drama, Mystery            \n",
       "397                           \\nComedy            \n",
       "2459    \\nAnimation, Adventure, Comedy            \n",
       "3767        \\nAnimation, Comedy, Drama            \n",
       "3013            \\nComedy, Crime, Drama            \n",
       "980                  \\nComedy, Romance            \n",
       "699                   \\nDrama, Romance            \n",
       "4795                          \\nComedy            \n",
       "4242          \\nAction, Comedy, Horror            \n",
       "2995            \\nAction, Crime, Drama            \n",
       "Name: genre, dtype: object"
      ]
     },
     "execution_count": 70,
     "metadata": {},
     "output_type": "execute_result"
    }
   ],
   "source": [
    "df_all.genre.sample(10)"
   ]
  },
  {
   "cell_type": "code",
   "execution_count": 71,
   "metadata": {},
   "outputs": [],
   "source": [
    "df_all.genre=df_all.genre.apply(lambda x: x.strip().split(','))"
   ]
  },
  {
   "cell_type": "code",
   "execution_count": 72,
   "metadata": {},
   "outputs": [],
   "source": [
    "df_all.genre=df_all.genre.apply(lambda lst: [x.strip() for x in lst])"
   ]
  },
  {
   "cell_type": "code",
   "execution_count": 73,
   "metadata": {},
   "outputs": [],
   "source": [
    "from itertools import chain\n",
    "genres = list(set(chain.from_iterable(df_all.genre)))"
   ]
  },
  {
   "cell_type": "code",
   "execution_count": 74,
   "metadata": {},
   "outputs": [],
   "source": [
    "for cat in genres:\n",
    "    df_all['genre_'+cat]=df_all.genre.apply(lambda x: 1 if cat in x else 0)"
   ]
  },
  {
   "cell_type": "code",
   "execution_count": 75,
   "metadata": {},
   "outputs": [
    {
     "data": {
      "text/plain": [
       "Index(['movie', 'year', 'imdbID', 'genre', 'runtime', 'rating', 'metascore',\n",
       "       'director', 'votes', 'stars', 'writer', 'plot_keywords', 'languages',\n",
       "       'country', 'cum_worldwide_gross', 'star_Nicolas Cage',\n",
       "       'star_Samuel L. Jackson', 'star_Robert De Niro', 'star_Nicole Kidman',\n",
       "       'star_Ewan McGregor', 'star_Morgan Freeman', 'star_Bruce Willis',\n",
       "       'star_Mark Wahlberg', 'star_James Franco', 'star_Julianne Moore',\n",
       "       'star_Owen Wilson', 'star_Matt Damon', 'star_Ryan Reynolds',\n",
       "       'star_Liam Neeson', 'star_Naomi Watts', 'writer_category',\n",
       "       'language_English', 'language_French', 'language_Spanish',\n",
       "       'language_German', 'language_Italian', 'language_Japanese',\n",
       "       'language_Russian', 'language_Mandarin', 'language_Arabic', 'age',\n",
       "       'genre_Mystery', 'genre_Musical', 'genre_Adult', 'genre_Comedy',\n",
       "       'genre_Drama', 'genre_War', 'genre_Horror', 'genre_Sport',\n",
       "       'genre_Action', 'genre_Crime', 'genre_Animation', 'genre_Sci-Fi',\n",
       "       'genre_Family', 'genre_Western', 'genre_Fantasy', 'genre_History',\n",
       "       'genre_Thriller', 'genre_Biography', 'genre_Adventure', 'genre_Music',\n",
       "       'genre_Romance'],\n",
       "      dtype='object')"
      ]
     },
     "execution_count": 75,
     "metadata": {},
     "output_type": "execute_result"
    }
   ],
   "source": [
    "df_all.columns"
   ]
  },
  {
   "cell_type": "markdown",
   "metadata": {},
   "source": [
    "### runtime"
   ]
  },
  {
   "cell_type": "markdown",
   "metadata": {},
   "source": [
    "- needs to remove 'min'"
   ]
  },
  {
   "cell_type": "code",
   "execution_count": 76,
   "metadata": {},
   "outputs": [
    {
     "data": {
      "text/plain": [
       "5391    107 min\n",
       "6387     97 min\n",
       "865      93 min\n",
       "3796    124 min\n",
       "4059     95 min\n",
       "1139     86 min\n",
       "4706    107 min\n",
       "220     115 min\n",
       "5933    105 min\n",
       "98      116 min\n",
       "Name: runtime, dtype: object"
      ]
     },
     "execution_count": 76,
     "metadata": {},
     "output_type": "execute_result"
    }
   ],
   "source": [
    "df_all.runtime.sample(10)"
   ]
  },
  {
   "cell_type": "code",
   "execution_count": 77,
   "metadata": {},
   "outputs": [],
   "source": [
    "df_all.runtime=df_all.runtime.apply(lambda x: int(x[:-4]))"
   ]
  },
  {
   "cell_type": "code",
   "execution_count": 78,
   "metadata": {},
   "outputs": [
    {
     "data": {
      "text/plain": [
       "751     132\n",
       "1008    104\n",
       "1171     83\n",
       "4902    118\n",
       "1980     98\n",
       "3485    110\n",
       "1092    131\n",
       "5045    103\n",
       "3751     93\n",
       "2167    123\n",
       "Name: runtime, dtype: int64"
      ]
     },
     "execution_count": 78,
     "metadata": {},
     "output_type": "execute_result"
    }
   ],
   "source": [
    "df_all.runtime.sample(10)"
   ]
  },
  {
   "cell_type": "markdown",
   "metadata": {},
   "source": [
    "### rating\n",
    "- will be our target"
   ]
  },
  {
   "cell_type": "code",
   "execution_count": 79,
   "metadata": {},
   "outputs": [
    {
     "data": {
      "text/plain": [
       "<matplotlib.axes._subplots.AxesSubplot at 0x121e3c18>"
      ]
     },
     "execution_count": 79,
     "metadata": {},
     "output_type": "execute_result"
    },
    {
     "data": {
      "image/png": "[encoded data removed]",
      "text/plain": [
       "<Figure size 432x288 with 1 Axes>"
      ]
     },
     "metadata": {
      "needs_background": "light"
     },
     "output_type": "display_data"
    }
   ],
   "source": [
    "df_all.rating.hist(bins=20)"
   ]
  },
  {
   "cell_type": "code",
   "execution_count": 80,
   "metadata": {},
   "outputs": [
    {
     "data": {
      "text/plain": [
       "count    6338.000000\n",
       "mean        6.406201\n",
       "std         0.940605\n",
       "min         1.400000\n",
       "25%         5.800000\n",
       "50%         6.500000\n",
       "75%         7.100000\n",
       "max         9.000000\n",
       "Name: rating, dtype: float64"
      ]
     },
     "execution_count": 80,
     "metadata": {},
     "output_type": "execute_result"
    }
   ],
   "source": [
    "df_all.rating.describe()"
   ]
  },
  {
   "cell_type": "code",
   "execution_count": 81,
   "metadata": {},
   "outputs": [],
   "source": [
    "# distribution is not Normal (more high rating)"
   ]
  },
  {
   "cell_type": "markdown",
   "metadata": {},
   "source": [
    "### metascore"
   ]
  },
  {
   "cell_type": "code",
   "execution_count": 82,
   "metadata": {},
   "outputs": [
    {
     "data": {
      "text/plain": [
       "<matplotlib.axes._subplots.AxesSubplot at 0x114eab70>"
      ]
     },
     "execution_count": 82,
     "metadata": {},
     "output_type": "execute_result"
    },
    {
     "data": {
      "image/png": "[encoded data removed]",
      "text/plain": [
       "<Figure size 432x288 with 1 Axes>"
      ]
     },
     "metadata": {
      "needs_background": "light"
     },
     "output_type": "display_data"
    }
   ],
   "source": [
    "df_all.metascore.hist(bins=20)"
   ]
  },
  {
   "cell_type": "code",
   "execution_count": 83,
   "metadata": {},
   "outputs": [
    {
     "data": {
      "text/plain": [
       "count    6338.000000\n",
       "mean       55.245188\n",
       "std        17.557296\n",
       "min         1.000000\n",
       "25%        43.000000\n",
       "50%        56.000000\n",
       "75%        68.000000\n",
       "max       100.000000\n",
       "Name: metascore, dtype: float64"
      ]
     },
     "execution_count": 83,
     "metadata": {},
     "output_type": "execute_result"
    }
   ],
   "source": [
    "df_all.metascore.describe()"
   ]
  },
  {
   "cell_type": "code",
   "execution_count": 84,
   "metadata": {},
   "outputs": [],
   "source": [
    "# metascore seems normally distributed\n",
    "# we'll normalize it by dividing by 100 to have a value between 0 and 1"
   ]
  },
  {
   "cell_type": "code",
   "execution_count": 85,
   "metadata": {},
   "outputs": [],
   "source": [
    "df_all.metascore=df_all.metascore/100"
   ]
  },
  {
   "cell_type": "markdown",
   "metadata": {},
   "source": [
    "### director"
   ]
  },
  {
   "cell_type": "markdown",
   "metadata": {},
   "source": [
    "- get the most frequent directors and categorize them"
   ]
  },
  {
   "cell_type": "code",
   "execution_count": 86,
   "metadata": {},
   "outputs": [],
   "source": [
    "directors_list=df_all.director.to_list()"
   ]
  },
  {
   "cell_type": "code",
   "execution_count": 87,
   "metadata": {},
   "outputs": [],
   "source": [
    "director_dict = Counter(directors_list)"
   ]
  },
  {
   "cell_type": "code",
   "execution_count": 88,
   "metadata": {},
   "outputs": [
    {
     "data": {
      "text/plain": [
       "[('Tyler Perry', 20),\n",
       " ('Woody Allen', 19),\n",
       " ('Steven Soderbergh', 18),\n",
       " ('Clint Eastwood', 17),\n",
       " ('Ridley Scott', 15),\n",
       " ('Steven Spielberg', 14),\n",
       " ('Richard Linklater', 14),\n",
       " ('David Gordon Green', 13),\n",
       " ('François Ozon', 13),\n",
       " ('Michael Winterbottom', 13),\n",
       " ('Ron Howard', 12),\n",
       " ('Tim Burton', 11),\n",
       " ('Antoine Fuqua', 11),\n",
       " ('Shawn Levy', 11),\n",
       " ('Lasse Hallström', 11),\n",
       " ('Stephen Frears', 11),\n",
       " ('Danny Boyle', 10),\n",
       " ('Guy Ritchie', 10),\n",
       " ('Todd Phillips', 10),\n",
       " ('Michael Bay', 10),\n",
       " ('Marc Forster', 10),\n",
       " ('M. Night Shyamalan', 10),\n",
       " ('Robert Rodriguez', 10),\n",
       " ('Yimou Zhang', 10),\n",
       " ('Gus Van Sant', 10)]"
      ]
     },
     "execution_count": 88,
     "metadata": {},
     "output_type": "execute_result"
    }
   ],
   "source": [
    "director_dict.most_common(25)"
   ]
  },
  {
   "cell_type": "code",
   "execution_count": 89,
   "metadata": {},
   "outputs": [],
   "source": [
    "# we only take into account the 16 most frequent languages (>10)"
   ]
  },
  {
   "cell_type": "code",
   "execution_count": 90,
   "metadata": {},
   "outputs": [],
   "source": [
    "director_16freq = [director[0] for director in director_dict.most_common(16)] "
   ]
  },
  {
   "cell_type": "code",
   "execution_count": 91,
   "metadata": {},
   "outputs": [
    {
     "data": {
      "text/plain": [
       "['Tyler Perry',\n",
       " 'Woody Allen',\n",
       " 'Steven Soderbergh',\n",
       " 'Clint Eastwood',\n",
       " 'Ridley Scott',\n",
       " 'Steven Spielberg',\n",
       " 'Richard Linklater',\n",
       " 'David Gordon Green',\n",
       " 'François Ozon',\n",
       " 'Michael Winterbottom',\n",
       " 'Ron Howard',\n",
       " 'Tim Burton',\n",
       " 'Antoine Fuqua',\n",
       " 'Shawn Levy',\n",
       " 'Lasse Hallström',\n",
       " 'Stephen Frears']"
      ]
     },
     "execution_count": 91,
     "metadata": {},
     "output_type": "execute_result"
    }
   ],
   "source": [
    "director_16freq"
   ]
  },
  {
   "cell_type": "code",
   "execution_count": 92,
   "metadata": {},
   "outputs": [],
   "source": [
    "# only 1 director per movie: we create a column 'director_category' where we leave the name of the director if in the most frequent, and else put 'other'\n",
    "# this column will be used as is in models like decision tree , and can be transformed into dummies for models that need it "
   ]
  },
  {
   "cell_type": "code",
   "execution_count": 93,
   "metadata": {},
   "outputs": [],
   "source": [
    "df_all['director_category']=df_all.director.apply(lambda x: x if x in director_16freq else 'other')"
   ]
  },
  {
   "cell_type": "code",
   "execution_count": 94,
   "metadata": {},
   "outputs": [
    {
     "data": {
      "text/plain": [
       "(6338, 63)"
      ]
     },
     "execution_count": 94,
     "metadata": {},
     "output_type": "execute_result"
    }
   ],
   "source": [
    "df_all.shape"
   ]
  },
  {
   "cell_type": "markdown",
   "metadata": {},
   "source": [
    "### votes"
   ]
  },
  {
   "cell_type": "code",
   "execution_count": 95,
   "metadata": {},
   "outputs": [
    {
     "data": {
      "text/plain": [
       "0    2,161,024\n",
       "1    1,909,234\n",
       "2    1,561,138\n",
       "3    1,549,252\n",
       "4    1,431,808\n",
       "Name: votes, dtype: object"
      ]
     },
     "execution_count": 95,
     "metadata": {},
     "output_type": "execute_result"
    }
   ],
   "source": [
    "df_all.votes.head()"
   ]
  },
  {
   "cell_type": "markdown",
   "metadata": {},
   "source": [
    "- need to remove the commas\n",
    "- transform into int"
   ]
  },
  {
   "cell_type": "code",
   "execution_count": 96,
   "metadata": {},
   "outputs": [],
   "source": [
    "df_all.votes=df_all.votes.str.replace(',','').astype(int)"
   ]
  },
  {
   "cell_type": "code",
   "execution_count": 97,
   "metadata": {},
   "outputs": [
    {
     "name": "stdout",
     "output_type": "stream",
     "text": [
      "<class 'pandas.core.frame.DataFrame'>\n",
      "Int64Index: 6338 entries, 0 to 6660\n",
      "Data columns (total 63 columns):\n",
      "movie                     6338 non-null object\n",
      "year                      6338 non-null int64\n",
      "imdbID                    6338 non-null object\n",
      "genre                     6338 non-null object\n",
      "runtime                   6338 non-null int64\n",
      "rating                    6338 non-null float64\n",
      "metascore                 6338 non-null float64\n",
      "director                  6338 non-null object\n",
      "votes                     6338 non-null int32\n",
      "stars                     6338 non-null object\n",
      "writer                    6338 non-null object\n",
      "plot_keywords             6338 non-null object\n",
      "languages                 6338 non-null object\n",
      "country                   6338 non-null object\n",
      "cum_worldwide_gross       6338 non-null object\n",
      "star_Nicolas Cage         6338 non-null int64\n",
      "star_Samuel L. Jackson    6338 non-null int64\n",
      "star_Robert De Niro       6338 non-null int64\n",
      "star_Nicole Kidman        6338 non-null int64\n",
      "star_Ewan McGregor        6338 non-null int64\n",
      "star_Morgan Freeman       6338 non-null int64\n",
      "star_Bruce Willis         6338 non-null int64\n",
      "star_Mark Wahlberg        6338 non-null int64\n",
      "star_James Franco         6338 non-null int64\n",
      "star_Julianne Moore       6338 non-null int64\n",
      "star_Owen Wilson          6338 non-null int64\n",
      "star_Matt Damon           6338 non-null int64\n",
      "star_Ryan Reynolds        6338 non-null int64\n",
      "star_Liam Neeson          6338 non-null int64\n",
      "star_Naomi Watts          6338 non-null int64\n",
      "writer_category           6338 non-null object\n",
      "language_English          6338 non-null int64\n",
      "language_French           6338 non-null int64\n",
      "language_Spanish          6338 non-null int64\n",
      "language_German           6338 non-null int64\n",
      "language_Italian          6338 non-null int64\n",
      "language_Japanese         6338 non-null int64\n",
      "language_Russian          6338 non-null int64\n",
      "language_Mandarin         6338 non-null int64\n",
      "language_Arabic           6338 non-null int64\n",
      "age                       6338 non-null int64\n",
      "genre_Mystery             6338 non-null int64\n",
      "genre_Musical             6338 non-null int64\n",
      "genre_Adult               6338 non-null int64\n",
      "genre_Comedy              6338 non-null int64\n",
      "genre_Drama               6338 non-null int64\n",
      "genre_War                 6338 non-null int64\n",
      "genre_Horror              6338 non-null int64\n",
      "genre_Sport               6338 non-null int64\n",
      "genre_Action              6338 non-null int64\n",
      "genre_Crime               6338 non-null int64\n",
      "genre_Animation           6338 non-null int64\n",
      "genre_Sci-Fi              6338 non-null int64\n",
      "genre_Family              6338 non-null int64\n",
      "genre_Western             6338 non-null int64\n",
      "genre_Fantasy             6338 non-null int64\n",
      "genre_History             6338 non-null int64\n",
      "genre_Thriller            6338 non-null int64\n",
      "genre_Biography           6338 non-null int64\n",
      "genre_Adventure           6338 non-null int64\n",
      "genre_Music               6338 non-null int64\n",
      "genre_Romance             6338 non-null int64\n",
      "director_category         6338 non-null object\n",
      "dtypes: float64(2), int32(1), int64(48), object(12)\n",
      "memory usage: 3.4+ MB\n"
     ]
    }
   ],
   "source": [
    "df_all.info()"
   ]
  },
  {
   "cell_type": "markdown",
   "metadata": {},
   "source": [
    "### country"
   ]
  },
  {
   "cell_type": "code",
   "execution_count": 98,
   "metadata": {},
   "outputs": [
    {
     "data": {
      "text/plain": [
       "1392       USA\n",
       "6614       USA\n",
       "1746        UK\n",
       "143        USA\n",
       "3391    Canada\n",
       "2767       USA\n",
       "3192       USA\n",
       "924        USA\n",
       "3496    France\n",
       "4494     China\n",
       "Name: country, dtype: object"
      ]
     },
     "execution_count": 98,
     "metadata": {},
     "output_type": "execute_result"
    }
   ],
   "source": [
    "df_all.country.sample(10)"
   ]
  },
  {
   "cell_type": "code",
   "execution_count": 99,
   "metadata": {},
   "outputs": [],
   "source": [
    "country_list=df_all.country.to_list()"
   ]
  },
  {
   "cell_type": "code",
   "execution_count": 100,
   "metadata": {},
   "outputs": [],
   "source": [
    "country_dict = Counter(country_list)"
   ]
  },
  {
   "cell_type": "code",
   "execution_count": 101,
   "metadata": {},
   "outputs": [
    {
     "data": {
      "text/plain": [
       "[('USA', 3665),\n",
       " ('UK', 703),\n",
       " ('France', 383),\n",
       " ('Canada', 205),\n",
       " ('Germany', 176),\n",
       " ('Japan', 100),\n",
       " ('Australia', 92),\n",
       " ('Spain', 88),\n",
       " ('China', 86),\n",
       " ('Italy', 61),\n",
       " ('South Korea', 59),\n",
       " ('Denmark', 54),\n",
       " ('Ireland', 51),\n",
       " ('Hong Kong', 49),\n",
       " ('India', 45),\n",
       " ('Mexico', 41),\n",
       " ('Belgium', 38),\n",
       " ('Sweden', 32),\n",
       " ('Norway', 31),\n",
       " ('Argentina', 27),\n",
       " ('Russia', 23),\n",
       " ('Israel', 23),\n",
       " ('New Zealand', 21),\n",
       " ('Brazil', 17),\n",
       " ('Iran', 16)]"
      ]
     },
     "execution_count": 101,
     "metadata": {},
     "output_type": "execute_result"
    }
   ],
   "source": [
    "country_dict.most_common(25)"
   ]
  },
  {
   "cell_type": "code",
   "execution_count": 102,
   "metadata": {},
   "outputs": [],
   "source": [
    "# we only take into account the 15 most frequent countries (>=45)"
   ]
  },
  {
   "cell_type": "code",
   "execution_count": 103,
   "metadata": {},
   "outputs": [],
   "source": [
    "country_15freq = [country[0] for country in country_dict.most_common(15)] "
   ]
  },
  {
   "cell_type": "code",
   "execution_count": 104,
   "metadata": {},
   "outputs": [
    {
     "data": {
      "text/plain": [
       "['USA',\n",
       " 'UK',\n",
       " 'France',\n",
       " 'Canada',\n",
       " 'Germany',\n",
       " 'Japan',\n",
       " 'Australia',\n",
       " 'Spain',\n",
       " 'China',\n",
       " 'Italy',\n",
       " 'South Korea',\n",
       " 'Denmark',\n",
       " 'Ireland',\n",
       " 'Hong Kong',\n",
       " 'India']"
      ]
     },
     "execution_count": 104,
     "metadata": {},
     "output_type": "execute_result"
    }
   ],
   "source": [
    "country_15freq"
   ]
  },
  {
   "cell_type": "code",
   "execution_count": 105,
   "metadata": {},
   "outputs": [],
   "source": [
    "# only 1 country per movie: we create a column 'country_category' where we leave the country if in the most frequent, and else put 'other'\n",
    "# this column will be transformed into dummies for models that need it "
   ]
  },
  {
   "cell_type": "code",
   "execution_count": 106,
   "metadata": {},
   "outputs": [],
   "source": [
    "df_all['country_category']=df_all.country.apply(lambda x: x if x in country_15freq else 'other')"
   ]
  },
  {
   "cell_type": "code",
   "execution_count": 107,
   "metadata": {},
   "outputs": [
    {
     "data": {
      "text/plain": [
       "(6338, 64)"
      ]
     },
     "execution_count": 107,
     "metadata": {},
     "output_type": "execute_result"
    }
   ],
   "source": [
    "df_all.shape"
   ]
  },
  {
   "cell_type": "markdown",
   "metadata": {},
   "source": [
    "### cum_worldwide_gross"
   ]
  },
  {
   "cell_type": "code",
   "execution_count": 108,
   "metadata": {},
   "outputs": [
    {
     "data": {
      "text/plain": [
       "365      ['99,378,985']\n",
       "3486         ['25,517']\n",
       "1474     ['95,714,875']\n",
       "5212      ['1,326,639']\n",
       "5407      ['1,498,262']\n",
       "333     ['856,085,151']\n",
       "2488     ['39,667,665']\n",
       "6030        ['973,539']\n",
       "3014     ['19,770,475']\n",
       "567     ['240,797,623']\n",
       "Name: cum_worldwide_gross, dtype: object"
      ]
     },
     "execution_count": 108,
     "metadata": {},
     "output_type": "execute_result"
    }
   ],
   "source": [
    "df_all.cum_worldwide_gross.sample(10)"
   ]
  },
  {
   "cell_type": "code",
   "execution_count": 109,
   "metadata": {},
   "outputs": [
    {
     "data": {
      "text/plain": [
       "\"['1,004,934,033']\""
      ]
     },
     "execution_count": 109,
     "metadata": {},
     "output_type": "execute_result"
    }
   ],
   "source": [
    "df_all.cum_worldwide_gross[0]"
   ]
  },
  {
   "cell_type": "code",
   "execution_count": 110,
   "metadata": {},
   "outputs": [],
   "source": [
    "# the values are strings and not lists"
   ]
  },
  {
   "cell_type": "code",
   "execution_count": 111,
   "metadata": {
    "scrolled": true
   },
   "outputs": [
    {
     "data": {
      "text/plain": [
       "[]               4\n",
       "['18,000']       2\n",
       "['1,474,471']    2\n",
       "['6,147']        2\n",
       "['143,121']      2\n",
       "Name: cum_worldwide_gross, dtype: int64"
      ]
     },
     "execution_count": 111,
     "metadata": {},
     "output_type": "execute_result"
    }
   ],
   "source": [
    "df_all.cum_worldwide_gross.value_counts().head()"
   ]
  },
  {
   "cell_type": "code",
   "execution_count": 112,
   "metadata": {
    "scrolled": false
   },
   "outputs": [
    {
     "data": {
      "text/html": [
       "<div>\n",
       "<style scoped>\n",
       "    .dataframe tbody tr th:only-of-type {\n",
       "        vertical-align: middle;\n",
       "    }\n",
       "\n",
       "    .dataframe tbody tr th {\n",
       "        vertical-align: top;\n",
       "    }\n",
       "\n",
       "    .dataframe thead th {\n",
       "        text-align: right;\n",
       "    }\n",
       "</style>\n",
       "<table border=\"1\" class=\"dataframe\">\n",
       "  <thead>\n",
       "    <tr style=\"text-align: right;\">\n",
       "      <th></th>\n",
       "      <th>movie</th>\n",
       "      <th>year</th>\n",
       "      <th>imdbID</th>\n",
       "      <th>genre</th>\n",
       "      <th>runtime</th>\n",
       "      <th>rating</th>\n",
       "      <th>metascore</th>\n",
       "      <th>director</th>\n",
       "      <th>votes</th>\n",
       "      <th>stars</th>\n",
       "      <th>...</th>\n",
       "      <th>genre_Western</th>\n",
       "      <th>genre_Fantasy</th>\n",
       "      <th>genre_History</th>\n",
       "      <th>genre_Thriller</th>\n",
       "      <th>genre_Biography</th>\n",
       "      <th>genre_Adventure</th>\n",
       "      <th>genre_Music</th>\n",
       "      <th>genre_Romance</th>\n",
       "      <th>director_category</th>\n",
       "      <th>country_category</th>\n",
       "    </tr>\n",
       "  </thead>\n",
       "  <tbody>\n",
       "    <tr>\n",
       "      <th>2110</th>\n",
       "      <td>The Fundamentals of Caring</td>\n",
       "      <td>2016</td>\n",
       "      <td>/title/tt2452386/</td>\n",
       "      <td>[Comedy, Drama]</td>\n",
       "      <td>97</td>\n",
       "      <td>7.3</td>\n",
       "      <td>0.55</td>\n",
       "      <td>Rob Burnett</td>\n",
       "      <td>51559</td>\n",
       "      <td>[Craig Roberts, Paul Rudd, Selena Gomez]</td>\n",
       "      <td>...</td>\n",
       "      <td>0</td>\n",
       "      <td>0</td>\n",
       "      <td>0</td>\n",
       "      <td>0</td>\n",
       "      <td>0</td>\n",
       "      <td>0</td>\n",
       "      <td>0</td>\n",
       "      <td>0</td>\n",
       "      <td>other</td>\n",
       "      <td>USA</td>\n",
       "    </tr>\n",
       "    <tr>\n",
       "      <th>4538</th>\n",
       "      <td>Stage Beauty</td>\n",
       "      <td>2004</td>\n",
       "      <td>/title/tt0368658/</td>\n",
       "      <td>[Drama]</td>\n",
       "      <td>106</td>\n",
       "      <td>7.1</td>\n",
       "      <td>0.64</td>\n",
       "      <td>Richard Eyre</td>\n",
       "      <td>9659</td>\n",
       "      <td>[Billy Crudup, Claire Danes, Rupert Everett]</td>\n",
       "      <td>...</td>\n",
       "      <td>0</td>\n",
       "      <td>0</td>\n",
       "      <td>0</td>\n",
       "      <td>0</td>\n",
       "      <td>0</td>\n",
       "      <td>0</td>\n",
       "      <td>0</td>\n",
       "      <td>0</td>\n",
       "      <td>other</td>\n",
       "      <td>UK</td>\n",
       "    </tr>\n",
       "    <tr>\n",
       "      <th>6036</th>\n",
       "      <td>Daughter of the Wolf</td>\n",
       "      <td>2019</td>\n",
       "      <td>/title/tt7615052/</td>\n",
       "      <td>[Action, Thriller]</td>\n",
       "      <td>88</td>\n",
       "      <td>5.6</td>\n",
       "      <td>0.36</td>\n",
       "      <td>David Hackl</td>\n",
       "      <td>3907</td>\n",
       "      <td>[Gina Carano, Richard Dreyfuss, Brendan Fehr]</td>\n",
       "      <td>...</td>\n",
       "      <td>0</td>\n",
       "      <td>0</td>\n",
       "      <td>0</td>\n",
       "      <td>1</td>\n",
       "      <td>0</td>\n",
       "      <td>0</td>\n",
       "      <td>0</td>\n",
       "      <td>0</td>\n",
       "      <td>other</td>\n",
       "      <td>Canada</td>\n",
       "    </tr>\n",
       "    <tr>\n",
       "      <th>6045</th>\n",
       "      <td>Shottas</td>\n",
       "      <td>2002</td>\n",
       "      <td>/title/tt0281190/</td>\n",
       "      <td>[Action, Crime, Drama]</td>\n",
       "      <td>95</td>\n",
       "      <td>6.2</td>\n",
       "      <td>0.36</td>\n",
       "      <td>Cess Silvera</td>\n",
       "      <td>3879</td>\n",
       "      <td>[Ky-Mani Marley, Spragga Benz, Louie Rankin]</td>\n",
       "      <td>...</td>\n",
       "      <td>0</td>\n",
       "      <td>0</td>\n",
       "      <td>0</td>\n",
       "      <td>0</td>\n",
       "      <td>0</td>\n",
       "      <td>0</td>\n",
       "      <td>0</td>\n",
       "      <td>0</td>\n",
       "      <td>other</td>\n",
       "      <td>USA</td>\n",
       "    </tr>\n",
       "  </tbody>\n",
       "</table>\n",
       "<p>4 rows × 64 columns</p>\n",
       "</div>"
      ],
      "text/plain": [
       "                           movie  year             imdbID  \\\n",
       "2110  The Fundamentals of Caring  2016  /title/tt2452386/   \n",
       "4538                Stage Beauty  2004  /title/tt0368658/   \n",
       "6036        Daughter of the Wolf  2019  /title/tt7615052/   \n",
       "6045                     Shottas  2002  /title/tt0281190/   \n",
       "\n",
       "                       genre  runtime  rating  metascore      director  votes  \\\n",
       "2110         [Comedy, Drama]       97     7.3       0.55   Rob Burnett  51559   \n",
       "4538                 [Drama]      106     7.1       0.64  Richard Eyre   9659   \n",
       "6036      [Action, Thriller]       88     5.6       0.36   David Hackl   3907   \n",
       "6045  [Action, Crime, Drama]       95     6.2       0.36  Cess Silvera   3879   \n",
       "\n",
       "                                              stars  ... genre_Western  \\\n",
       "2110       [Craig Roberts, Paul Rudd, Selena Gomez]  ...             0   \n",
       "4538   [Billy Crudup, Claire Danes, Rupert Everett]  ...             0   \n",
       "6036  [Gina Carano, Richard Dreyfuss, Brendan Fehr]  ...             0   \n",
       "6045   [Ky-Mani Marley, Spragga Benz, Louie Rankin]  ...             0   \n",
       "\n",
       "     genre_Fantasy genre_History genre_Thriller genre_Biography  \\\n",
       "2110             0             0              0               0   \n",
       "4538             0             0              0               0   \n",
       "6036             0             0              1               0   \n",
       "6045             0             0              0               0   \n",
       "\n",
       "      genre_Adventure  genre_Music  genre_Romance  director_category  \\\n",
       "2110                0            0              0              other   \n",
       "4538                0            0              0              other   \n",
       "6036                0            0              0              other   \n",
       "6045                0            0              0              other   \n",
       "\n",
       "      country_category  \n",
       "2110               USA  \n",
       "4538                UK  \n",
       "6036            Canada  \n",
       "6045               USA  \n",
       "\n",
       "[4 rows x 64 columns]"
      ]
     },
     "execution_count": 112,
     "metadata": {},
     "output_type": "execute_result"
    }
   ],
   "source": [
    "df_all[df_all.cum_worldwide_gross==\"[]\"]"
   ]
  },
  {
   "cell_type": "markdown",
   "metadata": {},
   "source": [
    "- 3 movies have no 'cumulative worldwide gross' value\n",
    "- 1 movie has a value that has not been scraped by mistake"
   ]
  },
  {
   "cell_type": "code",
   "execution_count": 113,
   "metadata": {},
   "outputs": [],
   "source": [
    "df_all.loc[4538,'cum_worldwide_gross']='2,307,092'"
   ]
  },
  {
   "cell_type": "code",
   "execution_count": 114,
   "metadata": {},
   "outputs": [],
   "source": [
    "df_all.loc[2110,'cum_worldwide_gross']=None\n",
    "df_all.loc[6036,'cum_worldwide_gross']=None\n",
    "df_all.loc[6045,'cum_worldwide_gross']=None"
   ]
  },
  {
   "cell_type": "code",
   "execution_count": 115,
   "metadata": {},
   "outputs": [],
   "source": [
    "df_all.dropna(subset=['cum_worldwide_gross'],inplace=True)"
   ]
  },
  {
   "cell_type": "code",
   "execution_count": 116,
   "metadata": {},
   "outputs": [],
   "source": [
    "df_all.cum_worldwide_gross=df_all.cum_worldwide_gross.apply(lambda x: int(x.strip('[').strip(']').strip(\"'\").replace(',','')))"
   ]
  },
  {
   "cell_type": "code",
   "execution_count": 117,
   "metadata": {},
   "outputs": [
    {
     "data": {
      "text/plain": [
       "<matplotlib.axes._subplots.AxesSubplot at 0x1146e4e0>"
      ]
     },
     "execution_count": 117,
     "metadata": {},
     "output_type": "execute_result"
    },
    {
     "data": {
      "image/png": "[encoded data removed]",
      "text/plain": [
       "<Figure size 432x288 with 1 Axes>"
      ]
     },
     "metadata": {
      "needs_background": "light"
     },
     "output_type": "display_data"
    }
   ],
   "source": [
    "df_all.cum_worldwide_gross.hist(bins=20)"
   ]
  },
  {
   "cell_type": "code",
   "execution_count": 118,
   "metadata": {},
   "outputs": [],
   "source": [
    "# Poisson distribution as often when it is about money: we must take the log"
   ]
  },
  {
   "cell_type": "code",
   "execution_count": 119,
   "metadata": {},
   "outputs": [],
   "source": [
    "df_all['log_cum_worldwide_gross']=df_all.cum_worldwide_gross.apply(np.log)"
   ]
  },
  {
   "cell_type": "code",
   "execution_count": 120,
   "metadata": {},
   "outputs": [
    {
     "data": {
      "text/plain": [
       "<matplotlib.axes._subplots.AxesSubplot at 0x1149fef0>"
      ]
     },
     "execution_count": 120,
     "metadata": {},
     "output_type": "execute_result"
    },
    {
     "data": {
      "image/png": "[encoded data removed]",
      "text/plain": [
       "<Figure size 432x288 with 1 Axes>"
      ]
     },
     "metadata": {
      "needs_background": "light"
     },
     "output_type": "display_data"
    }
   ],
   "source": [
    "df_all.log_cum_worldwide_gross.hist(bins=20)"
   ]
  },
  {
   "cell_type": "code",
   "execution_count": 121,
   "metadata": {},
   "outputs": [
    {
     "data": {
      "text/plain": [
       "count    6335.000000\n",
       "mean       15.882624\n",
       "std         2.739749\n",
       "min         4.553877\n",
       "25%        14.021656\n",
       "50%        16.282271\n",
       "75%        18.022586\n",
       "max        21.752099\n",
       "Name: log_cum_worldwide_gross, dtype: float64"
      ]
     },
     "execution_count": 121,
     "metadata": {},
     "output_type": "execute_result"
    }
   ],
   "source": [
    "df_all.log_cum_worldwide_gross.describe()"
   ]
  },
  {
   "cell_type": "markdown",
   "metadata": {},
   "source": [
    "NB: we will need to use minmaxscaler"
   ]
  },
  {
   "cell_type": "code",
   "execution_count": null,
   "metadata": {},
   "outputs": [],
   "source": []
  },
  {
   "cell_type": "code",
   "execution_count": 122,
   "metadata": {
    "scrolled": true
   },
   "outputs": [
    {
     "name": "stdout",
     "output_type": "stream",
     "text": [
      "<class 'pandas.core.frame.DataFrame'>\n",
      "Int64Index: 6335 entries, 0 to 6660\n",
      "Data columns (total 65 columns):\n",
      "movie                      6335 non-null object\n",
      "year                       6335 non-null int64\n",
      "imdbID                     6335 non-null object\n",
      "genre                      6335 non-null object\n",
      "runtime                    6335 non-null int64\n",
      "rating                     6335 non-null float64\n",
      "metascore                  6335 non-null float64\n",
      "director                   6335 non-null object\n",
      "votes                      6335 non-null int32\n",
      "stars                      6335 non-null object\n",
      "writer                     6335 non-null object\n",
      "plot_keywords              6335 non-null object\n",
      "languages                  6335 non-null object\n",
      "country                    6335 non-null object\n",
      "cum_worldwide_gross        6335 non-null int64\n",
      "star_Nicolas Cage          6335 non-null int64\n",
      "star_Samuel L. Jackson     6335 non-null int64\n",
      "star_Robert De Niro        6335 non-null int64\n",
      "star_Nicole Kidman         6335 non-null int64\n",
      "star_Ewan McGregor         6335 non-null int64\n",
      "star_Morgan Freeman        6335 non-null int64\n",
      "star_Bruce Willis          6335 non-null int64\n",
      "star_Mark Wahlberg         6335 non-null int64\n",
      "star_James Franco          6335 non-null int64\n",
      "star_Julianne Moore        6335 non-null int64\n",
      "star_Owen Wilson           6335 non-null int64\n",
      "star_Matt Damon            6335 non-null int64\n",
      "star_Ryan Reynolds         6335 non-null int64\n",
      "star_Liam Neeson           6335 non-null int64\n",
      "star_Naomi Watts           6335 non-null int64\n",
      "writer_category            6335 non-null object\n",
      "language_English           6335 non-null int64\n",
      "language_French            6335 non-null int64\n",
      "language_Spanish           6335 non-null int64\n",
      "language_German            6335 non-null int64\n",
      "language_Italian           6335 non-null int64\n",
      "language_Japanese          6335 non-null int64\n",
      "language_Russian           6335 non-null int64\n",
      "language_Mandarin          6335 non-null int64\n",
      "language_Arabic            6335 non-null int64\n",
      "age                        6335 non-null int64\n",
      "genre_Mystery              6335 non-null int64\n",
      "genre_Musical              6335 non-null int64\n",
      "genre_Adult                6335 non-null int64\n",
      "genre_Comedy               6335 non-null int64\n",
      "genre_Drama                6335 non-null int64\n",
      "genre_War                  6335 non-null int64\n",
      "genre_Horror               6335 non-null int64\n",
      "genre_Sport                6335 non-null int64\n",
      "genre_Action               6335 non-null int64\n",
      "genre_Crime                6335 non-null int64\n",
      "genre_Animation            6335 non-null int64\n",
      "genre_Sci-Fi               6335 non-null int64\n",
      "genre_Family               6335 non-null int64\n",
      "genre_Western              6335 non-null int64\n",
      "genre_Fantasy              6335 non-null int64\n",
      "genre_History              6335 non-null int64\n",
      "genre_Thriller             6335 non-null int64\n",
      "genre_Biography            6335 non-null int64\n",
      "genre_Adventure            6335 non-null int64\n",
      "genre_Music                6335 non-null int64\n",
      "genre_Romance              6335 non-null int64\n",
      "director_category          6335 non-null object\n",
      "country_category           6335 non-null object\n",
      "log_cum_worldwide_gross    6335 non-null float64\n",
      "dtypes: float64(3), int32(1), int64(49), object(12)\n",
      "memory usage: 3.2+ MB\n"
     ]
    }
   ],
   "source": [
    "df_all.info()"
   ]
  },
  {
   "cell_type": "markdown",
   "metadata": {},
   "source": [
    "### plot_keywords (2)"
   ]
  },
  {
   "cell_type": "code",
   "execution_count": 123,
   "metadata": {},
   "outputs": [
    {
     "data": {
      "text/plain": [
       "255     [' cambridge university', ' husband wife relat...\n",
       "3595    [' watching tv', ' love', ' neighbor', ' money...\n",
       "4312    [' bank', ' bank robbery', ' sister sister rel...\n",
       "3729    [' male nudity', ' voyeur', ' threesome', ' re...\n",
       "3389    [' philippines', ' rescue mission', ' japanese...\n",
       "Name: plot_keywords, dtype: object"
      ]
     },
     "execution_count": 123,
     "metadata": {},
     "output_type": "execute_result"
    }
   ],
   "source": [
    "df_all.plot_keywords.sample(5)"
   ]
  },
  {
   "cell_type": "code",
   "execution_count": 124,
   "metadata": {},
   "outputs": [
    {
     "data": {
      "text/plain": [
       "\"[' dc comics', ' joker', ' psychopath', ' clown', ' criminal mastermind']\""
      ]
     },
     "execution_count": 124,
     "metadata": {},
     "output_type": "execute_result"
    }
   ],
   "source": [
    "df_all.plot_keywords[0]"
   ]
  },
  {
   "cell_type": "code",
   "execution_count": 125,
   "metadata": {},
   "outputs": [],
   "source": [
    "# the values are strings not lists"
   ]
  },
  {
   "cell_type": "code",
   "execution_count": 126,
   "metadata": {},
   "outputs": [],
   "source": [
    "df_all.plot_keywords=df_all.plot_keywords.apply(lambda x: x.split(','))"
   ]
  },
  {
   "cell_type": "code",
   "execution_count": 127,
   "metadata": {},
   "outputs": [],
   "source": [
    "df_all.plot_keywords=df_all.plot_keywords.apply(lambda lst: [x.strip('[').strip(']').strip().strip(\"\\'\").strip() for x in lst])"
   ]
  },
  {
   "cell_type": "code",
   "execution_count": 128,
   "metadata": {},
   "outputs": [
    {
     "data": {
      "text/plain": [
       "['dc comics', 'joker', 'psychopath', 'clown', 'criminal mastermind']"
      ]
     },
     "execution_count": 128,
     "metadata": {},
     "output_type": "execute_result"
    }
   ],
   "source": [
    "df_all.plot_keywords[0]"
   ]
  },
  {
   "cell_type": "code",
   "execution_count": 129,
   "metadata": {},
   "outputs": [],
   "source": [
    "plot_keywords_list = list(chain.from_iterable(df_all.plot_keywords))"
   ]
  },
  {
   "cell_type": "code",
   "execution_count": 130,
   "metadata": {},
   "outputs": [],
   "source": [
    "test=set(plot_keywords_list)"
   ]
  },
  {
   "cell_type": "code",
   "execution_count": 131,
   "metadata": {
    "scrolled": true
   },
   "outputs": [
    {
     "data": {
      "text/plain": [
       "['title written by female',\n",
       " 'sport in title',\n",
       " 'place name in title',\n",
       " 'dollar sign in title',\n",
       " 'apostrophe in title',\n",
       " 'alliterative title',\n",
       " 'first person title',\n",
       " 'family character name in title',\n",
       " 'cgi animal in live action title',\n",
       " 'colour in title']"
      ]
     },
     "execution_count": 131,
     "metadata": {},
     "output_type": "execute_result"
    }
   ],
   "source": [
    "[x for x in test if 'title' in x][:10]"
   ]
  },
  {
   "cell_type": "code",
   "execution_count": 132,
   "metadata": {},
   "outputs": [],
   "source": [
    "# keywords with 'title' in do not caracterize well the plot "
   ]
  },
  {
   "cell_type": "code",
   "execution_count": 133,
   "metadata": {},
   "outputs": [
    {
     "data": {
      "text/plain": [
       "['male rear nudity',\n",
       " 'public nudity',\n",
       " 'female full rear nudity',\n",
       " 'brief male full frontal nudity',\n",
       " 'rear nudity',\n",
       " 'full frontal nudity',\n",
       " 'female explicit nudity',\n",
       " 'male nudity',\n",
       " 'female rear nudity',\n",
       " 'partial female nudity']"
      ]
     },
     "execution_count": 133,
     "metadata": {},
     "output_type": "execute_result"
    }
   ],
   "source": [
    "[x for x in test if 'nudity' in x][:10]"
   ]
  },
  {
   "cell_type": "code",
   "execution_count": 134,
   "metadata": {},
   "outputs": [
    {
     "data": {
      "text/plain": [
       "['sex addiction',\n",
       " 'caught having sex',\n",
       " 'falling asleep during sex',\n",
       " 'interracial sex',\n",
       " 'sex in a toilet',\n",
       " 'sex in hotel room',\n",
       " 'awkward sex',\n",
       " 'sexual abuse',\n",
       " 'inviting sexual advances',\n",
       " 'sex talk']"
      ]
     },
     "execution_count": 134,
     "metadata": {},
     "output_type": "execute_result"
    }
   ],
   "source": [
    "[x for x in test if 'sex' in x][:10]"
   ]
  },
  {
   "cell_type": "code",
   "execution_count": 135,
   "metadata": {},
   "outputs": [
    {
     "data": {
      "text/plain": [
       "['bare chested boy',\n",
       " 'bare chested male bondage',\n",
       " 'bare ass',\n",
       " 'bare midriff',\n",
       " 'bare breasts',\n",
       " 'woman with a bare midriff',\n",
       " 'bare butt',\n",
       " 'camera shot of bare feet',\n",
       " 'bare bottom',\n",
       " '\" woman\\'s bare butt\"']"
      ]
     },
     "execution_count": 135,
     "metadata": {},
     "output_type": "execute_result"
    }
   ],
   "source": [
    "[x for x in test if 'bare ' in x][:10]"
   ]
  },
  {
   "cell_type": "code",
   "execution_count": 136,
   "metadata": {},
   "outputs": [],
   "source": [
    "# we need to simplify some of the keywords"
   ]
  },
  {
   "cell_type": "code",
   "execution_count": 137,
   "metadata": {},
   "outputs": [],
   "source": [
    "def simplify_keywords(lst):\n",
    "    lst2=[]\n",
    "    for k in lst:\n",
    "        if 'sex' in k:\n",
    "            lst2.append('sex')\n",
    "        elif 'nudity' in k:\n",
    "            lst2.append('nudity')\n",
    "        elif 'bare ' in k:\n",
    "            lst2.append('nudity')\n",
    "        elif 'title' not in k:\n",
    "            lst2.append(k)\n",
    "    lst2=list(set(lst2)) # no need to take into account the same keyword twice for the same movie\n",
    "    return lst2"
   ]
  },
  {
   "cell_type": "code",
   "execution_count": 138,
   "metadata": {},
   "outputs": [],
   "source": [
    "df_all['keywords_simple']=df_all.plot_keywords.apply(simplify_keywords)"
   ]
  },
  {
   "cell_type": "code",
   "execution_count": 139,
   "metadata": {},
   "outputs": [],
   "source": [
    "keywords_list = list(chain.from_iterable(df_all.keywords_simple))"
   ]
  },
  {
   "cell_type": "code",
   "execution_count": 140,
   "metadata": {},
   "outputs": [],
   "source": [
    "keywords_dict = Counter(keywords_list)"
   ]
  },
  {
   "cell_type": "code",
   "execution_count": 141,
   "metadata": {},
   "outputs": [
    {
     "data": {
      "text/plain": [
       "[('nudity', 616),\n",
       " ('sex', 507),\n",
       " ('f rated', 123),\n",
       " ('murder', 113),\n",
       " ('love', 88),\n",
       " ('female protagonist', 86),\n",
       " ('friendship', 83),\n",
       " ('revenge', 81),\n",
       " ('police', 80),\n",
       " ('new york city', 79),\n",
       " ('sequel', 78),\n",
       " ('father son relationship', 73),\n",
       " ('death', 72),\n",
       " ('dog', 70),\n",
       " ('high school', 66),\n",
       " ('father daughter relationship', 66),\n",
       " ('violence', 65),\n",
       " ('male objectification', 64),\n",
       " ('friend', 64),\n",
       " ('based on true story', 60)]"
      ]
     },
     "execution_count": 141,
     "metadata": {},
     "output_type": "execute_result"
    }
   ],
   "source": [
    "keywords_dict.most_common(20)"
   ]
  },
  {
   "cell_type": "code",
   "execution_count": 142,
   "metadata": {},
   "outputs": [],
   "source": [
    "# we only take into account the 11 most frequent keywords (>=78)"
   ]
  },
  {
   "cell_type": "code",
   "execution_count": 143,
   "metadata": {},
   "outputs": [],
   "source": [
    "keyword_11freq = [keywd[0] for keywd in keywords_dict.most_common(11)] "
   ]
  },
  {
   "cell_type": "code",
   "execution_count": 144,
   "metadata": {},
   "outputs": [],
   "source": [
    "for keywd in keyword_11freq:\n",
    "    df_all['k_'+keywd]=df_all.keywords_simple.apply(lambda x: 1 if keywd in x else 0)"
   ]
  },
  {
   "cell_type": "code",
   "execution_count": 145,
   "metadata": {},
   "outputs": [
    {
     "data": {
      "text/plain": [
       "(6335, 77)"
      ]
     },
     "execution_count": 145,
     "metadata": {},
     "output_type": "execute_result"
    }
   ],
   "source": [
    "df_all.shape"
   ]
  },
  {
   "cell_type": "code",
   "execution_count": 146,
   "metadata": {},
   "outputs": [],
   "source": [
    "df_all.to_csv('movies_imdb_clean.csv', index=False)"
   ]
  },
  {
   "cell_type": "code",
   "execution_count": null,
   "metadata": {},
   "outputs": [],
   "source": []
  }
 ],
 "metadata": {
  "kernelspec": {
   "display_name": "Python 3",
   "language": "python",
   "name": "python3"
  },
  "language_info": {
   "codemirror_mode": {
    "name": "ipython",
    "version": 3
   },
   "file_extension": ".py",
   "mimetype": "text/x-python",
   "name": "python",
   "nbconvert_exporter": "python",
   "pygments_lexer": "ipython3",
   "version": "3.7.3"
  }
 },
 "nbformat": 4,
 "nbformat_minor": 2
}
